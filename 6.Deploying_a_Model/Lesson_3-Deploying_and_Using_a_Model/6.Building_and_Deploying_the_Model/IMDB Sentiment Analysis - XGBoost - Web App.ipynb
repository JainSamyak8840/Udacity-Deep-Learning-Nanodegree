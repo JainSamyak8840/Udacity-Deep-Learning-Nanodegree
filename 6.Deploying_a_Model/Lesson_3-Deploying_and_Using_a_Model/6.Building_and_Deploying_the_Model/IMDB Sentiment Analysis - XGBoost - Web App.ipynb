{
 "cells": [
  {
   "cell_type": "markdown",
   "metadata": {},
   "source": [
    "# Sentiment Analysis Web App\n",
    "\n",
    "_Deep Learning Nanodegree Program | Deployment_\n",
    "\n",
    "---\n",
    "\n",
    "In this notebook we will use Amazon's SageMaker service to construct a random tree model to predict the sentiment of a movie review. In addition, we will deploy this model to an endpoint and construct a very simple web app which will interact with our model's deployed endpoint.\n",
    "\n",
    "## General Outline\n",
    "\n",
    "Typically, when using a notebook instance with SageMaker, you will proceed through the following steps. Of course, not every step will need to be done with each project. Also, there is quite a lot of room for variation in many of the steps, as you will see throughout these lessons.\n",
    "\n",
    "1. Download or otherwise retrieve the data.\n",
    "2. Process / Prepare the data.\n",
    "3. Upload the processed data to S3.\n",
    "4. Train a chosen model.\n",
    "5. Test the trained model (typically using a batch transform job).\n",
    "6. Deploy the trained model.\n",
    "7. Use the deployed model.\n",
    "\n",
    "In this notebook we will progress through each of the steps above. We will also see that the final step, using the deployed model, can be quite challenging."
   ]
  },
  {
   "cell_type": "markdown",
   "metadata": {},
   "source": [
    "## Step 1: Downloading the data\n",
    "\n",
    "The dataset we are going to use is very popular among researchers in Natural Language Processing, usually referred to as the [IMDb dataset](http://ai.stanford.edu/~amaas/data/sentiment/). It consists of movie reviews from the website [imdb.com](http://www.imdb.com/), each labeled as either '**pos**itive', if the reviewer enjoyed the film, or '**neg**ative' otherwise.\n",
    "\n",
    "> Maas, Andrew L., et al. [Learning Word Vectors for Sentiment Analysis](http://ai.stanford.edu/~amaas/data/sentiment/). In _Proceedings of the 49th Annual Meeting of the Association for Computational Linguistics: Human Language Technologies_. Association for Computational Linguistics, 2011.\n",
    "\n",
    "We begin by using some Jupyter Notebook magic to download and extract the dataset."
   ]
  },
  {
   "cell_type": "code",
   "execution_count": 1,
   "metadata": {},
   "outputs": [
    {
     "name": "stdout",
     "output_type": "stream",
     "text": [
      "mkdir: cannot create directory ‘../data’: File exists\n",
      "--2019-12-10 08:04:04--  http://ai.stanford.edu/~amaas/data/sentiment/aclImdb_v1.tar.gz\n",
      "Resolving ai.stanford.edu (ai.stanford.edu)... 171.64.68.10\n",
      "Connecting to ai.stanford.edu (ai.stanford.edu)|171.64.68.10|:80... connected.\n",
      "HTTP request sent, awaiting response... 200 OK\n",
      "Length: 84125825 (80M) [application/x-gzip]\n",
      "Saving to: ‘../data/aclImdb_v1.tar.gz’\n",
      "\n",
      "../data/aclImdb_v1. 100%[===================>]  80.23M  18.7MB/s    in 5.5s    \n",
      "\n",
      "2019-12-10 08:04:09 (14.5 MB/s) - ‘../data/aclImdb_v1.tar.gz’ saved [84125825/84125825]\n",
      "\n"
     ]
    }
   ],
   "source": [
    "%mkdir ../data\n",
    "!wget -O ../data/aclImdb_v1.tar.gz http://ai.stanford.edu/~amaas/data/sentiment/aclImdb_v1.tar.gz\n",
    "!tar -zxf ../data/aclImdb_v1.tar.gz -C ../data"
   ]
  },
  {
   "cell_type": "markdown",
   "metadata": {},
   "source": [
    "## Step 2: Preparing and Processing the data\n",
    "\n",
    "The data we have downloaded is split into various files, each of which contains a single review. It will be much easier going forward if we combine these individual files into two large files, one for training and one for testing."
   ]
  },
  {
   "cell_type": "code",
   "execution_count": 2,
   "metadata": {},
   "outputs": [],
   "source": [
    "import os\n",
    "import glob\n",
    "\n",
    "def read_imdb_data(data_dir='../data/aclImdb'):\n",
    "    data = {}\n",
    "    labels = {}\n",
    "    \n",
    "    for data_type in ['train', 'test']:\n",
    "        data[data_type] = {}\n",
    "        labels[data_type] = {}\n",
    "        \n",
    "        for sentiment in ['pos', 'neg']:\n",
    "            data[data_type][sentiment] = []\n",
    "            labels[data_type][sentiment] = []\n",
    "            \n",
    "            path = os.path.join(data_dir, data_type, sentiment, '*.txt')\n",
    "            files = glob.glob(path)\n",
    "            \n",
    "            for f in files:\n",
    "                with open(f) as review:\n",
    "                    data[data_type][sentiment].append(review.read())\n",
    "                    # Here we represent a positive review by '1' and a negative review by '0'\n",
    "                    labels[data_type][sentiment].append(1 if sentiment == 'pos' else 0)\n",
    "                    \n",
    "            assert len(data[data_type][sentiment]) == len(labels[data_type][sentiment]), \\\n",
    "                    \"{}/{} data size does not match labels size\".format(data_type, sentiment)\n",
    "                \n",
    "    return data, labels"
   ]
  },
  {
   "cell_type": "code",
   "execution_count": 3,
   "metadata": {},
   "outputs": [
    {
     "name": "stdout",
     "output_type": "stream",
     "text": [
      "IMDB reviews: train = 12500 pos / 12500 neg, test = 12500 pos / 12500 neg\n"
     ]
    }
   ],
   "source": [
    "data, labels = read_imdb_data()\n",
    "print(\"IMDB reviews: train = {} pos / {} neg, test = {} pos / {} neg\".format(\n",
    "            len(data['train']['pos']), len(data['train']['neg']),\n",
    "            len(data['test']['pos']), len(data['test']['neg'])))"
   ]
  },
  {
   "cell_type": "code",
   "execution_count": 4,
   "metadata": {},
   "outputs": [],
   "source": [
    "from sklearn.utils import shuffle\n",
    "\n",
    "def prepare_imdb_data(data, labels):\n",
    "    \"\"\"Prepare training and test sets from IMDb movie reviews.\"\"\"\n",
    "    \n",
    "    #Combine positive and negative reviews and labels\n",
    "    data_train = data['train']['pos'] + data['train']['neg']\n",
    "    data_test = data['test']['pos'] + data['test']['neg']\n",
    "    labels_train = labels['train']['pos'] + labels['train']['neg']\n",
    "    labels_test = labels['test']['pos'] + labels['test']['neg']\n",
    "    \n",
    "    #Shuffle reviews and corresponding labels within training and test sets\n",
    "    data_train, labels_train = shuffle(data_train, labels_train)\n",
    "    data_test, labels_test = shuffle(data_test, labels_test)\n",
    "    \n",
    "    # Return a unified training data, test data, training labels, test labets\n",
    "    return data_train, data_test, labels_train, labels_test"
   ]
  },
  {
   "cell_type": "code",
   "execution_count": 5,
   "metadata": {},
   "outputs": [
    {
     "name": "stdout",
     "output_type": "stream",
     "text": [
      "IMDb reviews (combined): train = 25000, test = 25000\n"
     ]
    }
   ],
   "source": [
    "train_X, test_X, train_y, test_y = prepare_imdb_data(data, labels)\n",
    "print(\"IMDb reviews (combined): train = {}, test = {}\".format(len(train_X), len(test_X)))"
   ]
  },
  {
   "cell_type": "code",
   "execution_count": 6,
   "metadata": {},
   "outputs": [
    {
     "data": {
      "text/plain": [
       "'Version: Universal / Hong Kong Legends R4 DVD release. Cantonese / English subtitles<br /><br />Once upon a time, five years ago, the world was obsessed with \\'The Matrix\\', and I was perhaps one of the few fifteen year olds left who still believed that \\'Terminator\\' was better than \\'Matrix\\'. I was but a simple teenage boy, looking for a good action movie, and then there was a shining light on a TV station I had never really watched, a little station known as SBS. One night I noticed in the TV guide that a movie starring Jackie Chan - \\'Police Story\\' would be on later. Being fifteen, and having only seen \\'Rumble in the Bronx\\' and \\'Rush Hour\\', I said... \"WOW AWESOME\" and sat down to watch it, and continually shouted \"WOW AWESOME\" as the movie progressed. Two weeks later, after SBS had shown the \\'Police Story\\' trilogy, I knew I had found my new favourite actor.<br /><br />Jackie plays Chan Ka Kui, a Hong Kong cop who busts a major drug-lord, Chu (Yuen Chor). Chu\\'s secretary, Selina Fong (Brigitte Lin), is being held by the police as a witness against Chu, and Chan is assigned to protect her. Things go bad - reaaaal bad - when Chu\\'s case is dismissed and he decides he wants Fong and Chan dead.<br /><br />\\'Police Story\\' is one of the greatest action movies ever, and certainly one of my favourite Jackie Chan films. It starts off strong, and ends with one of the most incredible action sequences ever filmed. Everything in between is great. However, some of the funny parts may seem a little tasteless to more than a few people...<br /><br />As a story, this is still one of Jackie\\'s better efforts. For an action movie, the story is pretty good, and Jackie is a much better actor in this than he is in the acting & plot intensive \\'New Police Story\\'. This isn\\'t \\'Miracles\\', but maybe that\\'s a good thing.<br /><br />\\'Police Story\\' is one of Jackie\\'s finest works. It got me hooked on Jackie Chan movies, and should provide a nice start for any potential Jackie fans. The bad news for anyone who sees this first is that Jackie Chan movies don\\'t come much better - 10/10'"
      ]
     },
     "execution_count": 6,
     "metadata": {},
     "output_type": "execute_result"
    }
   ],
   "source": [
    "train_X[100]"
   ]
  },
  {
   "cell_type": "markdown",
   "metadata": {},
   "source": [
    "## Processing the data\n",
    "\n",
    "Now that we have our training and testing datasets merged and ready to use, we need to start processing the raw data into something that will be useable by our machine learning algorithm. To begin with, we remove any html formatting and any non-alpha numeric characters that may appear in the reviews. We will do this in a very simplistic way using Python's regular expression module. We will discuss the reason for this rather simplistic pre-processing later on."
   ]
  },
  {
   "cell_type": "code",
   "execution_count": 7,
   "metadata": {},
   "outputs": [],
   "source": [
    "import re\n",
    "\n",
    "REPLACE_NO_SPACE = re.compile(\"(\\.)|(\\;)|(\\:)|(\\!)|(\\')|(\\?)|(\\,)|(\\\")|(\\()|(\\))|(\\[)|(\\])\")\n",
    "REPLACE_WITH_SPACE = re.compile(\"(<br\\s*/><br\\s*/>)|(\\-)|(\\/)\")\n",
    "\n",
    "def review_to_words(review):\n",
    "    words = REPLACE_NO_SPACE.sub(\"\", review.lower())\n",
    "    words = REPLACE_WITH_SPACE.sub(\" \", words)\n",
    "    return words"
   ]
  },
  {
   "cell_type": "code",
   "execution_count": 8,
   "metadata": {},
   "outputs": [
    {
     "data": {
      "text/plain": [
       "'version universal   hong kong legends r4 dvd release cantonese   english subtitles once upon a time five years ago the world was obsessed with the matrix and i was perhaps one of the few fifteen year olds left who still believed that terminator was better than matrix i was but a simple teenage boy looking for a good action movie and then there was a shining light on a tv station i had never really watched a little station known as sbs one night i noticed in the tv guide that a movie starring jackie chan   police story would be on later being fifteen and having only seen rumble in the bronx and rush hour i said wow awesome and sat down to watch it and continually shouted wow awesome as the movie progressed two weeks later after sbs had shown the police story trilogy i knew i had found my new favourite actor jackie plays chan ka kui a hong kong cop who busts a major drug lord chu yuen chor chus secretary selina fong brigitte lin is being held by the police as a witness against chu and chan is assigned to protect her things go bad   reaaaal bad   when chus case is dismissed and he decides he wants fong and chan dead police story is one of the greatest action movies ever and certainly one of my favourite jackie chan films it starts off strong and ends with one of the most incredible action sequences ever filmed everything in between is great however some of the funny parts may seem a little tasteless to more than a few people as a story this is still one of jackies better efforts for an action movie the story is pretty good and jackie is a much better actor in this than he is in the acting & plot intensive new police story this isnt miracles but maybe thats a good thing police story is one of jackies finest works it got me hooked on jackie chan movies and should provide a nice start for any potential jackie fans the bad news for anyone who sees this first is that jackie chan movies dont come much better   10 10'"
      ]
     },
     "execution_count": 8,
     "metadata": {},
     "output_type": "execute_result"
    }
   ],
   "source": [
    "review_to_words(train_X[100])"
   ]
  },
  {
   "cell_type": "code",
   "execution_count": 9,
   "metadata": {},
   "outputs": [],
   "source": [
    "import pickle\n",
    "\n",
    "cache_dir = os.path.join(\"../cache\", \"sentiment_web_app\")  # where to store cache files\n",
    "os.makedirs(cache_dir, exist_ok=True)  # ensure cache directory exists\n",
    "\n",
    "def preprocess_data(data_train, data_test, labels_train, labels_test,\n",
    "                    cache_dir=cache_dir, cache_file=\"preprocessed_data.pkl\"):\n",
    "    \"\"\"Convert each review to words; read from cache if available.\"\"\"\n",
    "\n",
    "    # If cache_file is not None, try to read from it first\n",
    "    cache_data = None\n",
    "    if cache_file is not None:\n",
    "        try:\n",
    "            with open(os.path.join(cache_dir, cache_file), \"rb\") as f:\n",
    "                cache_data = pickle.load(f)\n",
    "            print(\"Read preprocessed data from cache file:\", cache_file)\n",
    "        except:\n",
    "            pass  # unable to read from cache, but that's okay\n",
    "    \n",
    "    # If cache is missing, then do the heavy lifting\n",
    "    if cache_data is None:\n",
    "        # Preprocess training and test data to obtain words for each review\n",
    "        #words_train = list(map(review_to_words, data_train))\n",
    "        #words_test = list(map(review_to_words, data_test))\n",
    "        words_train = [review_to_words(review) for review in data_train]\n",
    "        words_test = [review_to_words(review) for review in data_test]\n",
    "        \n",
    "        # Write to cache file for future runs\n",
    "        if cache_file is not None:\n",
    "            cache_data = dict(words_train=words_train, words_test=words_test,\n",
    "                              labels_train=labels_train, labels_test=labels_test)\n",
    "            with open(os.path.join(cache_dir, cache_file), \"wb\") as f:\n",
    "                pickle.dump(cache_data, f)\n",
    "            print(\"Wrote preprocessed data to cache file:\", cache_file)\n",
    "    else:\n",
    "        # Unpack data loaded from cache file\n",
    "        words_train, words_test, labels_train, labels_test = (cache_data['words_train'],\n",
    "                cache_data['words_test'], cache_data['labels_train'], cache_data['labels_test'])\n",
    "    \n",
    "    return words_train, words_test, labels_train, labels_test"
   ]
  },
  {
   "cell_type": "code",
   "execution_count": 10,
   "metadata": {},
   "outputs": [
    {
     "name": "stdout",
     "output_type": "stream",
     "text": [
      "Read preprocessed data from cache file: preprocessed_data.pkl\n"
     ]
    }
   ],
   "source": [
    "# Preprocess data\n",
    "train_X, test_X, train_y, test_y = preprocess_data(train_X, test_X, train_y, test_y)"
   ]
  },
  {
   "cell_type": "markdown",
   "metadata": {},
   "source": [
    "### Extract Bag-of-Words features\n",
    "\n",
    "For the model we will be implementing, rather than using the reviews directly, we are going to transform each review into a Bag-of-Words feature representation. Keep in mind that 'in the wild' we will only have access to the training set so our transformer can only use the training set to construct a representation."
   ]
  },
  {
   "cell_type": "code",
   "execution_count": 11,
   "metadata": {},
   "outputs": [],
   "source": [
    "import numpy as np\n",
    "from sklearn.feature_extraction.text import CountVectorizer\n",
    "from sklearn.externals import joblib\n",
    "# joblib is an enhanced version of pickle that is more efficient for storing NumPy arrays\n",
    "\n",
    "def extract_BoW_features(words_train, words_test, vocabulary_size=5000,\n",
    "                         cache_dir=cache_dir, cache_file=\"bow_features.pkl\"):\n",
    "    \"\"\"Extract Bag-of-Words for a given set of documents, already preprocessed into words.\"\"\"\n",
    "    \n",
    "    # If cache_file is not None, try to read from it first\n",
    "    cache_data = None\n",
    "    if cache_file is not None:\n",
    "        try:\n",
    "            with open(os.path.join(cache_dir, cache_file), \"rb\") as f:\n",
    "                cache_data = joblib.load(f)\n",
    "            print(\"Read features from cache file:\", cache_file)\n",
    "        except:\n",
    "            pass  # unable to read from cache, but that's okay\n",
    "    \n",
    "    # If cache is missing, then do the heavy lifting\n",
    "    if cache_data is None:\n",
    "        # Fit a vectorizer to training documents and use it to transform them\n",
    "        # NOTE: Training documents have already been preprocessed and tokenized into words;\n",
    "        #       pass in dummy functions to skip those steps, e.g. preprocessor=lambda x: x\n",
    "        vectorizer = CountVectorizer(max_features=vocabulary_size)\n",
    "        features_train = vectorizer.fit_transform(words_train).toarray()\n",
    "\n",
    "        # Apply the same vectorizer to transform the test documents (ignore unknown words)\n",
    "        features_test = vectorizer.transform(words_test).toarray()\n",
    "        \n",
    "        # NOTE: Remember to convert the features using .toarray() for a compact representation\n",
    "        \n",
    "        # Write to cache file for future runs (store vocabulary as well)\n",
    "        if cache_file is not None:\n",
    "            vocabulary = vectorizer.vocabulary_\n",
    "            cache_data = dict(features_train=features_train, features_test=features_test,\n",
    "                             vocabulary=vocabulary)\n",
    "            with open(os.path.join(cache_dir, cache_file), \"wb\") as f:\n",
    "                joblib.dump(cache_data, f)\n",
    "            print(\"Wrote features to cache file:\", cache_file)\n",
    "    else:\n",
    "        # Unpack data loaded from cache file\n",
    "        features_train, features_test, vocabulary = (cache_data['features_train'],\n",
    "                cache_data['features_test'], cache_data['vocabulary'])\n",
    "    \n",
    "    # Return both the extracted features as well as the vocabulary\n",
    "    return features_train, features_test, vocabulary"
   ]
  },
  {
   "cell_type": "code",
   "execution_count": 12,
   "metadata": {},
   "outputs": [
    {
     "name": "stdout",
     "output_type": "stream",
     "text": [
      "Read features from cache file: bow_features.pkl\n"
     ]
    }
   ],
   "source": [
    "# Extract Bag of Words features for both training and test datasets\n",
    "train_X, test_X, vocabulary = extract_BoW_features(train_X, test_X)"
   ]
  },
  {
   "cell_type": "code",
   "execution_count": 13,
   "metadata": {},
   "outputs": [
    {
     "data": {
      "text/plain": [
       "5000"
      ]
     },
     "execution_count": 13,
     "metadata": {},
     "output_type": "execute_result"
    }
   ],
   "source": [
    "len(train_X[100])"
   ]
  },
  {
   "cell_type": "markdown",
   "metadata": {},
   "source": [
    "## Step 3: Upload data to S3\n",
    "\n",
    "Now that we have created the feature representation of our training (and testing) data, it is time to start setting up and using the XGBoost classifier provided by SageMaker.\n",
    "\n",
    "### Writing the datasets\n",
    "\n",
    "The XGBoost classifier that we will be using requires the dataset to be written to a file and stored using Amazon S3. To do this, we will start by splitting the training dataset into two parts, the data we will train the model with and a validation set. Then, we will write those datasets to a file locally and then upload the files to S3. In addition, we will write the test set to a file and upload that file to S3. This is so that we can use SageMakers Batch Transform functionality to test our model once we've fit it."
   ]
  },
  {
   "cell_type": "code",
   "execution_count": 14,
   "metadata": {},
   "outputs": [],
   "source": [
    "import pandas as pd\n",
    "\n",
    "# Earlier we shuffled the training dataset so to make things simple we can just assign\n",
    "# the first 10 000 reviews to the validation set and use the remaining reviews for training.\n",
    "val_X = pd.DataFrame(train_X[:10000])\n",
    "train_X = pd.DataFrame(train_X[10000:])\n",
    "\n",
    "val_y = pd.DataFrame(train_y[:10000])\n",
    "train_y = pd.DataFrame(train_y[10000:])"
   ]
  },
  {
   "cell_type": "markdown",
   "metadata": {},
   "source": [
    "The documentation for the XGBoost algorithm in SageMaker requires that the training and validation datasets should contain no headers or index and that the label should occur first for each sample.\n",
    "\n",
    "For more information about this and other algorithms, the SageMaker developer documentation can be found on __[Amazon's website.](https://docs.aws.amazon.com/sagemaker/latest/dg/)__"
   ]
  },
  {
   "cell_type": "code",
   "execution_count": 15,
   "metadata": {},
   "outputs": [],
   "source": [
    "# First we make sure that the local directory in which we'd like to store the training and validation csv files exists.\n",
    "data_dir = '../data/sentiment_web_app'\n",
    "if not os.path.exists(data_dir):\n",
    "    os.makedirs(data_dir)"
   ]
  },
  {
   "cell_type": "code",
   "execution_count": 16,
   "metadata": {},
   "outputs": [],
   "source": [
    "pd.DataFrame(test_X).to_csv(os.path.join(data_dir, 'test.csv'), header=False, index=False)\n",
    "\n",
    "pd.concat([val_y, val_X], axis=1).to_csv(os.path.join(data_dir, 'validation.csv'), header=False, index=False)\n",
    "pd.concat([train_y, train_X], axis=1).to_csv(os.path.join(data_dir, 'train.csv'), header=False, index=False)"
   ]
  },
  {
   "cell_type": "code",
   "execution_count": 17,
   "metadata": {},
   "outputs": [],
   "source": [
    "# To save a bit of memory we can set text_X, train_X, val_X, train_y and val_y to None.\n",
    "\n",
    "test_X = train_X = val_X = train_y = val_y = None"
   ]
  },
  {
   "cell_type": "markdown",
   "metadata": {},
   "source": [
    "### Uploading Training / Validation files to S3\n",
    "\n",
    "Amazon's S3 service allows us to store files that can be accessed by both the built-in training models such as the XGBoost model we will be using as well as custom models such as the one we will see a little later.\n",
    "\n",
    "For this and most other tasks we will be doing using SageMaker, there are two methods we could use. The first is to use the low level functionality of SageMaker which requires knowing each of the objects involved in the SageMaker environment. The second is to use the high level functionality in which certain choices have been made on the user's behalf. The low level approach benefits from allowing the user a great deal of flexibility while the high level approach makes development much quicker. For our purposes we will opt to use the high level approach although using the low-level approach is certainly an option.\n",
    "\n",
    "Recall the method `upload_data()` which is a member of the object representing our current SageMaker session. What this method does is upload the data to the default bucket (which is created if it does not exist) into the path described by the key_prefix variable. To see this for yourself, once you have uploaded the data files, go to the S3 console and look to see where the files have been uploaded.\n",
    "\n",
    "For additional resources, see the __[SageMaker API documentation](http://sagemaker.readthedocs.io/en/latest/)__ and in addition the __[SageMaker Developer Guide.](https://docs.aws.amazon.com/sagemaker/latest/dg/)__"
   ]
  },
  {
   "cell_type": "code",
   "execution_count": 18,
   "metadata": {},
   "outputs": [],
   "source": [
    "import sagemaker\n",
    "\n",
    "session = sagemaker.Session() # Store the current SageMaker session\n",
    "\n",
    "# S3 prefix (which folder will we use)\n",
    "prefix = 'sentiment-web-app'\n",
    "\n",
    "test_location = session.upload_data(os.path.join(data_dir, 'test.csv'), key_prefix=prefix)\n",
    "val_location = session.upload_data(os.path.join(data_dir, 'validation.csv'), key_prefix=prefix)\n",
    "train_location = session.upload_data(os.path.join(data_dir, 'train.csv'), key_prefix=prefix)"
   ]
  },
  {
   "cell_type": "markdown",
   "metadata": {},
   "source": [
    "## Step 4: Creating the XGBoost model\n",
    "\n",
    "Now that the data has been uploaded it is time to create the XGBoost model. To begin with, we need to do some setup. At this point it is worth discussing what a model is in SageMaker. It is easiest to think of a model of comprising three different objects in the SageMaker ecosystem, which interact with one another.\n",
    "\n",
    "- Model Artifacts\n",
    "- Training Code (Container)\n",
    "- Inference Code (Container)\n",
    "\n",
    "The Model Artifacts are what you might think of as the actual model itself. For example, if you were building a neural network, the model artifacts would be the weights of the various layers. In our case, for an XGBoost model, the artifacts are the actual trees that are created during training.\n",
    "\n",
    "The other two objects, the training code and the inference code are then used to manipulate the training artifacts. More precisely, the training code uses the training data that is provided and creates the model artifacts, while the inference code uses the model artifacts to make predictions on new data.\n",
    "\n",
    "The way that SageMaker runs the training and inference code is by making use of Docker containers. For now, think of a container as being a way of packaging code up so that dependencies aren't an issue."
   ]
  },
  {
   "cell_type": "code",
   "execution_count": 19,
   "metadata": {},
   "outputs": [],
   "source": [
    "from sagemaker import get_execution_role\n",
    "\n",
    "# Our current execution role is required when creating the model as the training\n",
    "# and inference code will need to access the model artifacts.\n",
    "role = get_execution_role()"
   ]
  },
  {
   "cell_type": "code",
   "execution_count": 20,
   "metadata": {},
   "outputs": [
    {
     "name": "stderr",
     "output_type": "stream",
     "text": [
      "WARNING:root:There is a more up to date SageMaker XGBoost image. To use the newer image, please set 'repo_version'='0.90-1'. For example:\n",
      "\tget_image_uri(region, 'xgboost', '0.90-1').\n"
     ]
    }
   ],
   "source": [
    "# We need to retrieve the location of the container which is provided by Amazon for using XGBoost.\n",
    "# As a matter of convenience, the training and inference code both use the same container.\n",
    "from sagemaker.amazon.amazon_estimator import get_image_uri\n",
    "\n",
    "container = get_image_uri(session.boto_region_name, 'xgboost')"
   ]
  },
  {
   "cell_type": "code",
   "execution_count": 21,
   "metadata": {},
   "outputs": [],
   "source": [
    "# First we create a SageMaker estimator object for our model.\n",
    "xgb = sagemaker.estimator.Estimator(container, # The location of the container we wish to use\n",
    "                                    role,                                    # What is our current IAM Role\n",
    "                                    train_instance_count=1,                  # How many compute instances\n",
    "                                    train_instance_type='ml.m4.xlarge',      # What kind of compute instances\n",
    "                                    output_path='s3://{}/{}/output'.format(session.default_bucket(), prefix),\n",
    "                                    sagemaker_session=session)\n",
    "\n",
    "# And then set the algorithm specific parameters.\n",
    "xgb.set_hyperparameters(max_depth=5,\n",
    "                        eta=0.2,\n",
    "                        gamma=4,\n",
    "                        min_child_weight=6,\n",
    "                        subsample=0.8,\n",
    "                        silent=0,\n",
    "                        objective='binary:logistic',\n",
    "                        early_stopping_rounds=10,\n",
    "                        num_round=500)"
   ]
  },
  {
   "cell_type": "markdown",
   "metadata": {},
   "source": [
    "### Fit the XGBoost model\n",
    "\n",
    "Now that our model has been set up we simply need to attach the training and validation datasets and then ask SageMaker to set up the computation."
   ]
  },
  {
   "cell_type": "code",
   "execution_count": 22,
   "metadata": {},
   "outputs": [],
   "source": [
    "s3_input_train = sagemaker.s3_input(s3_data=train_location, content_type='csv')\n",
    "s3_input_validation = sagemaker.s3_input(s3_data=val_location, content_type='csv')"
   ]
  },
  {
   "cell_type": "code",
   "execution_count": 23,
   "metadata": {},
   "outputs": [
    {
     "name": "stdout",
     "output_type": "stream",
     "text": [
      "2019-12-10 08:15:48 Starting - Starting the training job...\n",
      "2019-12-10 08:15:49 Starting - Launching requested ML instances.........\n",
      "2019-12-10 08:17:23 Starting - Preparing the instances for training......\n",
      "2019-12-10 08:18:26 Downloading - Downloading input data...\n",
      "2019-12-10 08:19:18 Training - Training image download completed. Training in progress..\u001b[34mArguments: train\u001b[0m\n",
      "\u001b[34m[2019-12-10:08:19:19:INFO] Running standalone xgboost training.\u001b[0m\n",
      "\u001b[34m[2019-12-10:08:19:19:INFO] File size need to be processed in the node: 238.5mb. Available memory size in the node: 8528.14mb\u001b[0m\n",
      "\u001b[34m[2019-12-10:08:19:19:INFO] Determined delimiter of CSV input is ','\u001b[0m\n",
      "\u001b[34m[08:19:19] S3DistributionType set as FullyReplicated\u001b[0m\n",
      "\u001b[34m[08:19:21] 15000x5000 matrix with 75000000 entries loaded from /opt/ml/input/data/train?format=csv&label_column=0&delimiter=,\u001b[0m\n",
      "\u001b[34m[2019-12-10:08:19:21:INFO] Determined delimiter of CSV input is ','\u001b[0m\n",
      "\u001b[34m[08:19:21] S3DistributionType set as FullyReplicated\u001b[0m\n",
      "\u001b[34m[08:19:22] 10000x5000 matrix with 50000000 entries loaded from /opt/ml/input/data/validation?format=csv&label_column=0&delimiter=,\u001b[0m\n",
      "\u001b[34m[08:19:25] src/tree/updater_prune.cc:74: tree pruning end, 1 roots, 44 extra nodes, 4 pruned nodes, max_depth=5\u001b[0m\n",
      "\u001b[34m[0]#011train-error:0.303533#011validation-error:0.3132\u001b[0m\n",
      "\u001b[34mMultiple eval metrics have been passed: 'validation-error' will be used for early stopping.\n",
      "\u001b[0m\n",
      "\u001b[34mWill train until validation-error hasn't improved in 10 rounds.\u001b[0m\n",
      "\u001b[34m[08:19:27] src/tree/updater_prune.cc:74: tree pruning end, 1 roots, 38 extra nodes, 4 pruned nodes, max_depth=5\u001b[0m\n",
      "\u001b[34m[1]#011train-error:0.297667#011validation-error:0.3088\u001b[0m\n",
      "\u001b[34m[08:19:29] src/tree/updater_prune.cc:74: tree pruning end, 1 roots, 44 extra nodes, 4 pruned nodes, max_depth=5\u001b[0m\n",
      "\u001b[34m[2]#011train-error:0.2916#011validation-error:0.3029\u001b[0m\n",
      "\u001b[34m[08:19:30] src/tree/updater_prune.cc:74: tree pruning end, 1 roots, 48 extra nodes, 8 pruned nodes, max_depth=5\u001b[0m\n",
      "\u001b[34m[3]#011train-error:0.267467#011validation-error:0.2807\u001b[0m\n",
      "\u001b[34m[08:19:31] src/tree/updater_prune.cc:74: tree pruning end, 1 roots, 30 extra nodes, 2 pruned nodes, max_depth=5\u001b[0m\n",
      "\u001b[34m[4]#011train-error:0.267533#011validation-error:0.2795\u001b[0m\n",
      "\u001b[34m[08:19:32] src/tree/updater_prune.cc:74: tree pruning end, 1 roots, 32 extra nodes, 8 pruned nodes, max_depth=5\u001b[0m\n",
      "\u001b[34m[5]#011train-error:0.2604#011validation-error:0.2723\u001b[0m\n",
      "\u001b[34m[08:19:34] src/tree/updater_prune.cc:74: tree pruning end, 1 roots, 44 extra nodes, 0 pruned nodes, max_depth=5\u001b[0m\n",
      "\u001b[34m[6]#011train-error:0.245733#011validation-error:0.2615\u001b[0m\n",
      "\u001b[34m[08:19:35] src/tree/updater_prune.cc:74: tree pruning end, 1 roots, 22 extra nodes, 12 pruned nodes, max_depth=5\u001b[0m\n",
      "\u001b[34m[7]#011train-error:0.2432#011validation-error:0.2594\u001b[0m\n",
      "\u001b[34m[08:19:36] src/tree/updater_prune.cc:74: tree pruning end, 1 roots, 36 extra nodes, 6 pruned nodes, max_depth=5\u001b[0m\n",
      "\u001b[34m[8]#011train-error:0.230867#011validation-error:0.2475\u001b[0m\n",
      "\u001b[34m[08:19:37] src/tree/updater_prune.cc:74: tree pruning end, 1 roots, 26 extra nodes, 10 pruned nodes, max_depth=5\u001b[0m\n",
      "\u001b[34m[9]#011train-error:0.2286#011validation-error:0.2461\u001b[0m\n",
      "\u001b[34m[08:19:39] src/tree/updater_prune.cc:74: tree pruning end, 1 roots, 34 extra nodes, 0 pruned nodes, max_depth=5\u001b[0m\n",
      "\u001b[34m[10]#011train-error:0.219733#011validation-error:0.2384\u001b[0m\n",
      "\u001b[34m[08:19:40] src/tree/updater_prune.cc:74: tree pruning end, 1 roots, 28 extra nodes, 2 pruned nodes, max_depth=5\u001b[0m\n",
      "\u001b[34m[11]#011train-error:0.214067#011validation-error:0.2322\u001b[0m\n",
      "\u001b[34m[08:19:41] src/tree/updater_prune.cc:74: tree pruning end, 1 roots, 44 extra nodes, 10 pruned nodes, max_depth=5\u001b[0m\n",
      "\u001b[34m[12]#011train-error:0.2122#011validation-error:0.2316\u001b[0m\n",
      "\u001b[34m[08:19:42] src/tree/updater_prune.cc:74: tree pruning end, 1 roots, 32 extra nodes, 0 pruned nodes, max_depth=5\u001b[0m\n",
      "\u001b[34m[13]#011train-error:0.2084#011validation-error:0.2288\u001b[0m\n",
      "\u001b[34m[08:19:44] src/tree/updater_prune.cc:74: tree pruning end, 1 roots, 26 extra nodes, 12 pruned nodes, max_depth=5\u001b[0m\n",
      "\u001b[34m[14]#011train-error:0.2076#011validation-error:0.2264\u001b[0m\n",
      "\u001b[34m[08:19:45] src/tree/updater_prune.cc:74: tree pruning end, 1 roots, 24 extra nodes, 10 pruned nodes, max_depth=5\u001b[0m\n",
      "\u001b[34m[15]#011train-error:0.203067#011validation-error:0.2229\u001b[0m\n",
      "\u001b[34m[08:19:46] src/tree/updater_prune.cc:74: tree pruning end, 1 roots, 30 extra nodes, 6 pruned nodes, max_depth=5\u001b[0m\n",
      "\u001b[34m[16]#011train-error:0.197933#011validation-error:0.221\u001b[0m\n",
      "\u001b[34m[08:19:47] src/tree/updater_prune.cc:74: tree pruning end, 1 roots, 32 extra nodes, 4 pruned nodes, max_depth=5\u001b[0m\n",
      "\u001b[34m[17]#011train-error:0.1948#011validation-error:0.2192\u001b[0m\n",
      "\u001b[34m[08:19:49] src/tree/updater_prune.cc:74: tree pruning end, 1 roots, 24 extra nodes, 6 pruned nodes, max_depth=5\u001b[0m\n",
      "\u001b[34m[18]#011train-error:0.193#011validation-error:0.2151\u001b[0m\n",
      "\u001b[34m[08:19:50] src/tree/updater_prune.cc:74: tree pruning end, 1 roots, 30 extra nodes, 12 pruned nodes, max_depth=5\u001b[0m\n",
      "\u001b[34m[19]#011train-error:0.1892#011validation-error:0.2111\u001b[0m\n",
      "\u001b[34m[08:19:51] src/tree/updater_prune.cc:74: tree pruning end, 1 roots, 20 extra nodes, 10 pruned nodes, max_depth=5\u001b[0m\n",
      "\u001b[34m[20]#011train-error:0.187#011validation-error:0.2075\u001b[0m\n",
      "\u001b[34m[08:19:53] src/tree/updater_prune.cc:74: tree pruning end, 1 roots, 40 extra nodes, 6 pruned nodes, max_depth=5\u001b[0m\n",
      "\u001b[34m[21]#011train-error:0.184533#011validation-error:0.2065\u001b[0m\n",
      "\u001b[34m[08:19:54] src/tree/updater_prune.cc:74: tree pruning end, 1 roots, 24 extra nodes, 8 pruned nodes, max_depth=5\u001b[0m\n",
      "\u001b[34m[22]#011train-error:0.1806#011validation-error:0.2036\u001b[0m\n",
      "\u001b[34m[08:19:55] src/tree/updater_prune.cc:74: tree pruning end, 1 roots, 32 extra nodes, 14 pruned nodes, max_depth=5\u001b[0m\n",
      "\u001b[34m[23]#011train-error:0.179267#011validation-error:0.2024\u001b[0m\n",
      "\u001b[34m[08:19:56] src/tree/updater_prune.cc:74: tree pruning end, 1 roots, 20 extra nodes, 10 pruned nodes, max_depth=5\u001b[0m\n",
      "\u001b[34m[24]#011train-error:0.1776#011validation-error:0.2008\u001b[0m\n",
      "\u001b[34m[08:19:58] src/tree/updater_prune.cc:74: tree pruning end, 1 roots, 32 extra nodes, 8 pruned nodes, max_depth=5\u001b[0m\n",
      "\u001b[34m[25]#011train-error:0.176133#011validation-error:0.1999\u001b[0m\n",
      "\u001b[34m[08:19:59] src/tree/updater_prune.cc:74: tree pruning end, 1 roots, 32 extra nodes, 10 pruned nodes, max_depth=5\u001b[0m\n",
      "\u001b[34m[26]#011train-error:0.173667#011validation-error:0.1974\u001b[0m\n",
      "\u001b[34m[08:20:00] src/tree/updater_prune.cc:74: tree pruning end, 1 roots, 22 extra nodes, 8 pruned nodes, max_depth=5\u001b[0m\n",
      "\u001b[34m[27]#011train-error:0.172867#011validation-error:0.1972\u001b[0m\n",
      "\u001b[34m[08:20:01] src/tree/updater_prune.cc:74: tree pruning end, 1 roots, 44 extra nodes, 6 pruned nodes, max_depth=5\u001b[0m\n",
      "\u001b[34m[28]#011train-error:0.1704#011validation-error:0.1961\u001b[0m\n",
      "\u001b[34m[08:20:03] src/tree/updater_prune.cc:74: tree pruning end, 1 roots, 20 extra nodes, 6 pruned nodes, max_depth=5\u001b[0m\n",
      "\u001b[34m[29]#011train-error:0.168867#011validation-error:0.1944\u001b[0m\n",
      "\u001b[34m[08:20:04] src/tree/updater_prune.cc:74: tree pruning end, 1 roots, 16 extra nodes, 10 pruned nodes, max_depth=5\u001b[0m\n",
      "\u001b[34m[30]#011train-error:0.167333#011validation-error:0.1944\u001b[0m\n",
      "\u001b[34m[08:20:05] src/tree/updater_prune.cc:74: tree pruning end, 1 roots, 16 extra nodes, 10 pruned nodes, max_depth=5\u001b[0m\n",
      "\u001b[34m[31]#011train-error:0.165867#011validation-error:0.1932\u001b[0m\n",
      "\u001b[34m[08:20:06] src/tree/updater_prune.cc:74: tree pruning end, 1 roots, 24 extra nodes, 6 pruned nodes, max_depth=5\u001b[0m\n",
      "\u001b[34m[32]#011train-error:0.163067#011validation-error:0.1915\u001b[0m\n",
      "\u001b[34m[08:20:08] src/tree/updater_prune.cc:74: tree pruning end, 1 roots, 40 extra nodes, 4 pruned nodes, max_depth=5\u001b[0m\n",
      "\u001b[34m[33]#011train-error:0.161933#011validation-error:0.1899\u001b[0m\n",
      "\u001b[34m[08:20:09] src/tree/updater_prune.cc:74: tree pruning end, 1 roots, 26 extra nodes, 14 pruned nodes, max_depth=5\u001b[0m\n",
      "\u001b[34m[34]#011train-error:0.16#011validation-error:0.1887\u001b[0m\n",
      "\u001b[34m[08:20:10] src/tree/updater_prune.cc:74: tree pruning end, 1 roots, 42 extra nodes, 10 pruned nodes, max_depth=5\u001b[0m\n",
      "\u001b[34m[35]#011train-error:0.157933#011validation-error:0.1874\u001b[0m\n",
      "\u001b[34m[08:20:11] src/tree/updater_prune.cc:74: tree pruning end, 1 roots, 12 extra nodes, 12 pruned nodes, max_depth=5\u001b[0m\n",
      "\u001b[34m[36]#011train-error:0.157467#011validation-error:0.1865\u001b[0m\n",
      "\u001b[34m[08:20:13] src/tree/updater_prune.cc:74: tree pruning end, 1 roots, 20 extra nodes, 6 pruned nodes, max_depth=5\u001b[0m\n",
      "\u001b[34m[37]#011train-error:0.154933#011validation-error:0.1867\u001b[0m\n",
      "\u001b[34m[08:20:14] src/tree/updater_prune.cc:74: tree pruning end, 1 roots, 24 extra nodes, 16 pruned nodes, max_depth=5\u001b[0m\n",
      "\u001b[34m[38]#011train-error:0.153867#011validation-error:0.1868\u001b[0m\n",
      "\u001b[34m[08:20:15] src/tree/updater_prune.cc:74: tree pruning end, 1 roots, 20 extra nodes, 8 pruned nodes, max_depth=5\u001b[0m\n",
      "\u001b[34m[39]#011train-error:0.153133#011validation-error:0.1854\u001b[0m\n",
      "\u001b[34m[08:20:16] src/tree/updater_prune.cc:74: tree pruning end, 1 roots, 30 extra nodes, 8 pruned nodes, max_depth=5\u001b[0m\n",
      "\u001b[34m[40]#011train-error:0.1518#011validation-error:0.1846\u001b[0m\n"
     ]
    },
    {
     "name": "stdout",
     "output_type": "stream",
     "text": [
      "\u001b[34m[08:20:18] src/tree/updater_prune.cc:74: tree pruning end, 1 roots, 22 extra nodes, 6 pruned nodes, max_depth=5\u001b[0m\n",
      "\u001b[34m[41]#011train-error:0.150067#011validation-error:0.1846\u001b[0m\n",
      "\u001b[34m[08:20:19] src/tree/updater_prune.cc:74: tree pruning end, 1 roots, 38 extra nodes, 8 pruned nodes, max_depth=5\u001b[0m\n",
      "\u001b[34m[42]#011train-error:0.148933#011validation-error:0.1832\u001b[0m\n",
      "\u001b[34m[08:20:20] src/tree/updater_prune.cc:74: tree pruning end, 1 roots, 18 extra nodes, 10 pruned nodes, max_depth=5\u001b[0m\n",
      "\u001b[34m[43]#011train-error:0.147133#011validation-error:0.1819\u001b[0m\n",
      "\u001b[34m[08:20:22] src/tree/updater_prune.cc:74: tree pruning end, 1 roots, 20 extra nodes, 12 pruned nodes, max_depth=5\u001b[0m\n",
      "\u001b[34m[44]#011train-error:0.146133#011validation-error:0.1807\u001b[0m\n",
      "\u001b[34m[08:20:23] src/tree/updater_prune.cc:74: tree pruning end, 1 roots, 26 extra nodes, 14 pruned nodes, max_depth=5\u001b[0m\n",
      "\u001b[34m[45]#011train-error:0.143933#011validation-error:0.1806\u001b[0m\n",
      "\u001b[34m[08:20:24] src/tree/updater_prune.cc:74: tree pruning end, 1 roots, 34 extra nodes, 4 pruned nodes, max_depth=5\u001b[0m\n",
      "\u001b[34m[46]#011train-error:0.1436#011validation-error:0.1797\u001b[0m\n",
      "\u001b[34m[08:20:25] src/tree/updater_prune.cc:74: tree pruning end, 1 roots, 18 extra nodes, 16 pruned nodes, max_depth=5\u001b[0m\n",
      "\u001b[34m[47]#011train-error:0.142333#011validation-error:0.1791\u001b[0m\n",
      "\u001b[34m[08:20:27] src/tree/updater_prune.cc:74: tree pruning end, 1 roots, 24 extra nodes, 8 pruned nodes, max_depth=5\u001b[0m\n",
      "\u001b[34m[48]#011train-error:0.141133#011validation-error:0.178\u001b[0m\n",
      "\u001b[34m[08:20:28] src/tree/updater_prune.cc:74: tree pruning end, 1 roots, 32 extra nodes, 6 pruned nodes, max_depth=5\u001b[0m\n",
      "\u001b[34m[49]#011train-error:0.139267#011validation-error:0.1781\u001b[0m\n",
      "\u001b[34m[08:20:29] src/tree/updater_prune.cc:74: tree pruning end, 1 roots, 16 extra nodes, 12 pruned nodes, max_depth=5\u001b[0m\n",
      "\u001b[34m[50]#011train-error:0.138333#011validation-error:0.1782\u001b[0m\n",
      "\u001b[34m[08:20:30] src/tree/updater_prune.cc:74: tree pruning end, 1 roots, 24 extra nodes, 20 pruned nodes, max_depth=5\u001b[0m\n",
      "\u001b[34m[51]#011train-error:0.136533#011validation-error:0.1755\u001b[0m\n",
      "\u001b[34m[08:20:32] src/tree/updater_prune.cc:74: tree pruning end, 1 roots, 22 extra nodes, 16 pruned nodes, max_depth=5\u001b[0m\n",
      "\u001b[34m[52]#011train-error:0.135067#011validation-error:0.1756\u001b[0m\n",
      "\u001b[34m[08:20:33] src/tree/updater_prune.cc:74: tree pruning end, 1 roots, 12 extra nodes, 10 pruned nodes, max_depth=5\u001b[0m\n",
      "\u001b[34m[53]#011train-error:0.1346#011validation-error:0.1734\u001b[0m\n",
      "\u001b[34m[08:20:34] src/tree/updater_prune.cc:74: tree pruning end, 1 roots, 24 extra nodes, 16 pruned nodes, max_depth=5\u001b[0m\n",
      "\u001b[34m[54]#011train-error:0.133867#011validation-error:0.1736\u001b[0m\n",
      "\u001b[34m[08:20:35] src/tree/updater_prune.cc:74: tree pruning end, 1 roots, 36 extra nodes, 10 pruned nodes, max_depth=5\u001b[0m\n",
      "\u001b[34m[55]#011train-error:0.133#011validation-error:0.1718\u001b[0m\n",
      "\u001b[34m[08:20:37] src/tree/updater_prune.cc:74: tree pruning end, 1 roots, 22 extra nodes, 10 pruned nodes, max_depth=5\u001b[0m\n",
      "\u001b[34m[56]#011train-error:0.131067#011validation-error:0.1718\u001b[0m\n",
      "\u001b[34m[08:20:38] src/tree/updater_prune.cc:74: tree pruning end, 1 roots, 14 extra nodes, 6 pruned nodes, max_depth=5\u001b[0m\n",
      "\u001b[34m[57]#011train-error:0.1316#011validation-error:0.1713\u001b[0m\n",
      "\u001b[34m[08:20:39] src/tree/updater_prune.cc:74: tree pruning end, 1 roots, 34 extra nodes, 8 pruned nodes, max_depth=5\u001b[0m\n",
      "\u001b[34m[58]#011train-error:0.129267#011validation-error:0.1712\u001b[0m\n",
      "\u001b[34m[08:20:40] src/tree/updater_prune.cc:74: tree pruning end, 1 roots, 22 extra nodes, 8 pruned nodes, max_depth=5\u001b[0m\n",
      "\u001b[34m[59]#011train-error:0.1278#011validation-error:0.1707\u001b[0m\n",
      "\u001b[34m[08:20:42] src/tree/updater_prune.cc:74: tree pruning end, 1 roots, 12 extra nodes, 12 pruned nodes, max_depth=5\u001b[0m\n",
      "\u001b[34m[60]#011train-error:0.127#011validation-error:0.1707\u001b[0m\n",
      "\u001b[34m[08:20:43] src/tree/updater_prune.cc:74: tree pruning end, 1 roots, 12 extra nodes, 8 pruned nodes, max_depth=5\u001b[0m\n",
      "\u001b[34m[61]#011train-error:0.126467#011validation-error:0.1702\u001b[0m\n",
      "\u001b[34m[08:20:44] src/tree/updater_prune.cc:74: tree pruning end, 1 roots, 22 extra nodes, 10 pruned nodes, max_depth=5\u001b[0m\n",
      "\u001b[34m[62]#011train-error:0.1258#011validation-error:0.1683\u001b[0m\n",
      "\u001b[34m[08:20:46] src/tree/updater_prune.cc:74: tree pruning end, 1 roots, 24 extra nodes, 8 pruned nodes, max_depth=5\u001b[0m\n",
      "\u001b[34m[63]#011train-error:0.1252#011validation-error:0.1684\u001b[0m\n",
      "\u001b[34m[08:20:47] src/tree/updater_prune.cc:74: tree pruning end, 1 roots, 16 extra nodes, 8 pruned nodes, max_depth=5\u001b[0m\n",
      "\u001b[34m[64]#011train-error:0.124533#011validation-error:0.1668\u001b[0m\n",
      "\u001b[34m[08:20:48] src/tree/updater_prune.cc:74: tree pruning end, 1 roots, 18 extra nodes, 10 pruned nodes, max_depth=5\u001b[0m\n",
      "\u001b[34m[65]#011train-error:0.124333#011validation-error:0.1662\u001b[0m\n",
      "\u001b[34m[08:20:49] src/tree/updater_prune.cc:74: tree pruning end, 1 roots, 16 extra nodes, 10 pruned nodes, max_depth=5\u001b[0m\n",
      "\u001b[34m[66]#011train-error:0.123933#011validation-error:0.1664\u001b[0m\n",
      "\u001b[34m[08:20:51] src/tree/updater_prune.cc:74: tree pruning end, 1 roots, 10 extra nodes, 12 pruned nodes, max_depth=5\u001b[0m\n",
      "\u001b[34m[67]#011train-error:0.123933#011validation-error:0.1661\u001b[0m\n",
      "\u001b[34m[08:20:52] src/tree/updater_prune.cc:74: tree pruning end, 1 roots, 20 extra nodes, 16 pruned nodes, max_depth=5\u001b[0m\n",
      "\u001b[34m[68]#011train-error:0.123467#011validation-error:0.1668\u001b[0m\n",
      "\u001b[34m[08:20:53] src/tree/updater_prune.cc:74: tree pruning end, 1 roots, 16 extra nodes, 8 pruned nodes, max_depth=5\u001b[0m\n",
      "\u001b[34m[69]#011train-error:0.123133#011validation-error:0.1669\u001b[0m\n",
      "\u001b[34m[08:20:54] src/tree/updater_prune.cc:74: tree pruning end, 1 roots, 20 extra nodes, 6 pruned nodes, max_depth=5\u001b[0m\n",
      "\u001b[34m[70]#011train-error:0.122#011validation-error:0.1663\u001b[0m\n",
      "\u001b[34m[08:20:56] src/tree/updater_prune.cc:74: tree pruning end, 1 roots, 30 extra nodes, 8 pruned nodes, max_depth=5\u001b[0m\n",
      "\u001b[34m[71]#011train-error:0.121333#011validation-error:0.1653\u001b[0m\n",
      "\u001b[34m[08:20:57] src/tree/updater_prune.cc:74: tree pruning end, 1 roots, 24 extra nodes, 8 pruned nodes, max_depth=5\u001b[0m\n",
      "\u001b[34m[72]#011train-error:0.1198#011validation-error:0.166\u001b[0m\n",
      "\u001b[34m[08:20:58] src/tree/updater_prune.cc:74: tree pruning end, 1 roots, 12 extra nodes, 4 pruned nodes, max_depth=5\u001b[0m\n",
      "\u001b[34m[73]#011train-error:0.119067#011validation-error:0.1666\u001b[0m\n",
      "\u001b[34m[08:20:59] src/tree/updater_prune.cc:74: tree pruning end, 1 roots, 14 extra nodes, 6 pruned nodes, max_depth=5\u001b[0m\n",
      "\u001b[34m[74]#011train-error:0.1194#011validation-error:0.1652\u001b[0m\n",
      "\u001b[34m[08:21:01] src/tree/updater_prune.cc:74: tree pruning end, 1 roots, 20 extra nodes, 12 pruned nodes, max_depth=5\u001b[0m\n",
      "\u001b[34m[75]#011train-error:0.117933#011validation-error:0.1645\u001b[0m\n",
      "\u001b[34m[08:21:02] src/tree/updater_prune.cc:74: tree pruning end, 1 roots, 18 extra nodes, 10 pruned nodes, max_depth=5\u001b[0m\n",
      "\u001b[34m[76]#011train-error:0.1164#011validation-error:0.1647\u001b[0m\n",
      "\u001b[34m[08:21:03] src/tree/updater_prune.cc:74: tree pruning end, 1 roots, 24 extra nodes, 10 pruned nodes, max_depth=5\u001b[0m\n",
      "\u001b[34m[77]#011train-error:0.116133#011validation-error:0.1643\u001b[0m\n",
      "\u001b[34m[08:21:04] src/tree/updater_prune.cc:74: tree pruning end, 1 roots, 22 extra nodes, 12 pruned nodes, max_depth=5\u001b[0m\n",
      "\u001b[34m[78]#011train-error:0.1152#011validation-error:0.1628\u001b[0m\n",
      "\u001b[34m[08:21:06] src/tree/updater_prune.cc:74: tree pruning end, 1 roots, 28 extra nodes, 16 pruned nodes, max_depth=5\u001b[0m\n",
      "\u001b[34m[79]#011train-error:0.114933#011validation-error:0.1625\u001b[0m\n",
      "\u001b[34m[08:21:07] src/tree/updater_prune.cc:74: tree pruning end, 1 roots, 22 extra nodes, 6 pruned nodes, max_depth=5\u001b[0m\n",
      "\u001b[34m[80]#011train-error:0.114667#011validation-error:0.1614\u001b[0m\n",
      "\u001b[34m[08:21:08] src/tree/updater_prune.cc:74: tree pruning end, 1 roots, 22 extra nodes, 4 pruned nodes, max_depth=5\u001b[0m\n",
      "\u001b[34m[81]#011train-error:0.1138#011validation-error:0.1596\u001b[0m\n",
      "\u001b[34m[08:21:09] src/tree/updater_prune.cc:74: tree pruning end, 1 roots, 22 extra nodes, 22 pruned nodes, max_depth=5\u001b[0m\n",
      "\u001b[34m[82]#011train-error:0.1132#011validation-error:0.1591\u001b[0m\n",
      "\u001b[34m[08:21:11] src/tree/updater_prune.cc:74: tree pruning end, 1 roots, 28 extra nodes, 12 pruned nodes, max_depth=5\u001b[0m\n",
      "\u001b[34m[83]#011train-error:0.112067#011validation-error:0.1593\u001b[0m\n",
      "\u001b[34m[08:21:12] src/tree/updater_prune.cc:74: tree pruning end, 1 roots, 18 extra nodes, 16 pruned nodes, max_depth=5\u001b[0m\n",
      "\u001b[34m[84]#011train-error:0.111867#011validation-error:0.1594\u001b[0m\n",
      "\u001b[34m[08:21:13] src/tree/updater_prune.cc:74: tree pruning end, 1 roots, 14 extra nodes, 8 pruned nodes, max_depth=5\u001b[0m\n",
      "\u001b[34m[85]#011train-error:0.111467#011validation-error:0.1596\u001b[0m\n",
      "\u001b[34m[08:21:14] src/tree/updater_prune.cc:74: tree pruning end, 1 roots, 18 extra nodes, 12 pruned nodes, max_depth=5\u001b[0m\n",
      "\u001b[34m[86]#011train-error:0.1114#011validation-error:0.1584\u001b[0m\n",
      "\u001b[34m[08:21:16] src/tree/updater_prune.cc:74: tree pruning end, 1 roots, 38 extra nodes, 2 pruned nodes, max_depth=5\u001b[0m\n",
      "\u001b[34m[87]#011train-error:0.111#011validation-error:0.1589\u001b[0m\n",
      "\u001b[34m[08:21:17] src/tree/updater_prune.cc:74: tree pruning end, 1 roots, 32 extra nodes, 2 pruned nodes, max_depth=5\u001b[0m\n",
      "\u001b[34m[88]#011train-error:0.1104#011validation-error:0.1587\u001b[0m\n"
     ]
    },
    {
     "name": "stdout",
     "output_type": "stream",
     "text": [
      "\u001b[34m[08:21:18] src/tree/updater_prune.cc:74: tree pruning end, 1 roots, 22 extra nodes, 6 pruned nodes, max_depth=5\u001b[0m\n",
      "\u001b[34m[89]#011train-error:0.109133#011validation-error:0.1589\u001b[0m\n",
      "\u001b[34m[08:21:19] src/tree/updater_prune.cc:74: tree pruning end, 1 roots, 12 extra nodes, 10 pruned nodes, max_depth=5\u001b[0m\n",
      "\u001b[34m[90]#011train-error:0.1088#011validation-error:0.1586\u001b[0m\n",
      "\u001b[34m[08:21:21] src/tree/updater_prune.cc:74: tree pruning end, 1 roots, 18 extra nodes, 2 pruned nodes, max_depth=5\u001b[0m\n",
      "\u001b[34m[91]#011train-error:0.108133#011validation-error:0.1583\u001b[0m\n",
      "\u001b[34m[08:21:22] src/tree/updater_prune.cc:74: tree pruning end, 1 roots, 12 extra nodes, 12 pruned nodes, max_depth=5\u001b[0m\n",
      "\u001b[34m[92]#011train-error:0.1076#011validation-error:0.1578\u001b[0m\n",
      "\u001b[34m[08:21:23] src/tree/updater_prune.cc:74: tree pruning end, 1 roots, 14 extra nodes, 6 pruned nodes, max_depth=5\u001b[0m\n",
      "\u001b[34m[93]#011train-error:0.106867#011validation-error:0.1571\u001b[0m\n",
      "\u001b[34m[08:21:25] src/tree/updater_prune.cc:74: tree pruning end, 1 roots, 24 extra nodes, 12 pruned nodes, max_depth=5\u001b[0m\n",
      "\u001b[34m[94]#011train-error:0.107067#011validation-error:0.1564\u001b[0m\n",
      "\u001b[34m[08:21:26] src/tree/updater_prune.cc:74: tree pruning end, 1 roots, 22 extra nodes, 8 pruned nodes, max_depth=5\u001b[0m\n",
      "\u001b[34m[95]#011train-error:0.107533#011validation-error:0.1569\u001b[0m\n",
      "\u001b[34m[08:21:27] src/tree/updater_prune.cc:74: tree pruning end, 1 roots, 12 extra nodes, 4 pruned nodes, max_depth=5\u001b[0m\n",
      "\u001b[34m[96]#011train-error:0.106667#011validation-error:0.1568\u001b[0m\n",
      "\u001b[34m[08:21:28] src/tree/updater_prune.cc:74: tree pruning end, 1 roots, 14 extra nodes, 10 pruned nodes, max_depth=5\u001b[0m\n",
      "\u001b[34m[97]#011train-error:0.106867#011validation-error:0.1558\u001b[0m\n",
      "\u001b[34m[08:21:30] src/tree/updater_prune.cc:74: tree pruning end, 1 roots, 18 extra nodes, 8 pruned nodes, max_depth=5\u001b[0m\n",
      "\u001b[34m[98]#011train-error:0.106267#011validation-error:0.1556\u001b[0m\n",
      "\u001b[34m[08:21:31] src/tree/updater_prune.cc:74: tree pruning end, 1 roots, 16 extra nodes, 6 pruned nodes, max_depth=5\u001b[0m\n",
      "\u001b[34m[99]#011train-error:0.1058#011validation-error:0.1556\u001b[0m\n",
      "\u001b[34m[08:21:32] src/tree/updater_prune.cc:74: tree pruning end, 1 roots, 10 extra nodes, 6 pruned nodes, max_depth=5\u001b[0m\n",
      "\u001b[34m[100]#011train-error:0.105867#011validation-error:0.1548\u001b[0m\n",
      "\u001b[34m[08:21:33] src/tree/updater_prune.cc:74: tree pruning end, 1 roots, 18 extra nodes, 2 pruned nodes, max_depth=5\u001b[0m\n",
      "\u001b[34m[101]#011train-error:0.104867#011validation-error:0.1549\u001b[0m\n",
      "\u001b[34m[08:21:35] src/tree/updater_prune.cc:74: tree pruning end, 1 roots, 36 extra nodes, 6 pruned nodes, max_depth=5\u001b[0m\n",
      "\u001b[34m[102]#011train-error:0.1036#011validation-error:0.1544\u001b[0m\n",
      "\u001b[34m[08:21:36] src/tree/updater_prune.cc:74: tree pruning end, 1 roots, 20 extra nodes, 12 pruned nodes, max_depth=5\u001b[0m\n",
      "\u001b[34m[103]#011train-error:0.102933#011validation-error:0.1546\u001b[0m\n",
      "\u001b[34m[08:21:37] src/tree/updater_prune.cc:74: tree pruning end, 1 roots, 30 extra nodes, 2 pruned nodes, max_depth=5\u001b[0m\n",
      "\u001b[34m[104]#011train-error:0.101467#011validation-error:0.1546\u001b[0m\n",
      "\u001b[34m[08:21:38] src/tree/updater_prune.cc:74: tree pruning end, 1 roots, 18 extra nodes, 12 pruned nodes, max_depth=5\u001b[0m\n",
      "\u001b[34m[105]#011train-error:0.1006#011validation-error:0.1537\u001b[0m\n",
      "\u001b[34m[08:21:40] src/tree/updater_prune.cc:74: tree pruning end, 1 roots, 12 extra nodes, 2 pruned nodes, max_depth=5\u001b[0m\n",
      "\u001b[34m[106]#011train-error:0.099667#011validation-error:0.1538\u001b[0m\n",
      "\u001b[34m[08:21:41] src/tree/updater_prune.cc:74: tree pruning end, 1 roots, 14 extra nodes, 6 pruned nodes, max_depth=5\u001b[0m\n",
      "\u001b[34m[107]#011train-error:0.098867#011validation-error:0.1527\u001b[0m\n",
      "\u001b[34m[08:21:42] src/tree/updater_prune.cc:74: tree pruning end, 1 roots, 34 extra nodes, 14 pruned nodes, max_depth=5\u001b[0m\n",
      "\u001b[34m[108]#011train-error:0.098467#011validation-error:0.1527\u001b[0m\n",
      "\u001b[34m[08:21:43] src/tree/updater_prune.cc:74: tree pruning end, 1 roots, 30 extra nodes, 14 pruned nodes, max_depth=5\u001b[0m\n",
      "\u001b[34m[109]#011train-error:0.097867#011validation-error:0.1526\u001b[0m\n",
      "\u001b[34m[08:21:45] src/tree/updater_prune.cc:74: tree pruning end, 1 roots, 14 extra nodes, 12 pruned nodes, max_depth=5\u001b[0m\n",
      "\u001b[34m[110]#011train-error:0.097133#011validation-error:0.1524\u001b[0m\n",
      "\u001b[34m[08:21:46] src/tree/updater_prune.cc:74: tree pruning end, 1 roots, 20 extra nodes, 6 pruned nodes, max_depth=5\u001b[0m\n",
      "\u001b[34m[111]#011train-error:0.096267#011validation-error:0.1523\u001b[0m\n",
      "\u001b[34m[08:21:47] src/tree/updater_prune.cc:74: tree pruning end, 1 roots, 22 extra nodes, 24 pruned nodes, max_depth=5\u001b[0m\n",
      "\u001b[34m[112]#011train-error:0.096933#011validation-error:0.1521\u001b[0m\n",
      "\u001b[34m[08:21:48] src/tree/updater_prune.cc:74: tree pruning end, 1 roots, 20 extra nodes, 14 pruned nodes, max_depth=5\u001b[0m\n",
      "\u001b[34m[113]#011train-error:0.095867#011validation-error:0.1514\u001b[0m\n",
      "\u001b[34m[08:21:50] src/tree/updater_prune.cc:74: tree pruning end, 1 roots, 10 extra nodes, 6 pruned nodes, max_depth=5\u001b[0m\n",
      "\u001b[34m[114]#011train-error:0.095667#011validation-error:0.1509\u001b[0m\n",
      "\u001b[34m[08:21:51] src/tree/updater_prune.cc:74: tree pruning end, 1 roots, 14 extra nodes, 12 pruned nodes, max_depth=5\u001b[0m\n",
      "\u001b[34m[115]#011train-error:0.094933#011validation-error:0.1511\u001b[0m\n",
      "\u001b[34m[08:21:52] src/tree/updater_prune.cc:74: tree pruning end, 1 roots, 20 extra nodes, 8 pruned nodes, max_depth=5\u001b[0m\n",
      "\u001b[34m[116]#011train-error:0.094467#011validation-error:0.1506\u001b[0m\n",
      "\u001b[34m[08:21:54] src/tree/updater_prune.cc:74: tree pruning end, 1 roots, 16 extra nodes, 8 pruned nodes, max_depth=5\u001b[0m\n",
      "\u001b[34m[117]#011train-error:0.094067#011validation-error:0.1507\u001b[0m\n",
      "\u001b[34m[08:21:55] src/tree/updater_prune.cc:74: tree pruning end, 1 roots, 12 extra nodes, 2 pruned nodes, max_depth=5\u001b[0m\n",
      "\u001b[34m[118]#011train-error:0.093933#011validation-error:0.1503\u001b[0m\n",
      "\u001b[34m[08:21:56] src/tree/updater_prune.cc:74: tree pruning end, 1 roots, 10 extra nodes, 12 pruned nodes, max_depth=5\u001b[0m\n",
      "\u001b[34m[119]#011train-error:0.0938#011validation-error:0.15\u001b[0m\n",
      "\u001b[34m[08:21:57] src/tree/updater_prune.cc:74: tree pruning end, 1 roots, 20 extra nodes, 12 pruned nodes, max_depth=5\u001b[0m\n",
      "\u001b[34m[120]#011train-error:0.093533#011validation-error:0.1498\u001b[0m\n",
      "\u001b[34m[08:21:59] src/tree/updater_prune.cc:74: tree pruning end, 1 roots, 12 extra nodes, 2 pruned nodes, max_depth=5\u001b[0m\n",
      "\u001b[34m[121]#011train-error:0.092867#011validation-error:0.1488\u001b[0m\n",
      "\u001b[34m[08:22:00] src/tree/updater_prune.cc:74: tree pruning end, 1 roots, 12 extra nodes, 10 pruned nodes, max_depth=5\u001b[0m\n",
      "\u001b[34m[122]#011train-error:0.0932#011validation-error:0.1486\u001b[0m\n",
      "\u001b[34m[08:22:01] src/tree/updater_prune.cc:74: tree pruning end, 1 roots, 20 extra nodes, 8 pruned nodes, max_depth=5\u001b[0m\n",
      "\u001b[34m[123]#011train-error:0.092667#011validation-error:0.1494\u001b[0m\n",
      "\u001b[34m[08:22:02] src/tree/updater_prune.cc:74: tree pruning end, 1 roots, 28 extra nodes, 16 pruned nodes, max_depth=5\u001b[0m\n",
      "\u001b[34m[124]#011train-error:0.091867#011validation-error:0.1492\u001b[0m\n",
      "\u001b[34m[08:22:04] src/tree/updater_prune.cc:74: tree pruning end, 1 roots, 12 extra nodes, 10 pruned nodes, max_depth=5\u001b[0m\n",
      "\u001b[34m[125]#011train-error:0.092067#011validation-error:0.1487\u001b[0m\n",
      "\u001b[34m[08:22:05] src/tree/updater_prune.cc:74: tree pruning end, 1 roots, 10 extra nodes, 8 pruned nodes, max_depth=5\u001b[0m\n",
      "\u001b[34m[126]#011train-error:0.091933#011validation-error:0.1487\u001b[0m\n",
      "\u001b[34m[08:22:06] src/tree/updater_prune.cc:74: tree pruning end, 1 roots, 20 extra nodes, 16 pruned nodes, max_depth=5\u001b[0m\n",
      "\u001b[34m[127]#011train-error:0.0914#011validation-error:0.1492\u001b[0m\n",
      "\u001b[34m[08:22:07] src/tree/updater_prune.cc:74: tree pruning end, 1 roots, 20 extra nodes, 6 pruned nodes, max_depth=5\u001b[0m\n",
      "\u001b[34m[128]#011train-error:0.091133#011validation-error:0.1495\u001b[0m\n",
      "\u001b[34m[08:22:09] src/tree/updater_prune.cc:74: tree pruning end, 1 roots, 12 extra nodes, 6 pruned nodes, max_depth=5\u001b[0m\n",
      "\u001b[34m[129]#011train-error:0.0912#011validation-error:0.1489\u001b[0m\n",
      "\u001b[34m[08:22:10] src/tree/updater_prune.cc:74: tree pruning end, 1 roots, 20 extra nodes, 8 pruned nodes, max_depth=5\u001b[0m\n",
      "\u001b[34m[130]#011train-error:0.0896#011validation-error:0.1485\u001b[0m\n",
      "\u001b[34m[08:22:11] src/tree/updater_prune.cc:74: tree pruning end, 1 roots, 26 extra nodes, 4 pruned nodes, max_depth=5\u001b[0m\n",
      "\u001b[34m[131]#011train-error:0.0898#011validation-error:0.1474\u001b[0m\n",
      "\u001b[34m[08:22:12] src/tree/updater_prune.cc:74: tree pruning end, 1 roots, 12 extra nodes, 8 pruned nodes, max_depth=5\u001b[0m\n",
      "\u001b[34m[132]#011train-error:0.089#011validation-error:0.1477\u001b[0m\n",
      "\u001b[34m[08:22:14] src/tree/updater_prune.cc:74: tree pruning end, 1 roots, 28 extra nodes, 8 pruned nodes, max_depth=5\u001b[0m\n",
      "\u001b[34m[133]#011train-error:0.0888#011validation-error:0.1471\u001b[0m\n",
      "\u001b[34m[08:22:15] src/tree/updater_prune.cc:74: tree pruning end, 1 roots, 16 extra nodes, 16 pruned nodes, max_depth=5\u001b[0m\n",
      "\u001b[34m[134]#011train-error:0.088467#011validation-error:0.1468\u001b[0m\n",
      "\u001b[34m[08:22:16] src/tree/updater_prune.cc:74: tree pruning end, 1 roots, 16 extra nodes, 6 pruned nodes, max_depth=5\u001b[0m\n",
      "\u001b[34m[135]#011train-error:0.087267#011validation-error:0.1461\u001b[0m\n",
      "\u001b[34m[08:22:17] src/tree/updater_prune.cc:74: tree pruning end, 1 roots, 26 extra nodes, 6 pruned nodes, max_depth=5\u001b[0m\n",
      "\u001b[34m[136]#011train-error:0.086267#011validation-error:0.146\u001b[0m\n"
     ]
    },
    {
     "name": "stdout",
     "output_type": "stream",
     "text": [
      "\u001b[34m[08:22:19] src/tree/updater_prune.cc:74: tree pruning end, 1 roots, 12 extra nodes, 12 pruned nodes, max_depth=5\u001b[0m\n",
      "\u001b[34m[137]#011train-error:0.086067#011validation-error:0.1454\u001b[0m\n",
      "\u001b[34m[08:22:20] src/tree/updater_prune.cc:74: tree pruning end, 1 roots, 10 extra nodes, 6 pruned nodes, max_depth=5\u001b[0m\n",
      "\u001b[34m[138]#011train-error:0.085467#011validation-error:0.1452\u001b[0m\n",
      "\u001b[34m[08:22:21] src/tree/updater_prune.cc:74: tree pruning end, 1 roots, 22 extra nodes, 14 pruned nodes, max_depth=5\u001b[0m\n",
      "\u001b[34m[139]#011train-error:0.085#011validation-error:0.1454\u001b[0m\n",
      "\u001b[34m[08:22:23] src/tree/updater_prune.cc:74: tree pruning end, 1 roots, 14 extra nodes, 4 pruned nodes, max_depth=5\u001b[0m\n",
      "\u001b[34m[140]#011train-error:0.084467#011validation-error:0.1455\u001b[0m\n",
      "\u001b[34m[08:22:24] src/tree/updater_prune.cc:74: tree pruning end, 1 roots, 22 extra nodes, 8 pruned nodes, max_depth=5\u001b[0m\n",
      "\u001b[34m[141]#011train-error:0.084333#011validation-error:0.1453\u001b[0m\n",
      "\u001b[34m[08:22:25] src/tree/updater_prune.cc:74: tree pruning end, 1 roots, 20 extra nodes, 8 pruned nodes, max_depth=5\u001b[0m\n",
      "\u001b[34m[142]#011train-error:0.084133#011validation-error:0.1459\u001b[0m\n",
      "\u001b[34m[08:22:26] src/tree/updater_prune.cc:74: tree pruning end, 1 roots, 10 extra nodes, 6 pruned nodes, max_depth=5\u001b[0m\n",
      "\u001b[34m[143]#011train-error:0.084133#011validation-error:0.146\u001b[0m\n",
      "\u001b[34m[08:22:28] src/tree/updater_prune.cc:74: tree pruning end, 1 roots, 20 extra nodes, 12 pruned nodes, max_depth=5\u001b[0m\n",
      "\u001b[34m[144]#011train-error:0.083667#011validation-error:0.1446\u001b[0m\n",
      "\u001b[34m[08:22:29] src/tree/updater_prune.cc:74: tree pruning end, 1 roots, 10 extra nodes, 6 pruned nodes, max_depth=5\u001b[0m\n",
      "\u001b[34m[145]#011train-error:0.082867#011validation-error:0.1437\u001b[0m\n",
      "\u001b[34m[08:22:30] src/tree/updater_prune.cc:74: tree pruning end, 1 roots, 14 extra nodes, 6 pruned nodes, max_depth=5\u001b[0m\n",
      "\u001b[34m[146]#011train-error:0.083067#011validation-error:0.144\u001b[0m\n",
      "\u001b[34m[08:22:31] src/tree/updater_prune.cc:74: tree pruning end, 1 roots, 10 extra nodes, 4 pruned nodes, max_depth=5\u001b[0m\n",
      "\u001b[34m[147]#011train-error:0.083067#011validation-error:0.1435\u001b[0m\n",
      "\u001b[34m[08:22:33] src/tree/updater_prune.cc:74: tree pruning end, 1 roots, 20 extra nodes, 12 pruned nodes, max_depth=5\u001b[0m\n",
      "\u001b[34m[148]#011train-error:0.083#011validation-error:0.1432\u001b[0m\n",
      "\u001b[34m[08:22:34] src/tree/updater_prune.cc:74: tree pruning end, 1 roots, 14 extra nodes, 16 pruned nodes, max_depth=5\u001b[0m\n",
      "\u001b[34m[149]#011train-error:0.082933#011validation-error:0.1432\u001b[0m\n",
      "\u001b[34m[08:22:35] src/tree/updater_prune.cc:74: tree pruning end, 1 roots, 18 extra nodes, 8 pruned nodes, max_depth=5\u001b[0m\n",
      "\u001b[34m[150]#011train-error:0.082867#011validation-error:0.1432\u001b[0m\n",
      "\u001b[34m[08:22:36] src/tree/updater_prune.cc:74: tree pruning end, 1 roots, 16 extra nodes, 10 pruned nodes, max_depth=5\u001b[0m\n",
      "\u001b[34m[151]#011train-error:0.0822#011validation-error:0.1429\u001b[0m\n",
      "\u001b[34m[08:22:38] src/tree/updater_prune.cc:74: tree pruning end, 1 roots, 14 extra nodes, 14 pruned nodes, max_depth=5\u001b[0m\n",
      "\u001b[34m[152]#011train-error:0.0818#011validation-error:0.1423\u001b[0m\n",
      "\u001b[34m[08:22:39] src/tree/updater_prune.cc:74: tree pruning end, 1 roots, 24 extra nodes, 10 pruned nodes, max_depth=5\u001b[0m\n",
      "\u001b[34m[153]#011train-error:0.081533#011validation-error:0.1423\u001b[0m\n",
      "\u001b[34m[08:22:40] src/tree/updater_prune.cc:74: tree pruning end, 1 roots, 10 extra nodes, 8 pruned nodes, max_depth=5\u001b[0m\n",
      "\u001b[34m[154]#011train-error:0.081267#011validation-error:0.1422\u001b[0m\n",
      "\u001b[34m[08:22:41] src/tree/updater_prune.cc:74: tree pruning end, 1 roots, 10 extra nodes, 2 pruned nodes, max_depth=5\u001b[0m\n",
      "\u001b[34m[155]#011train-error:0.081267#011validation-error:0.1421\u001b[0m\n",
      "\u001b[34m[08:22:43] src/tree/updater_prune.cc:74: tree pruning end, 1 roots, 12 extra nodes, 2 pruned nodes, max_depth=5\u001b[0m\n",
      "\u001b[34m[156]#011train-error:0.080733#011validation-error:0.1419\u001b[0m\n",
      "\u001b[34m[08:22:44] src/tree/updater_prune.cc:74: tree pruning end, 1 roots, 24 extra nodes, 6 pruned nodes, max_depth=5\u001b[0m\n",
      "\u001b[34m[157]#011train-error:0.08#011validation-error:0.142\u001b[0m\n",
      "\u001b[34m[08:22:45] src/tree/updater_prune.cc:74: tree pruning end, 1 roots, 10 extra nodes, 6 pruned nodes, max_depth=5\u001b[0m\n",
      "\u001b[34m[158]#011train-error:0.08#011validation-error:0.1416\u001b[0m\n",
      "\u001b[34m[08:22:46] src/tree/updater_prune.cc:74: tree pruning end, 1 roots, 12 extra nodes, 16 pruned nodes, max_depth=5\u001b[0m\n",
      "\u001b[34m[159]#011train-error:0.079667#011validation-error:0.1414\u001b[0m\n",
      "\u001b[34m[08:22:48] src/tree/updater_prune.cc:74: tree pruning end, 1 roots, 12 extra nodes, 6 pruned nodes, max_depth=5\u001b[0m\n",
      "\u001b[34m[160]#011train-error:0.08#011validation-error:0.1418\u001b[0m\n",
      "\u001b[34m[08:22:49] src/tree/updater_prune.cc:74: tree pruning end, 1 roots, 12 extra nodes, 10 pruned nodes, max_depth=5\u001b[0m\n",
      "\u001b[34m[161]#011train-error:0.079267#011validation-error:0.141\u001b[0m\n",
      "\u001b[34m[08:22:50] src/tree/updater_prune.cc:74: tree pruning end, 1 roots, 26 extra nodes, 8 pruned nodes, max_depth=5\u001b[0m\n",
      "\u001b[34m[162]#011train-error:0.078933#011validation-error:0.1405\u001b[0m\n",
      "\u001b[34m[08:22:52] src/tree/updater_prune.cc:74: tree pruning end, 1 roots, 14 extra nodes, 8 pruned nodes, max_depth=5\u001b[0m\n",
      "\u001b[34m[163]#011train-error:0.079#011validation-error:0.1407\u001b[0m\n",
      "\u001b[34m[08:22:53] src/tree/updater_prune.cc:74: tree pruning end, 1 roots, 10 extra nodes, 6 pruned nodes, max_depth=5\u001b[0m\n",
      "\u001b[34m[164]#011train-error:0.078467#011validation-error:0.1403\u001b[0m\n",
      "\u001b[34m[08:22:54] src/tree/updater_prune.cc:74: tree pruning end, 1 roots, 12 extra nodes, 4 pruned nodes, max_depth=5\u001b[0m\n",
      "\u001b[34m[165]#011train-error:0.0784#011validation-error:0.1409\u001b[0m\n",
      "\u001b[34m[08:22:55] src/tree/updater_prune.cc:74: tree pruning end, 1 roots, 18 extra nodes, 14 pruned nodes, max_depth=5\u001b[0m\n",
      "\u001b[34m[166]#011train-error:0.077733#011validation-error:0.141\u001b[0m\n",
      "\u001b[34m[08:22:57] src/tree/updater_prune.cc:74: tree pruning end, 1 roots, 12 extra nodes, 6 pruned nodes, max_depth=5\u001b[0m\n",
      "\u001b[34m[167]#011train-error:0.0776#011validation-error:0.1411\u001b[0m\n",
      "\u001b[34m[08:22:58] src/tree/updater_prune.cc:74: tree pruning end, 1 roots, 16 extra nodes, 8 pruned nodes, max_depth=5\u001b[0m\n",
      "\u001b[34m[168]#011train-error:0.077667#011validation-error:0.1409\u001b[0m\n",
      "\u001b[34m[08:22:59] src/tree/updater_prune.cc:74: tree pruning end, 1 roots, 10 extra nodes, 4 pruned nodes, max_depth=5\u001b[0m\n",
      "\u001b[34m[169]#011train-error:0.0776#011validation-error:0.1403\u001b[0m\n",
      "\u001b[34m[08:23:00] src/tree/updater_prune.cc:74: tree pruning end, 1 roots, 14 extra nodes, 6 pruned nodes, max_depth=5\u001b[0m\n",
      "\u001b[34m[170]#011train-error:0.077733#011validation-error:0.14\u001b[0m\n",
      "\u001b[34m[08:23:02] src/tree/updater_prune.cc:74: tree pruning end, 1 roots, 30 extra nodes, 12 pruned nodes, max_depth=5\u001b[0m\n",
      "\u001b[34m[171]#011train-error:0.078133#011validation-error:0.1403\u001b[0m\n",
      "\u001b[34m[08:23:03] src/tree/updater_prune.cc:74: tree pruning end, 1 roots, 16 extra nodes, 2 pruned nodes, max_depth=5\u001b[0m\n",
      "\u001b[34m[172]#011train-error:0.077533#011validation-error:0.1404\u001b[0m\n",
      "\u001b[34m[08:23:04] src/tree/updater_prune.cc:74: tree pruning end, 1 roots, 16 extra nodes, 6 pruned nodes, max_depth=5\u001b[0m\n",
      "\u001b[34m[173]#011train-error:0.077267#011validation-error:0.1405\u001b[0m\n",
      "\u001b[34m[08:23:05] src/tree/updater_prune.cc:74: tree pruning end, 1 roots, 12 extra nodes, 4 pruned nodes, max_depth=5\u001b[0m\n",
      "\u001b[34m[174]#011train-error:0.0772#011validation-error:0.1404\u001b[0m\n",
      "\u001b[34m[08:23:07] src/tree/updater_prune.cc:74: tree pruning end, 1 roots, 10 extra nodes, 12 pruned nodes, max_depth=5\u001b[0m\n",
      "\u001b[34m[175]#011train-error:0.077467#011validation-error:0.1404\u001b[0m\n",
      "\u001b[34m[08:23:08] src/tree/updater_prune.cc:74: tree pruning end, 1 roots, 10 extra nodes, 6 pruned nodes, max_depth=5\u001b[0m\n",
      "\u001b[34m[176]#011train-error:0.077533#011validation-error:0.1409\u001b[0m\n",
      "\u001b[34m[08:23:09] src/tree/updater_prune.cc:74: tree pruning end, 1 roots, 14 extra nodes, 4 pruned nodes, max_depth=5\u001b[0m\n",
      "\u001b[34m[177]#011train-error:0.077267#011validation-error:0.1408\u001b[0m\n",
      "\u001b[34m[08:23:10] src/tree/updater_prune.cc:74: tree pruning end, 1 roots, 28 extra nodes, 8 pruned nodes, max_depth=5\u001b[0m\n",
      "\u001b[34m[178]#011train-error:0.076467#011validation-error:0.1401\u001b[0m\n",
      "\u001b[34m[08:23:12] src/tree/updater_prune.cc:74: tree pruning end, 1 roots, 10 extra nodes, 8 pruned nodes, max_depth=5\u001b[0m\n",
      "\u001b[34m[179]#011train-error:0.076#011validation-error:0.14\u001b[0m\n",
      "\u001b[34m[08:23:13] src/tree/updater_prune.cc:74: tree pruning end, 1 roots, 16 extra nodes, 4 pruned nodes, max_depth=5\u001b[0m\n",
      "\u001b[34m[180]#011train-error:0.0764#011validation-error:0.1394\u001b[0m\n",
      "\u001b[34m[08:23:14] src/tree/updater_prune.cc:74: tree pruning end, 1 roots, 18 extra nodes, 6 pruned nodes, max_depth=5\u001b[0m\n",
      "\u001b[34m[181]#011train-error:0.075733#011validation-error:0.1401\u001b[0m\n",
      "\u001b[34m[08:23:15] src/tree/updater_prune.cc:74: tree pruning end, 1 roots, 22 extra nodes, 8 pruned nodes, max_depth=5\u001b[0m\n",
      "\u001b[34m[182]#011train-error:0.075667#011validation-error:0.1393\u001b[0m\n",
      "\u001b[34m[08:23:17] src/tree/updater_prune.cc:74: tree pruning end, 1 roots, 12 extra nodes, 6 pruned nodes, max_depth=5\u001b[0m\n",
      "\u001b[34m[183]#011train-error:0.075267#011validation-error:0.1393\u001b[0m\n",
      "\u001b[34m[08:23:18] src/tree/updater_prune.cc:74: tree pruning end, 1 roots, 16 extra nodes, 6 pruned nodes, max_depth=5\u001b[0m\n",
      "\u001b[34m[184]#011train-error:0.075533#011validation-error:0.1389\u001b[0m\n"
     ]
    },
    {
     "name": "stdout",
     "output_type": "stream",
     "text": [
      "\u001b[34m[08:23:19] src/tree/updater_prune.cc:74: tree pruning end, 1 roots, 10 extra nodes, 4 pruned nodes, max_depth=5\u001b[0m\n",
      "\u001b[34m[185]#011train-error:0.0752#011validation-error:0.1391\u001b[0m\n",
      "\u001b[34m[08:23:21] src/tree/updater_prune.cc:74: tree pruning end, 1 roots, 10 extra nodes, 6 pruned nodes, max_depth=5\u001b[0m\n",
      "\u001b[34m[186]#011train-error:0.075533#011validation-error:0.1389\u001b[0m\n",
      "\u001b[34m[08:23:22] src/tree/updater_prune.cc:74: tree pruning end, 1 roots, 16 extra nodes, 4 pruned nodes, max_depth=5\u001b[0m\n",
      "\u001b[34m[187]#011train-error:0.075467#011validation-error:0.1394\u001b[0m\n",
      "\u001b[34m[08:23:23] src/tree/updater_prune.cc:74: tree pruning end, 1 roots, 10 extra nodes, 8 pruned nodes, max_depth=5\u001b[0m\n",
      "\u001b[34m[188]#011train-error:0.075667#011validation-error:0.1396\u001b[0m\n",
      "\u001b[34m[08:23:24] src/tree/updater_prune.cc:74: tree pruning end, 1 roots, 18 extra nodes, 14 pruned nodes, max_depth=5\u001b[0m\n",
      "\u001b[34m[189]#011train-error:0.0756#011validation-error:0.139\u001b[0m\n",
      "\u001b[34m[08:23:26] src/tree/updater_prune.cc:74: tree pruning end, 1 roots, 18 extra nodes, 0 pruned nodes, max_depth=5\u001b[0m\n",
      "\u001b[34m[190]#011train-error:0.074867#011validation-error:0.1388\u001b[0m\n",
      "\u001b[34m[08:23:27] src/tree/updater_prune.cc:74: tree pruning end, 1 roots, 22 extra nodes, 14 pruned nodes, max_depth=5\u001b[0m\n",
      "\u001b[34m[191]#011train-error:0.0746#011validation-error:0.138\u001b[0m\n",
      "\u001b[34m[08:23:28] src/tree/updater_prune.cc:74: tree pruning end, 1 roots, 16 extra nodes, 4 pruned nodes, max_depth=5\u001b[0m\n",
      "\u001b[34m[192]#011train-error:0.074933#011validation-error:0.1381\u001b[0m\n",
      "\u001b[34m[08:23:29] src/tree/updater_prune.cc:74: tree pruning end, 1 roots, 16 extra nodes, 14 pruned nodes, max_depth=5\u001b[0m\n",
      "\u001b[34m[193]#011train-error:0.074333#011validation-error:0.1387\u001b[0m\n",
      "\u001b[34m[08:23:31] src/tree/updater_prune.cc:74: tree pruning end, 1 roots, 12 extra nodes, 2 pruned nodes, max_depth=5\u001b[0m\n",
      "\u001b[34m[194]#011train-error:0.0748#011validation-error:0.1389\u001b[0m\n",
      "\u001b[34m[08:23:32] src/tree/updater_prune.cc:74: tree pruning end, 1 roots, 18 extra nodes, 14 pruned nodes, max_depth=5\u001b[0m\n",
      "\u001b[34m[195]#011train-error:0.0742#011validation-error:0.1386\u001b[0m\n",
      "\u001b[34m[08:23:33] src/tree/updater_prune.cc:74: tree pruning end, 1 roots, 10 extra nodes, 2 pruned nodes, max_depth=5\u001b[0m\n",
      "\u001b[34m[196]#011train-error:0.0736#011validation-error:0.1393\u001b[0m\n",
      "\u001b[34m[08:23:34] src/tree/updater_prune.cc:74: tree pruning end, 1 roots, 22 extra nodes, 8 pruned nodes, max_depth=5\u001b[0m\n",
      "\u001b[34m[197]#011train-error:0.073533#011validation-error:0.1391\u001b[0m\n",
      "\u001b[34m[08:23:36] src/tree/updater_prune.cc:74: tree pruning end, 1 roots, 24 extra nodes, 18 pruned nodes, max_depth=5\u001b[0m\n",
      "\u001b[34m[198]#011train-error:0.073067#011validation-error:0.1384\u001b[0m\n",
      "\u001b[34m[08:23:37] src/tree/updater_prune.cc:74: tree pruning end, 1 roots, 12 extra nodes, 8 pruned nodes, max_depth=5\u001b[0m\n",
      "\u001b[34m[199]#011train-error:0.072533#011validation-error:0.1389\u001b[0m\n",
      "\u001b[34m[08:23:38] src/tree/updater_prune.cc:74: tree pruning end, 1 roots, 16 extra nodes, 8 pruned nodes, max_depth=5\u001b[0m\n",
      "\u001b[34m[200]#011train-error:0.071933#011validation-error:0.1385\u001b[0m\n",
      "\u001b[34m[08:23:39] src/tree/updater_prune.cc:74: tree pruning end, 1 roots, 16 extra nodes, 18 pruned nodes, max_depth=5\u001b[0m\n",
      "\u001b[34m[201]#011train-error:0.071533#011validation-error:0.1378\u001b[0m\n",
      "\u001b[34m[08:23:41] src/tree/updater_prune.cc:74: tree pruning end, 1 roots, 16 extra nodes, 0 pruned nodes, max_depth=5\u001b[0m\n",
      "\u001b[34m[202]#011train-error:0.071667#011validation-error:0.1384\u001b[0m\n",
      "\u001b[34m[08:23:42] src/tree/updater_prune.cc:74: tree pruning end, 1 roots, 10 extra nodes, 2 pruned nodes, max_depth=5\u001b[0m\n",
      "\u001b[34m[203]#011train-error:0.071933#011validation-error:0.1381\u001b[0m\n",
      "\u001b[34m[08:23:43] src/tree/updater_prune.cc:74: tree pruning end, 1 roots, 10 extra nodes, 14 pruned nodes, max_depth=5\u001b[0m\n",
      "\u001b[34m[204]#011train-error:0.0716#011validation-error:0.138\u001b[0m\n",
      "\u001b[34m[08:23:44] src/tree/updater_prune.cc:74: tree pruning end, 1 roots, 10 extra nodes, 4 pruned nodes, max_depth=5\u001b[0m\n",
      "\u001b[34m[205]#011train-error:0.071533#011validation-error:0.1383\u001b[0m\n",
      "\u001b[34m[08:23:46] src/tree/updater_prune.cc:74: tree pruning end, 1 roots, 22 extra nodes, 4 pruned nodes, max_depth=5\u001b[0m\n",
      "\u001b[34m[206]#011train-error:0.071067#011validation-error:0.1378\u001b[0m\n",
      "\u001b[34m[08:23:47] src/tree/updater_prune.cc:74: tree pruning end, 1 roots, 14 extra nodes, 4 pruned nodes, max_depth=5\u001b[0m\n",
      "\u001b[34m[207]#011train-error:0.070333#011validation-error:0.138\u001b[0m\n",
      "\u001b[34m[08:23:48] src/tree/updater_prune.cc:74: tree pruning end, 1 roots, 16 extra nodes, 2 pruned nodes, max_depth=5\u001b[0m\n",
      "\u001b[34m[208]#011train-error:0.0702#011validation-error:0.1382\u001b[0m\n",
      "\u001b[34m[08:23:49] src/tree/updater_prune.cc:74: tree pruning end, 1 roots, 10 extra nodes, 20 pruned nodes, max_depth=5\u001b[0m\n",
      "\u001b[34m[209]#011train-error:0.070133#011validation-error:0.1371\u001b[0m\n",
      "\u001b[34m[08:23:51] src/tree/updater_prune.cc:74: tree pruning end, 1 roots, 12 extra nodes, 6 pruned nodes, max_depth=5\u001b[0m\n",
      "\u001b[34m[210]#011train-error:0.069933#011validation-error:0.1376\u001b[0m\n",
      "\u001b[34m[08:23:52] src/tree/updater_prune.cc:74: tree pruning end, 1 roots, 22 extra nodes, 20 pruned nodes, max_depth=5\u001b[0m\n",
      "\u001b[34m[211]#011train-error:0.0698#011validation-error:0.1381\u001b[0m\n",
      "\u001b[34m[08:23:53] src/tree/updater_prune.cc:74: tree pruning end, 1 roots, 16 extra nodes, 2 pruned nodes, max_depth=5\u001b[0m\n",
      "\u001b[34m[212]#011train-error:0.069733#011validation-error:0.1378\u001b[0m\n",
      "\u001b[34m[08:23:54] src/tree/updater_prune.cc:74: tree pruning end, 1 roots, 12 extra nodes, 2 pruned nodes, max_depth=5\u001b[0m\n",
      "\u001b[34m[213]#011train-error:0.069867#011validation-error:0.1378\u001b[0m\n",
      "\u001b[34m[08:23:56] src/tree/updater_prune.cc:74: tree pruning end, 1 roots, 18 extra nodes, 4 pruned nodes, max_depth=5\u001b[0m\n",
      "\u001b[34m[214]#011train-error:0.069#011validation-error:0.1379\u001b[0m\n",
      "\u001b[34m[08:23:57] src/tree/updater_prune.cc:74: tree pruning end, 1 roots, 14 extra nodes, 12 pruned nodes, max_depth=5\u001b[0m\n",
      "\u001b[34m[215]#011train-error:0.068733#011validation-error:0.1375\u001b[0m\n",
      "\u001b[34m[08:23:58] src/tree/updater_prune.cc:74: tree pruning end, 1 roots, 10 extra nodes, 14 pruned nodes, max_depth=5\u001b[0m\n",
      "\u001b[34m[216]#011train-error:0.068867#011validation-error:0.1377\u001b[0m\n",
      "\u001b[34m[08:23:59] src/tree/updater_prune.cc:74: tree pruning end, 1 roots, 14 extra nodes, 2 pruned nodes, max_depth=5\u001b[0m\n",
      "\u001b[34m[217]#011train-error:0.068533#011validation-error:0.1379\u001b[0m\n",
      "\u001b[34m[08:24:01] src/tree/updater_prune.cc:74: tree pruning end, 1 roots, 12 extra nodes, 12 pruned nodes, max_depth=5\u001b[0m\n",
      "\u001b[34m[218]#011train-error:0.067867#011validation-error:0.138\u001b[0m\n",
      "\u001b[34m[08:24:02] src/tree/updater_prune.cc:74: tree pruning end, 1 roots, 10 extra nodes, 8 pruned nodes, max_depth=5\u001b[0m\n",
      "\u001b[34m[219]#011train-error:0.068133#011validation-error:0.1376\u001b[0m\n",
      "\u001b[34mStopping. Best iteration:\u001b[0m\n",
      "\u001b[34m[209]#011train-error:0.070133#011validation-error:0.1371\n",
      "\u001b[0m\n",
      "\n",
      "2019-12-10 08:24:22 Uploading - Uploading generated training model\n",
      "2019-12-10 08:24:29 Completed - Training job completed\n",
      "Training seconds: 363\n",
      "Billable seconds: 363\n"
     ]
    }
   ],
   "source": [
    "xgb.fit({'train': s3_input_train, 'validation': s3_input_validation})"
   ]
  },
  {
   "cell_type": "markdown",
   "metadata": {},
   "source": [
    "## Step 5: Testing the model\n",
    "\n",
    "Now that we've fit our XGBoost model, it's time to see how well it performs. To do this we will use SageMakers Batch Transform functionality. Batch Transform is a convenient way to perform inference on a large dataset in a way that is not realtime. That is, we don't necessarily need to use our model's results immediately and instead we can perform inference on a large number of samples. An example of this in industry might be performing an end of month report. This method of inference can also be useful to us as it means that we can perform inference on our entire test set. \n",
    "\n",
    "To perform a Batch Transformation we need to first create a transformer objects from our trained estimator object."
   ]
  },
  {
   "cell_type": "code",
   "execution_count": 24,
   "metadata": {},
   "outputs": [],
   "source": [
    "xgb_transformer = xgb.transformer(instance_count = 1, instance_type = 'ml.m4.xlarge')"
   ]
  },
  {
   "cell_type": "markdown",
   "metadata": {},
   "source": [
    "Next we actually perform the transform job. When doing so we need to make sure to specify the type of data we are sending so that it is serialized correctly in the background. In our case we are providing our model with csv data so we specify `text/csv`. Also, if the test data that we have provided is too large to process all at once then we need to specify how the data file should be split up. Since each line is a single entry in our data set we tell SageMaker that it can split the input on each line."
   ]
  },
  {
   "cell_type": "code",
   "execution_count": 25,
   "metadata": {},
   "outputs": [],
   "source": [
    "xgb_transformer.transform(test_location, content_type='text/csv', split_type='Line')"
   ]
  },
  {
   "cell_type": "markdown",
   "metadata": {},
   "source": [
    "Currently the transform job is running but it is doing so in the background. Since we wish to wait until the transform job is done and we would like a bit of feedback we can run the `wait()` method."
   ]
  },
  {
   "cell_type": "code",
   "execution_count": 26,
   "metadata": {},
   "outputs": [
    {
     "name": "stdout",
     "output_type": "stream",
     "text": [
      ".....................\u001b[34mArguments: serve\u001b[0m\n",
      "\u001b[34m[2019-12-10 08:29:48 +0000] [1] [INFO] Starting gunicorn 19.7.1\u001b[0m\n",
      "\u001b[34m[2019-12-10 08:29:48 +0000] [1] [INFO] Listening at: http://0.0.0.0:8080 (1)\u001b[0m\n",
      "\u001b[34m[2019-12-10 08:29:48 +0000] [1] [INFO] Using worker: gevent\u001b[0m\n",
      "\u001b[34m[2019-12-10 08:29:48 +0000] [38] [INFO] Booting worker with pid: 38\u001b[0m\n",
      "\u001b[34m[2019-12-10 08:29:48 +0000] [39] [INFO] Booting worker with pid: 39\u001b[0m\n",
      "\u001b[34m[2019-12-10 08:29:48 +0000] [40] [INFO] Booting worker with pid: 40\u001b[0m\n",
      "\u001b[34m[2019-12-10 08:29:48 +0000] [41] [INFO] Booting worker with pid: 41\u001b[0m\n",
      "\u001b[34m[2019-12-10:08:29:48:INFO] Model loaded successfully for worker : 39\u001b[0m\n",
      "\u001b[34m[2019-12-10:08:29:48:INFO] Model loaded successfully for worker : 38\u001b[0m\n",
      "\u001b[34m[2019-12-10:08:29:48:INFO] Model loaded successfully for worker : 40\u001b[0m\n",
      "\u001b[34m[2019-12-10:08:29:48:INFO] Model loaded successfully for worker : 41\u001b[0m\n",
      "\u001b[34m[2019-12-10:08:30:21:INFO] Sniff delimiter as ','\u001b[0m\n",
      "\u001b[35m[2019-12-10:08:30:21:INFO] Sniff delimiter as ','\u001b[0m\n",
      "\u001b[34m[2019-12-10:08:30:21:INFO] Determined delimiter of CSV input is ','\u001b[0m\n",
      "\u001b[34m[2019-12-10:08:30:21:INFO] Sniff delimiter as ','\u001b[0m\n",
      "\u001b[34m[2019-12-10:08:30:21:INFO] Determined delimiter of CSV input is ','\u001b[0m\n",
      "\u001b[34m[2019-12-10:08:30:21:INFO] Sniff delimiter as ','\u001b[0m\n",
      "\u001b[34m[2019-12-10:08:30:21:INFO] Determined delimiter of CSV input is ','\u001b[0m\n",
      "\u001b[35m[2019-12-10:08:30:21:INFO] Determined delimiter of CSV input is ','\u001b[0m\n",
      "\u001b[35m[2019-12-10:08:30:21:INFO] Sniff delimiter as ','\u001b[0m\n",
      "\u001b[35m[2019-12-10:08:30:21:INFO] Determined delimiter of CSV input is ','\u001b[0m\n",
      "\u001b[35m[2019-12-10:08:30:21:INFO] Sniff delimiter as ','\u001b[0m\n",
      "\u001b[35m[2019-12-10:08:30:21:INFO] Determined delimiter of CSV input is ','\u001b[0m\n",
      "\u001b[34m[2019-12-10:08:30:22:INFO] Sniff delimiter as ','\u001b[0m\n",
      "\u001b[34m[2019-12-10:08:30:22:INFO] Determined delimiter of CSV input is ','\u001b[0m\n",
      "\u001b[35m[2019-12-10:08:30:22:INFO] Sniff delimiter as ','\u001b[0m\n",
      "\u001b[35m[2019-12-10:08:30:22:INFO] Determined delimiter of CSV input is ','\u001b[0m\n",
      "\u001b[32m2019-12-10T08:30:19.201:[sagemaker logs]: MaxConcurrentTransforms=4, MaxPayloadInMB=6, BatchStrategy=MULTI_RECORD\u001b[0m\n",
      "\u001b[34m[2019-12-10:08:30:24:INFO] Sniff delimiter as ','\u001b[0m\n",
      "\u001b[34m[2019-12-10:08:30:24:INFO] Determined delimiter of CSV input is ','\u001b[0m\n",
      "\u001b[35m[2019-12-10:08:30:24:INFO] Sniff delimiter as ','\u001b[0m\n",
      "\u001b[35m[2019-12-10:08:30:24:INFO] Determined delimiter of CSV input is ','\u001b[0m\n",
      "\u001b[34m[2019-12-10:08:30:24:INFO] Sniff delimiter as ','\u001b[0m\n",
      "\u001b[34m[2019-12-10:08:30:24:INFO] Determined delimiter of CSV input is ','\u001b[0m\n",
      "\u001b[34m[2019-12-10:08:30:24:INFO] Sniff delimiter as ','\u001b[0m\n",
      "\u001b[34m[2019-12-10:08:30:24:INFO] Determined delimiter of CSV input is ','\u001b[0m\n",
      "\u001b[34m[2019-12-10:08:30:24:INFO] Sniff delimiter as ','\u001b[0m\n",
      "\u001b[35m[2019-12-10:08:30:24:INFO] Sniff delimiter as ','\u001b[0m\n",
      "\u001b[35m[2019-12-10:08:30:24:INFO] Determined delimiter of CSV input is ','\u001b[0m\n",
      "\u001b[35m[2019-12-10:08:30:24:INFO] Sniff delimiter as ','\u001b[0m\n",
      "\u001b[35m[2019-12-10:08:30:24:INFO] Determined delimiter of CSV input is ','\u001b[0m\n",
      "\u001b[35m[2019-12-10:08:30:24:INFO] Sniff delimiter as ','\u001b[0m\n",
      "\u001b[34m[2019-12-10:08:30:24:INFO] Determined delimiter of CSV input is ','\u001b[0m\n",
      "\u001b[35m[2019-12-10:08:30:24:INFO] Determined delimiter of CSV input is ','\u001b[0m\n",
      "\u001b[34m[2019-12-10:08:30:26:INFO] Sniff delimiter as ','\u001b[0m\n",
      "\u001b[35m[2019-12-10:08:30:26:INFO] Sniff delimiter as ','\u001b[0m\n",
      "\u001b[34m[2019-12-10:08:30:26:INFO] Determined delimiter of CSV input is ','\u001b[0m\n",
      "\u001b[34m[2019-12-10:08:30:26:INFO] Sniff delimiter as ','\u001b[0m\n",
      "\u001b[34m[2019-12-10:08:30:26:INFO] Determined delimiter of CSV input is ','\u001b[0m\n",
      "\u001b[34m[2019-12-10:08:30:26:INFO] Sniff delimiter as ','\u001b[0m\n",
      "\u001b[34m[2019-12-10:08:30:26:INFO] Determined delimiter of CSV input is ','\u001b[0m\n",
      "\u001b[35m[2019-12-10:08:30:26:INFO] Determined delimiter of CSV input is ','\u001b[0m\n",
      "\u001b[35m[2019-12-10:08:30:26:INFO] Sniff delimiter as ','\u001b[0m\n",
      "\u001b[35m[2019-12-10:08:30:26:INFO] Determined delimiter of CSV input is ','\u001b[0m\n",
      "\u001b[35m[2019-12-10:08:30:26:INFO] Sniff delimiter as ','\u001b[0m\n",
      "\u001b[35m[2019-12-10:08:30:26:INFO] Determined delimiter of CSV input is ','\u001b[0m\n",
      "\u001b[34m[2019-12-10:08:30:27:INFO] Sniff delimiter as ','\u001b[0m\n",
      "\u001b[34m[2019-12-10:08:30:27:INFO] Determined delimiter of CSV input is ','\u001b[0m\n",
      "\u001b[35m[2019-12-10:08:30:27:INFO] Sniff delimiter as ','\u001b[0m\n",
      "\u001b[35m[2019-12-10:08:30:27:INFO] Determined delimiter of CSV input is ','\u001b[0m\n",
      "\u001b[34m[2019-12-10:08:30:28:INFO] Sniff delimiter as ','\u001b[0m\n",
      "\u001b[34m[2019-12-10:08:30:28:INFO] Determined delimiter of CSV input is ','\u001b[0m\n",
      "\u001b[34m[2019-12-10:08:30:29:INFO] Sniff delimiter as ','\u001b[0m\n",
      "\u001b[34m[2019-12-10:08:30:29:INFO] Determined delimiter of CSV input is ','\u001b[0m\n",
      "\u001b[35m[2019-12-10:08:30:28:INFO] Sniff delimiter as ','\u001b[0m\n",
      "\u001b[35m[2019-12-10:08:30:28:INFO] Determined delimiter of CSV input is ','\u001b[0m\n",
      "\u001b[35m[2019-12-10:08:30:29:INFO] Sniff delimiter as ','\u001b[0m\n",
      "\u001b[35m[2019-12-10:08:30:29:INFO] Determined delimiter of CSV input is ','\u001b[0m\n",
      "\u001b[34m[2019-12-10:08:30:29:INFO] Sniff delimiter as ','\u001b[0m\n",
      "\u001b[34m[2019-12-10:08:30:29:INFO] Determined delimiter of CSV input is ','\u001b[0m\n",
      "\u001b[34m[2019-12-10:08:30:29:INFO] Sniff delimiter as ','\u001b[0m\n",
      "\u001b[34m[2019-12-10:08:30:29:INFO] Determined delimiter of CSV input is ','\u001b[0m\n",
      "\u001b[35m[2019-12-10:08:30:29:INFO] Sniff delimiter as ','\u001b[0m\n",
      "\u001b[35m[2019-12-10:08:30:29:INFO] Determined delimiter of CSV input is ','\u001b[0m\n",
      "\u001b[35m[2019-12-10:08:30:29:INFO] Sniff delimiter as ','\u001b[0m\n",
      "\u001b[35m[2019-12-10:08:30:29:INFO] Determined delimiter of CSV input is ','\u001b[0m\n",
      "\u001b[34m[2019-12-10:08:30:31:INFO] Sniff delimiter as ','\u001b[0m\n",
      "\u001b[35m[2019-12-10:08:30:31:INFO] Sniff delimiter as ','\u001b[0m\n",
      "\u001b[34m[2019-12-10:08:30:31:INFO] Determined delimiter of CSV input is ','\u001b[0m\n",
      "\u001b[35m[2019-12-10:08:30:31:INFO] Determined delimiter of CSV input is ','\u001b[0m\n",
      "\u001b[34m[2019-12-10:08:30:32:INFO] Sniff delimiter as ','\u001b[0m\n",
      "\u001b[34m[2019-12-10:08:30:32:INFO] Determined delimiter of CSV input is ','\u001b[0m\n",
      "\u001b[35m[2019-12-10:08:30:32:INFO] Sniff delimiter as ','\u001b[0m\n",
      "\u001b[35m[2019-12-10:08:30:32:INFO] Determined delimiter of CSV input is ','\u001b[0m\n",
      "\u001b[34m[2019-12-10:08:30:33:INFO] Sniff delimiter as ','\u001b[0m\n",
      "\u001b[34m[2019-12-10:08:30:33:INFO] Determined delimiter of CSV input is ','\u001b[0m\n",
      "\u001b[34m[2019-12-10:08:30:33:INFO] Sniff delimiter as ','\u001b[0m\n",
      "\u001b[34m[2019-12-10:08:30:33:INFO] Determined delimiter of CSV input is ','\u001b[0m\n",
      "\u001b[34m[2019-12-10:08:30:34:INFO] Sniff delimiter as ','\u001b[0m\n",
      "\u001b[34m[2019-12-10:08:30:34:INFO] Determined delimiter of CSV input is ','\u001b[0m\n",
      "\u001b[35m[2019-12-10:08:30:33:INFO] Sniff delimiter as ','\u001b[0m\n",
      "\u001b[35m[2019-12-10:08:30:33:INFO] Determined delimiter of CSV input is ','\u001b[0m\n",
      "\u001b[35m[2019-12-10:08:30:33:INFO] Sniff delimiter as ','\u001b[0m\n",
      "\u001b[35m[2019-12-10:08:30:33:INFO] Determined delimiter of CSV input is ','\u001b[0m\n",
      "\u001b[35m[2019-12-10:08:30:34:INFO] Sniff delimiter as ','\u001b[0m\n",
      "\u001b[35m[2019-12-10:08:30:34:INFO] Determined delimiter of CSV input is ','\u001b[0m\n",
      "\u001b[34m[2019-12-10:08:30:34:INFO] Sniff delimiter as ','\u001b[0m\n",
      "\u001b[34m[2019-12-10:08:30:34:INFO] Determined delimiter of CSV input is ','\u001b[0m\n",
      "\u001b[35m[2019-12-10:08:30:34:INFO] Sniff delimiter as ','\u001b[0m\n",
      "\u001b[35m[2019-12-10:08:30:34:INFO] Determined delimiter of CSV input is ','\u001b[0m\n",
      "\u001b[34m[2019-12-10:08:30:36:INFO] Sniff delimiter as ','\u001b[0m\n",
      "\u001b[34m[2019-12-10:08:30:36:INFO] Determined delimiter of CSV input is ','\u001b[0m\n",
      "\u001b[35m[2019-12-10:08:30:36:INFO] Sniff delimiter as ','\u001b[0m\n",
      "\u001b[35m[2019-12-10:08:30:36:INFO] Determined delimiter of CSV input is ','\u001b[0m\n",
      "\u001b[34m[2019-12-10:08:30:36:INFO] Sniff delimiter as ','\u001b[0m\n",
      "\u001b[34m[2019-12-10:08:30:36:INFO] Determined delimiter of CSV input is ','\u001b[0m\n",
      "\u001b[34m[2019-12-10:08:30:36:INFO] Sniff delimiter as ','\u001b[0m\n",
      "\u001b[34m[2019-12-10:08:30:36:INFO] Determined delimiter of CSV input is ','\u001b[0m\n",
      "\u001b[34m[2019-12-10:08:30:36:INFO] Sniff delimiter as ','\u001b[0m\n",
      "\u001b[34m[2019-12-10:08:30:36:INFO] Determined delimiter of CSV input is ','\u001b[0m\n",
      "\u001b[35m[2019-12-10:08:30:36:INFO] Sniff delimiter as ','\u001b[0m\n",
      "\u001b[35m[2019-12-10:08:30:36:INFO] Determined delimiter of CSV input is ','\u001b[0m\n",
      "\u001b[35m[2019-12-10:08:30:36:INFO] Sniff delimiter as ','\u001b[0m\n",
      "\u001b[35m[2019-12-10:08:30:36:INFO] Determined delimiter of CSV input is ','\u001b[0m\n",
      "\u001b[35m[2019-12-10:08:30:36:INFO] Sniff delimiter as ','\u001b[0m\n",
      "\u001b[35m[2019-12-10:08:30:36:INFO] Determined delimiter of CSV input is ','\u001b[0m\n",
      "\u001b[34m[2019-12-10:08:30:38:INFO] Sniff delimiter as ','\u001b[0m\n",
      "\u001b[35m[2019-12-10:08:30:38:INFO] Sniff delimiter as ','\u001b[0m\n",
      "\u001b[34m[2019-12-10:08:30:38:INFO] Determined delimiter of CSV input is ','\u001b[0m\n",
      "\u001b[34m[2019-12-10:08:30:38:INFO] Sniff delimiter as ','\u001b[0m\n",
      "\u001b[34m[2019-12-10:08:30:38:INFO] Determined delimiter of CSV input is ','\u001b[0m\n",
      "\u001b[34m[2019-12-10:08:30:38:INFO] Sniff delimiter as ','\u001b[0m\n",
      "\u001b[34m[2019-12-10:08:30:38:INFO] Determined delimiter of CSV input is ','\u001b[0m\n",
      "\u001b[35m[2019-12-10:08:30:38:INFO] Determined delimiter of CSV input is ','\u001b[0m\n",
      "\u001b[35m[2019-12-10:08:30:38:INFO] Sniff delimiter as ','\u001b[0m\n",
      "\u001b[35m[2019-12-10:08:30:38:INFO] Determined delimiter of CSV input is ','\u001b[0m\n",
      "\u001b[35m[2019-12-10:08:30:38:INFO] Sniff delimiter as ','\u001b[0m\n",
      "\u001b[35m[2019-12-10:08:30:38:INFO] Determined delimiter of CSV input is ','\u001b[0m\n",
      "\u001b[34m[2019-12-10:08:30:39:INFO] Sniff delimiter as ','\u001b[0m\n",
      "\u001b[34m[2019-12-10:08:30:39:INFO] Determined delimiter of CSV input is ','\u001b[0m\n",
      "\u001b[35m[2019-12-10:08:30:39:INFO] Sniff delimiter as ','\u001b[0m\n",
      "\u001b[35m[2019-12-10:08:30:39:INFO] Determined delimiter of CSV input is ','\u001b[0m\n",
      "\u001b[34m[2019-12-10:08:30:40:INFO] Sniff delimiter as ','\u001b[0m\n",
      "\u001b[34m[2019-12-10:08:30:40:INFO] Determined delimiter of CSV input is ','\u001b[0m\n",
      "\u001b[34m[2019-12-10:08:30:40:INFO] Sniff delimiter as ','\u001b[0m\n",
      "\u001b[34m[2019-12-10:08:30:40:INFO] Determined delimiter of CSV input is ','\u001b[0m\n",
      "\u001b[35m[2019-12-10:08:30:40:INFO] Sniff delimiter as ','\u001b[0m\n",
      "\u001b[35m[2019-12-10:08:30:40:INFO] Determined delimiter of CSV input is ','\u001b[0m\n",
      "\u001b[35m[2019-12-10:08:30:40:INFO] Sniff delimiter as ','\u001b[0m\n",
      "\u001b[35m[2019-12-10:08:30:40:INFO] Determined delimiter of CSV input is ','\u001b[0m\n"
     ]
    },
    {
     "name": "stdout",
     "output_type": "stream",
     "text": [
      "\u001b[34m[2019-12-10:08:30:43:INFO] Sniff delimiter as ','\u001b[0m\n",
      "\u001b[34m[2019-12-10:08:30:43:INFO] Determined delimiter of CSV input is ','\u001b[0m\n",
      "\u001b[34m[2019-12-10:08:30:43:INFO] Sniff delimiter as ','\u001b[0m\n",
      "\u001b[34m[2019-12-10:08:30:43:INFO] Determined delimiter of CSV input is ','\u001b[0m\n",
      "\u001b[34m[2019-12-10:08:30:43:INFO] Sniff delimiter as ','\u001b[0m\n",
      "\u001b[34m[2019-12-10:08:30:43:INFO] Determined delimiter of CSV input is ','\u001b[0m\n",
      "\u001b[35m[2019-12-10:08:30:43:INFO] Sniff delimiter as ','\u001b[0m\n",
      "\u001b[35m[2019-12-10:08:30:43:INFO] Determined delimiter of CSV input is ','\u001b[0m\n",
      "\u001b[35m[2019-12-10:08:30:43:INFO] Sniff delimiter as ','\u001b[0m\n",
      "\u001b[35m[2019-12-10:08:30:43:INFO] Determined delimiter of CSV input is ','\u001b[0m\n",
      "\u001b[35m[2019-12-10:08:30:43:INFO] Sniff delimiter as ','\u001b[0m\n",
      "\u001b[35m[2019-12-10:08:30:43:INFO] Determined delimiter of CSV input is ','\u001b[0m\n",
      "\u001b[34m[2019-12-10:08:30:44:INFO] Sniff delimiter as ','\u001b[0m\n",
      "\u001b[34m[2019-12-10:08:30:44:INFO] Determined delimiter of CSV input is ','\u001b[0m\n",
      "\u001b[35m[2019-12-10:08:30:44:INFO] Sniff delimiter as ','\u001b[0m\n",
      "\u001b[35m[2019-12-10:08:30:44:INFO] Determined delimiter of CSV input is ','\u001b[0m\n",
      "\n"
     ]
    }
   ],
   "source": [
    "xgb_transformer.wait()"
   ]
  },
  {
   "cell_type": "markdown",
   "metadata": {},
   "source": [
    "Now the transform job has executed and the result, the estimated sentiment of each review, has been saved on S3. Since we would rather work on this file locally we can perform a bit of notebook magic to copy the file to the `data_dir`."
   ]
  },
  {
   "cell_type": "code",
   "execution_count": 27,
   "metadata": {},
   "outputs": [
    {
     "name": "stdout",
     "output_type": "stream",
     "text": [
      "Completed 256.0 KiB/370.8 KiB (2.9 MiB/s) with 1 file(s) remaining\r",
      "Completed 370.8 KiB/370.8 KiB (4.1 MiB/s) with 1 file(s) remaining\r",
      "download: s3://sagemaker-us-east-1-802725115046/xgboost-2019-12-10-08-26-28-886/test.csv.out to ../data/sentiment_web_app/test.csv.out\r\n"
     ]
    }
   ],
   "source": [
    "!aws s3 cp --recursive $xgb_transformer.output_path $data_dir"
   ]
  },
  {
   "cell_type": "markdown",
   "metadata": {},
   "source": [
    "The last step is now to read in the output from our model, convert the output to something a little more usable, in this case we want the sentiment to be either `1` (positive) or `0` (negative), and then compare to the ground truth labels."
   ]
  },
  {
   "cell_type": "code",
   "execution_count": 28,
   "metadata": {},
   "outputs": [],
   "source": [
    "predictions = pd.read_csv(os.path.join(data_dir, 'test.csv.out'), header=None)\n",
    "predictions = [round(num) for num in predictions.squeeze().values]"
   ]
  },
  {
   "cell_type": "code",
   "execution_count": 29,
   "metadata": {},
   "outputs": [
    {
     "data": {
      "text/plain": [
       "0.862"
      ]
     },
     "execution_count": 29,
     "metadata": {},
     "output_type": "execute_result"
    }
   ],
   "source": [
    "from sklearn.metrics import accuracy_score\n",
    "accuracy_score(test_y, predictions)"
   ]
  },
  {
   "cell_type": "markdown",
   "metadata": {},
   "source": [
    "## Step 6: Deploying the model\n",
    "\n",
    "Once we construct and fit our model, SageMaker stores the resulting model artifacts and we can use those to deploy an endpoint (inference code). To see this, look in the SageMaker console and you should see that a model has been created along with a link to the S3 location where the model artifacts have been stored.\n",
    "\n",
    "Deploying an endpoint is a lot like training the model with a few important differences. The first is that a deployed model doesn't change the model artifacts, so as you send it various testing instances the model won't change. Another difference is that since we aren't performing a fixed computation, as we were in the training step or while performing a batch transform, the compute instance that gets started stays running until we tell it to stop. This is important to note as if we forget and leave it running we will be charged the entire time.\n",
    "\n",
    "In other words **If you are no longer using a deployed endpoint, shut it down!**"
   ]
  },
  {
   "cell_type": "code",
   "execution_count": 30,
   "metadata": {},
   "outputs": [
    {
     "name": "stderr",
     "output_type": "stream",
     "text": [
      "WARNING:sagemaker:Using already existing model: xgboost-2019-12-10-08-15-47-740\n"
     ]
    },
    {
     "name": "stdout",
     "output_type": "stream",
     "text": [
      "----------------------------------------------------------------------------------------------------------------!"
     ]
    }
   ],
   "source": [
    "xgb_predictor = xgb.deploy(initial_instance_count = 1, instance_type = 'ml.m4.xlarge')"
   ]
  },
  {
   "cell_type": "markdown",
   "metadata": {},
   "source": [
    "### Testing the model (again)\n",
    "\n",
    "Now that we have deployed our endpoint, we can send the testing data to it and get back the inference results. We already did this earlier using the batch transform functionality of SageMaker, however, we will test our model again using the newly deployed endpoint so that we can make sure that it works properly and to get a bit of a feel for how the endpoint works.\n",
    "\n",
    "When using the created endpoint it is important to know that we are limited in the amount of information we can send in each call so we need to break the testing data up into chunks and then send each chunk. Also, we need to serialize our data before we send it to the endpoint to ensure that our data is transmitted properly. Fortunately, SageMaker can do the serialization part for us provided we tell it the format of our data."
   ]
  },
  {
   "cell_type": "code",
   "execution_count": 31,
   "metadata": {},
   "outputs": [],
   "source": [
    "from sagemaker.predictor import csv_serializer\n",
    "\n",
    "# We need to tell the endpoint what format the data we are sending is in so that SageMaker can perform the serialization.\n",
    "xgb_predictor.content_type = 'text/csv'\n",
    "xgb_predictor.serializer = csv_serializer"
   ]
  },
  {
   "cell_type": "code",
   "execution_count": 32,
   "metadata": {},
   "outputs": [],
   "source": [
    "# We split the data into chunks and send each chunk seperately, accumulating the results.\n",
    "\n",
    "def predict(data, rows=512):\n",
    "    split_array = np.array_split(data, int(data.shape[0] / float(rows) + 1))\n",
    "    predictions = ''\n",
    "    for array in split_array:\n",
    "        predictions = ','.join([predictions, xgb_predictor.predict(array).decode('utf-8')])\n",
    "    \n",
    "    return np.fromstring(predictions[1:], sep=',')"
   ]
  },
  {
   "cell_type": "code",
   "execution_count": 33,
   "metadata": {},
   "outputs": [],
   "source": [
    "test_X = pd.read_csv(os.path.join(data_dir, 'test.csv'), header=None).values\n",
    "\n",
    "predictions = predict(test_X)\n",
    "predictions = [round(num) for num in predictions]"
   ]
  },
  {
   "cell_type": "markdown",
   "metadata": {},
   "source": [
    "Lastly, we check to see what the accuracy of our model is."
   ]
  },
  {
   "cell_type": "code",
   "execution_count": 34,
   "metadata": {},
   "outputs": [
    {
     "data": {
      "text/plain": [
       "0.862"
      ]
     },
     "execution_count": 34,
     "metadata": {},
     "output_type": "execute_result"
    }
   ],
   "source": [
    "from sklearn.metrics import accuracy_score\n",
    "accuracy_score(test_y, predictions)"
   ]
  },
  {
   "cell_type": "markdown",
   "metadata": {},
   "source": [
    "And the results here should agree with the model testing that we did earlier using the batch transform job.\n",
    "\n",
    "### Cleaning up\n",
    "\n",
    "Now that we've determined that deploying our model works as expected, we are going to shut it down. Remember that the longer the endpoint is left running, the greater the cost and since we have a bit more work to do before we are able to use our endpoint with our simple web app, we should shut everything down."
   ]
  },
  {
   "cell_type": "code",
   "execution_count": 35,
   "metadata": {},
   "outputs": [],
   "source": [
    "xgb_predictor.delete_endpoint()"
   ]
  },
  {
   "cell_type": "markdown",
   "metadata": {},
   "source": [
    "## Step 7: Putting our model to work\n",
    "\n",
    "As we've mentioned a few times now, our goal is to have our model deployed and then access it using a very simple web app. The intent is for this web app to take some user submitted data (a review), send it off to our endpoint (the model) and then display the result.\n",
    "\n",
    "However, there is a small catch. Currently the only way we can access the endpoint to send it data is using the SageMaker API. We can, if we wish, expose the actual URL that our model's endpoint is receiving data from, however, if we just send it data ourselves we will not get anything in return. This is because the endpoint created by SageMaker requires the entity accessing it have the correct permissions. So, we would need to somehow authenticate our web app with AWS.\n",
    "\n",
    "Having a website that authenticates to AWS seems a bit beyond the scope of this lesson so we will opt for an alternative approach. Namely, we will create a new endpoint which does not require authentication and which acts as a proxy for the SageMaker endpoint.\n",
    "\n",
    "As an additional constraint, we will try to avoid doing any data processing in the web app itself. Remember that when we constructed and tested our model we started with a movie review, then we simplified it by removing any html formatting and punctuation, then we constructed a bag of words embedding and the resulting vector is what we sent to our model. All of this needs to be done to our user input as well.\n",
    "\n",
    "Fortunately we can do all of this data processing in the backend, using Amazon's Lambda service.\n",
    "\n",
    "<img src=\"Web App Diagram.svg\">\n",
    "\n",
    "The diagram above gives an overview of how the various services will work together. On the far right is the model which we trained above and which will be deployed using SageMaker. On the far left is our web app that collects a user's movie review, sends it off and expects a positive or negative sentiment in return.\n",
    "\n",
    "In the middle is where some of the magic happens. We will construct a Lambda function, which you can think of as a straightforward Python function that can be executed whenever a specified event occurs. This Python function will do the data processing we need to perform on a user submitted review. In addition, we will give this function permission to send and recieve data from a SageMaker endpoint.\n",
    "\n",
    "Lastly, the method we will use to execute the Lambda function is a new endpoint that we will create using API Gateway. This endpoint will be a url that listens for data to be sent to it. Once it gets some data it will pass that data on to the Lambda function and then return whatever the Lambda function returns. Essentially it will act as an interface that lets our web app communicate with the Lambda function.\n",
    "\n",
    "### Processing a single review\n",
    "\n",
    "For now, suppose we are given a movie review by our user in the form of a string, like so:"
   ]
  },
  {
   "cell_type": "code",
   "execution_count": 36,
   "metadata": {},
   "outputs": [],
   "source": [
    "test_review = \"Nothing but a disgusting materialistic pageant of glistening abed remote control greed zombies, totally devoid of any heart or heat. A romantic comedy that has zero romantic chemestry and zero laughs!\""
   ]
  },
  {
   "cell_type": "markdown",
   "metadata": {},
   "source": [
    "How do we go from this string to the bag of words feature vector that is expected by our model?\n",
    "\n",
    "If we recall at the beginning of this notebook, the first step is to remove any unnecessary characters using the `review_to_words` method. Remember that we intentionally did this in a very simplistic way. This is because we are going to have to copy this method to our (eventual) Lambda function (we will go into more detail later) and this means it needs to be rather simplistic."
   ]
  },
  {
   "cell_type": "code",
   "execution_count": 37,
   "metadata": {},
   "outputs": [
    {
     "name": "stdout",
     "output_type": "stream",
     "text": [
      "nothing but a disgusting materialistic pageant of glistening abed remote control greed zombies totally devoid of any heart or heat a romantic comedy that has zero romantic chemestry and zero laughs\n"
     ]
    }
   ],
   "source": [
    "test_words = review_to_words(test_review)\n",
    "print(test_words)"
   ]
  },
  {
   "cell_type": "markdown",
   "metadata": {},
   "source": [
    "Next, we need to construct a bag of words embedding of the `test_words` string. To do this, remember that a bag of words embedding uses a `vocabulary` consisting of the most frequently appearing words in a set of documents. Then, for each word in the vocabulary we record the number of times that word appears in `test_words`. We constructed the `vocabulary` earlier using the training set for our problem so encoding `test_words` is relatively straightforward."
   ]
  },
  {
   "cell_type": "code",
   "execution_count": 38,
   "metadata": {},
   "outputs": [],
   "source": [
    "def bow_encoding(words, vocabulary):\n",
    "    bow = [0] * len(vocabulary) # Start by setting the count for each word in the vocabulary to zero.\n",
    "    for word in words.split():  # For each word in the string\n",
    "        if word in vocabulary:  # If the word is one that occurs in the vocabulary, increase its count.\n",
    "            bow[vocabulary[word]] += 1\n",
    "    return bow"
   ]
  },
  {
   "cell_type": "code",
   "execution_count": 39,
   "metadata": {},
   "outputs": [
    {
     "name": "stdout",
     "output_type": "stream",
     "text": [
      "[0, 0, 0, 0, 0, 0, 0, 0, 0, 0, 0, 0, 0, 0, 0, 0, 0, 0, 0, 0, 0, 0, 0, 0, 0, 0, 0, 0, 0, 0, 0, 0, 0, 0, 0, 0, 0, 0, 0, 0, 0, 0, 0, 0, 0, 0, 0, 0, 0, 0, 0, 0, 0, 0, 0, 0, 0, 0, 0, 0, 0, 0, 0, 0, 0, 0, 0, 0, 0, 0, 0, 0, 0, 0, 0, 0, 0, 0, 0, 0, 0, 0, 0, 0, 0, 0, 0, 0, 0, 0, 0, 0, 0, 0, 0, 0, 0, 0, 0, 0, 0, 0, 0, 0, 0, 0, 0, 0, 0, 0, 0, 0, 0, 0, 0, 0, 0, 0, 0, 0, 0, 0, 0, 0, 0, 0, 0, 0, 0, 0, 0, 0, 0, 0, 0, 0, 0, 0, 0, 0, 0, 0, 0, 0, 0, 0, 0, 0, 0, 0, 0, 0, 0, 0, 0, 0, 0, 0, 0, 0, 0, 0, 0, 0, 0, 0, 0, 0, 0, 0, 0, 0, 0, 0, 0, 0, 0, 0, 0, 0, 0, 0, 0, 0, 0, 0, 0, 0, 0, 0, 0, 0, 0, 0, 0, 0, 0, 0, 0, 0, 0, 0, 0, 0, 0, 0, 0, 0, 0, 0, 0, 0, 0, 0, 0, 0, 0, 0, 0, 0, 0, 0, 0, 0, 0, 0, 1, 0, 0, 0, 0, 0, 0, 0, 0, 0, 0, 0, 0, 0, 0, 0, 0, 0, 0, 0, 0, 0, 0, 0, 0, 0, 0, 0, 0, 0, 1, 0, 0, 0, 0, 0, 0, 0, 0, 0, 0, 0, 0, 0, 0, 0, 0, 0, 0, 0, 0, 0, 0, 0, 0, 0, 0, 0, 0, 0, 0, 0, 0, 0, 0, 0, 0, 0, 0, 0, 0, 0, 0, 0, 0, 0, 0, 0, 0, 0, 0, 0, 0, 0, 0, 0, 0, 0, 0, 0, 0, 0, 0, 0, 0, 0, 0, 0, 0, 0, 0, 0, 0, 0, 0, 0, 0, 0, 0, 0, 0, 0, 0, 0, 0, 0, 0, 0, 0, 0, 0, 0, 0, 0, 0, 0, 0, 0, 0, 0, 0, 0, 0, 0, 0, 0, 0, 0, 0, 0, 0, 0, 0, 0, 0, 0, 0, 0, 0, 0, 0, 0, 0, 0, 0, 0, 0, 0, 0, 0, 0, 0, 0, 0, 0, 0, 0, 0, 0, 0, 0, 0, 0, 0, 0, 0, 0, 0, 0, 0, 0, 0, 0, 0, 0, 0, 0, 0, 0, 0, 0, 0, 0, 0, 0, 0, 0, 0, 0, 0, 0, 0, 0, 0, 0, 0, 0, 0, 0, 0, 0, 0, 0, 0, 0, 0, 0, 0, 0, 0, 0, 0, 0, 0, 0, 0, 0, 0, 0, 0, 0, 0, 0, 0, 0, 0, 0, 0, 0, 0, 0, 0, 0, 0, 0, 0, 0, 0, 0, 0, 0, 0, 0, 0, 0, 0, 0, 0, 0, 0, 0, 0, 0, 0, 0, 0, 0, 0, 0, 0, 0, 0, 0, 0, 0, 0, 0, 0, 0, 0, 0, 0, 0, 0, 0, 0, 0, 0, 0, 0, 0, 0, 0, 0, 0, 0, 0, 0, 0, 0, 0, 0, 0, 0, 0, 0, 0, 0, 0, 0, 0, 0, 0, 0, 0, 0, 0, 0, 0, 0, 0, 0, 0, 0, 0, 0, 0, 0, 0, 0, 0, 0, 0, 0, 0, 0, 0, 0, 0, 0, 0, 0, 0, 0, 0, 0, 0, 0, 0, 0, 0, 0, 0, 0, 0, 0, 0, 0, 0, 0, 0, 0, 0, 0, 0, 0, 0, 0, 0, 0, 0, 0, 0, 0, 0, 0, 0, 0, 0, 0, 0, 0, 0, 0, 0, 0, 0, 0, 0, 0, 0, 0, 0, 0, 0, 0, 0, 0, 0, 0, 0, 0, 0, 0, 0, 0, 0, 0, 0, 0, 1, 0, 0, 0, 0, 0, 0, 0, 0, 0, 0, 0, 0, 0, 0, 0, 0, 0, 0, 0, 0, 0, 0, 0, 0, 0, 0, 0, 0, 0, 0, 0, 0, 0, 0, 0, 0, 0, 0, 0, 0, 0, 0, 0, 0, 0, 0, 0, 0, 0, 0, 0, 0, 0, 0, 0, 0, 0, 0, 0, 0, 0, 0, 0, 0, 0, 0, 0, 0, 0, 0, 0, 0, 0, 0, 0, 0, 0, 0, 0, 0, 0, 0, 0, 0, 0, 0, 0, 0, 0, 0, 0, 0, 0, 0, 0, 0, 0, 0, 0, 0, 0, 0, 0, 0, 0, 0, 0, 0, 0, 0, 0, 0, 0, 0, 0, 0, 0, 0, 0, 0, 0, 0, 0, 0, 0, 0, 0, 0, 0, 0, 0, 0, 0, 0, 0, 0, 0, 0, 0, 0, 0, 0, 0, 0, 0, 0, 0, 0, 0, 0, 0, 0, 0, 0, 0, 0, 0, 0, 0, 0, 0, 0, 0, 0, 0, 0, 0, 0, 0, 0, 0, 0, 0, 0, 0, 0, 0, 0, 0, 0, 0, 0, 0, 0, 0, 0, 0, 0, 0, 0, 0, 0, 0, 0, 0, 0, 0, 0, 0, 0, 0, 0, 0, 0, 0, 0, 0, 0, 0, 0, 0, 0, 0, 0, 0, 0, 0, 0, 0, 0, 0, 0, 0, 0, 0, 0, 0, 0, 0, 0, 0, 0, 0, 0, 0, 0, 0, 0, 0, 0, 0, 0, 0, 0, 0, 0, 0, 0, 0, 0, 0, 0, 0, 1, 0, 0, 0, 0, 0, 0, 0, 0, 0, 0, 0, 0, 0, 0, 0, 0, 0, 0, 0, 0, 0, 0, 0, 0, 0, 0, 0, 0, 0, 0, 0, 0, 0, 0, 0, 0, 0, 0, 0, 0, 0, 0, 0, 0, 0, 0, 0, 0, 0, 0, 0, 0, 0, 0, 0, 0, 0, 0, 0, 0, 0, 0, 0, 0, 0, 0, 0, 0, 0, 0, 0, 0, 0, 0, 0, 0, 0, 0, 0, 0, 0, 0, 0, 0, 0, 0, 1, 0, 0, 0, 0, 0, 0, 0, 0, 0, 0, 0, 0, 0, 0, 0, 0, 0, 0, 0, 0, 0, 0, 0, 0, 0, 0, 0, 0, 0, 0, 0, 0, 0, 0, 0, 0, 0, 0, 0, 0, 0, 0, 0, 0, 0, 0, 0, 0, 0, 0, 0, 0, 0, 0, 0, 0, 0, 0, 0, 0, 0, 0, 0, 0, 0, 0, 0, 0, 0, 0, 0, 0, 0, 0, 0, 0, 0, 0, 0, 0, 0, 0, 0, 0, 0, 0, 0, 0, 0, 0, 0, 0, 0, 0, 0, 0, 0, 0, 0, 0, 0, 0, 0, 0, 0, 0, 0, 0, 0, 0, 0, 0, 0, 0, 0, 0, 0, 0, 0, 0, 0, 0, 0, 0, 0, 0, 0, 0, 0, 0, 0, 0, 0, 0, 0, 0, 0, 0, 0, 0, 0, 0, 0, 0, 0, 0, 0, 0, 0, 0, 0, 0, 0, 0, 0, 0, 0, 0, 0, 0, 0, 0, 0, 0, 0, 0, 0, 0, 0, 0, 0, 0, 0, 0, 0, 0, 0, 0, 0, 0, 0, 0, 0, 0, 0, 0, 0, 0, 0, 0, 0, 0, 0, 0, 0, 0, 0, 0, 0, 0, 0, 0, 0, 0, 0, 0, 0, 0, 0, 0, 0, 0, 0, 0, 0, 0, 0, 0, 0, 0, 0, 0, 0, 0, 0, 0, 0, 0, 0, 0, 0, 0, 0, 0, 0, 0, 0, 0, 0, 0, 0, 0, 0, 0, 0, 0, 0, 0, 0, 0, 0, 0, 1, 0, 0, 0, 0, 0, 0, 0, 0, 0, 0, 0, 0, 0, 0, 0, 0, 0, 0, 0, 0, 0, 0, 0, 0, 0, 0, 0, 0, 0, 0, 0, 0, 0, 0, 0, 0, 0, 0, 0, 0, 0, 0, 0, 0, 0, 0, 0, 0, 0, 0, 0, 0, 0, 0, 0, 1, 0, 0, 0, 0, 0, 0, 0, 0, 0, 0, 0, 0, 0, 0, 0, 0, 0, 0, 0, 0, 0, 0, 0, 0, 0, 0, 0, 0, 0, 0, 0, 0, 0, 0, 0, 0, 0, 0, 0, 0, 0, 0, 0, 0, 0, 0, 0, 0, 0, 0, 0, 0, 0, 0, 0, 0, 0, 0, 0, 0, 0, 0, 0, 0, 0, 0, 0, 0, 0, 0, 0, 0, 0, 0, 0, 0, 0, 0, 0, 0, 0, 0, 0, 0, 0, 0, 0, 0, 0, 0, 0, 0, 0, 0, 0, 0, 0, 0, 0, 0, 0, 0, 0, 0, 0, 0, 0, 0, 0, 0, 0, 0, 0, 0, 0, 0, 0, 0, 0, 0, 0, 0, 0, 0, 0, 0, 0, 0, 0, 0, 0, 0, 0, 0, 0, 0, 0, 0, 0, 0, 0, 0, 0, 0, 0, 0, 0, 0, 0, 0, 0, 0, 0, 0, 0, 0, 0, 0, 0, 0, 0, 0, 0, 0, 0, 0, 0, 0, 0, 0, 0, 0, 0, 0, 0, 0, 0, 0, 0, 0, 0, 0, 0, 0, 0, 0, 0, 0, 0, 0, 0, 0, 0, 0, 0, 0, 0, 0, 0, 0, 0, 0, 0, 0, 0, 0, 0, 0, 0, 0, 0, 0, 0, 0, 0, 0, 0, 0, 0, 0, 0, 0, 0, 0, 0, 0, 0, 0, 0, 0, 0, 0, 0, 0, 0, 0, 0, 0, 0, 0, 0, 0, 0, 0, 0, 0, 0, 0, 0, 0, 0, 0, 0, 0, 0, 0, 0, 0, 0, 0, 0, 0, 0, 0, 0, 0, 0, 0, 0, 0, 0, 0, 0, 0, 0, 0, 0, 0, 0, 0, 0, 0, 0, 0, 0, 0, 0, 0, 0, 0, 0, 0, 0, 0, 0, 0, 0, 0, 0, 0, 0, 0, 0, 0, 0, 0, 0, 0, 0, 0, 0, 0, 0, 0, 0, 0, 0, 0, 0, 0, 0, 0, 0, 0, 0, 0, 0, 0, 0, 0, 0, 0, 0, 0, 0, 0, 0, 0, 0, 0, 0, 0, 0, 0, 0, 0, 0, 0, 0, 0, 0, 0, 0, 0, 0, 0, 0, 0, 0, 0, 0, 0, 0, 0, 0, 0, 0, 0, 0, 0, 0, 0, 0, 0, 0, 0, 0, 0, 0, 0, 0, 0, 0, 0, 0, 0, 0, 0, 0, 0, 0, 0, 0, 0, 0, 0, 0, 0, 0, 0, 0, 0, 0, 0, 0, 0, 0, 0, 0, 0, 0, 0, 0, 0, 0, 0, 0, 0, 0, 0, 0, 0, 0, 0, 0, 0, 0, 0, 0, 0, 0, 0, 0, 0, 0, 0, 0, 0, 0, 0, 0, 0, 0, 0, 0, 0, 0, 0, 0, 0, 0, 0, 0, 0, 0, 0, 0, 0, 0, 0, 0, 0, 0, 0, 0, 0, 0, 0, 0, 0, 0, 0, 0, 0, 0, 0, 0, 0, 0, 0, 0, 0, 0, 0, 0, 0, 0, 0, 0, 0, 0, 0, 0, 0, 0, 0, 0, 0, 0, 0, 0, 0, 0, 0, 0, 0, 0, 0, 0, 0, 0, 0, 0, 0, 0, 0, 0, 0, 0, 0, 0, 0, 0, 0, 0, 0, 0, 0, 0, 0, 0, 0, 0, 0, 0, 0, 0, 0, 0, 0, 0, 0, 0, 0, 0, 0, 0, 0, 0, 0, 0, 0, 0, 0, 0, 0, 0, 0, 0, 0, 0, 0, 0, 0, 0, 0, 0, 0, 0, 0, 0, 0, 0, 0, 0, 0, 0, 0, 0, 0, 0, 0, 0, 0, 0, 0, 0, 0, 0, 0, 0, 0, 0, 0, 0, 0, 0, 0, 0, 0, 0, 0, 0, 0, 0, 0, 0, 0, 0, 0, 0, 0, 0, 0, 0, 0, 0, 0, 0, 0, 0, 0, 0, 0, 0, 0, 0, 0, 0, 0, 0, 0, 0, 0, 0, 0, 0, 0, 0, 0, 0, 0, 0, 0, 0, 0, 0, 0, 0, 0, 0, 0, 0, 0, 0, 0, 0, 0, 0, 0, 0, 0, 0, 0, 0, 0, 0, 0, 0, 0, 0, 0, 0, 0, 0, 0, 0, 0, 0, 0, 0, 1, 0, 0, 0, 0, 0, 0, 0, 0, 0, 0, 0, 0, 0, 0, 0, 0, 0, 0, 0, 0, 0, 0, 0, 0, 0, 0, 0, 0, 0, 0, 0, 0, 0, 0, 0, 0, 0, 0, 0, 0, 0, 0, 0, 0, 0, 0, 0, 0, 0, 0, 0, 0, 0, 0, 0, 0, 0, 0, 0, 0, 0, 0, 0, 0, 0, 0, 0, 0, 0, 0, 0, 0, 0, 0, 1, 0, 0, 0, 0, 0, 0, 0, 0, 0, 0, 0, 0, 0, 0, 0, 0, 0, 0, 0, 0, 1, 0, 0, 1, 0, 0, 0, 0, 0, 0, 0, 0, 0, 0, 0, 0, 0, 0, 0, 0, 0, 0, 0, 0, 0, 0, 0, 0, 0, 0, 0, 0, 0, 0, 0, 0, 0, 0, 0, 0, 0, 0, 0, 0, 0, 0, 0, 0, 0, 0, 0, 0, 0, 0, 0, 0, 0, 0, 0, 0, 0, 0, 0, 0, 0, 0, 0, 0, 0, 0, 0, 0, 0, 0, 0, 0, 0, 0, 0, 0, 0, 0, 0, 0, 0, 0, 0, 0, 0, 0, 0, 0, 0, 0, 0, 0, 0, 0, 0, 0, 0, 0, 0, 0, 0, 0, 0, 0, 0, 0, 0, 0, 0, 0, 0, 0, 0, 0, 0, 0, 0, 0, 0, 0, 0, 0, 0, 0, 0, 0, 0, 0, 0, 0, 0, 0, 0, 0, 0, 0, 0, 0, 0, 0, 0, 0, 0, 0, 0, 0, 0, 0, 0, 0, 0, 0, 0, 0, 0, 0, 0, 0, 0, 0, 0, 0, 0, 0, 0, 0, 0, 0, 0, 0, 0, 0, 0, 0, 0, 0, 0, 0, 0, 0, 0, 0, 0, 0, 0, 0, 0, 0, 0, 0, 0, 0, 0, 0, 0, 0, 0, 0, 0, 0, 0, 0, 0, 0, 0, 0, 0, 0, 0, 0, 0, 0, 0, 0, 0, 0, 0, 0, 0, 0, 0, 0, 0, 0, 0, 0, 0, 0, 0, 0, 0, 0, 0, 0, 0, 0, 0, 0, 0, 0, 0, 0, 0, 0, 0, 0, 0, 0, 0, 0, 0, 0, 0, 0, 0, 0, 0, 0, 0, 0, 0, 0, 0, 0, 0, 0, 0, 0, 0, 0, 0, 0, 0, 0, 0, 0, 0, 0, 0, 0, 0, 0, 0, 0, 0, 0, 0, 0, 0, 0, 0, 0, 0, 0, 0, 0, 0, 0, 0, 0, 0, 0, 0, 0, 0, 0, 0, 0, 0, 0, 0, 0, 0, 0, 0, 0, 0, 0, 0, 0, 0, 0, 0, 0, 0, 0, 0, 0, 0, 0, 0, 0, 0, 0, 0, 0, 0, 0, 0, 0, 0, 0, 0, 0, 0, 0, 0, 0, 0, 0, 0, 0, 0, 0, 0, 0, 0, 0, 0, 0, 0, 0, 0, 0, 0, 0, 0, 0, 0, 0, 0, 0, 0, 0, 0, 0, 0, 0, 0, 0, 0, 0, 0, 0, 0, 0, 0, 0, 0, 0, 0, 0, 0, 0, 0, 0, 0, 0, 0, 0, 0, 0, 0, 0, 0, 0, 0, 0, 0, 0, 0, 0, 0, 0, 0, 0, 0, 0, 0, 0, 0, 0, 0, 0, 0, 0, 0, 0, 0, 0, 0, 0, 0, 0, 0, 0, 0, 0, 0, 0, 0, 0, 0, 0, 0, 0, 0, 0, 0, 0, 0, 0, 0, 0, 0, 0, 0, 0, 0, 0, 0, 0, 0, 0, 0, 0, 1, 0, 0, 0, 0, 0, 0, 0, 0, 0, 0, 0, 0, 0, 0, 0, 0, 0, 0, 0, 0, 0, 0, 0, 0, 0, 0, 0, 0, 0, 0, 0, 0, 0, 0, 0, 0, 0, 0, 0, 0, 0, 0, 0, 0, 0, 0, 0, 0, 0, 0, 0, 0, 0, 0, 0, 0, 0, 0, 0, 0, 0, 0, 0, 0, 0, 0, 0, 0, 0, 0, 0, 0, 0, 0, 0, 0, 0, 0, 0, 0, 0, 0, 0, 0, 0, 0, 0, 0, 0, 0, 0, 0, 0, 0, 0, 0, 0, 0, 0, 0, 0, 0, 0, 0, 0, 0, 0, 0, 0, 0, 0, 0, 0, 0, 0, 0, 0, 0, 0, 0, 0, 0, 0, 0, 0, 0, 0, 0, 0, 0, 0, 0, 0, 0, 0, 0, 0, 0, 0, 0, 0, 0, 0, 0, 0, 0, 0, 0, 0, 0, 0, 0, 0, 0, 0, 0, 0, 0, 0, 0, 0, 0, 0, 0, 0, 0, 0, 0, 0, 0, 0, 0, 0, 0, 0, 0, 0, 0, 0, 0, 0, 0, 0, 0, 0, 0, 0, 0, 0, 0, 0, 0, 0, 0, 0, 0, 0, 0, 0, 0, 0, 0, 0, 0, 0, 0, 0, 0, 0, 0, 0, 0, 0, 0, 0, 0, 0, 0, 0, 0, 0, 0, 0, 0, 0, 0, 0, 0, 0, 0, 0, 0, 0, 0, 0, 0, 0, 0, 0, 0, 0, 0, 0, 0, 0, 0, 0, 0, 0, 0, 0, 0, 0, 0, 0, 0, 0, 0, 0, 0, 0, 0, 0, 0, 0, 0, 0, 0, 0, 0, 0, 0, 0, 0, 0, 0, 0, 0, 0, 0, 0, 0, 0, 0, 0, 0, 0, 0, 0, 0, 0, 0, 0, 0, 0, 0, 0, 0, 0, 0, 0, 0, 0, 0, 0, 0, 0, 0, 0, 0, 0, 0, 0, 0, 0, 0, 0, 0, 0, 0, 0, 0, 0, 0, 0, 0, 0, 0, 0, 0, 0, 0, 0, 0, 0, 0, 0, 0, 0, 0, 0, 0, 0, 0, 0, 0, 0, 0, 0, 0, 0, 0, 0, 0, 0, 0, 0, 0, 0, 0, 0, 0, 0, 0, 0, 0, 0, 0, 0, 0, 0, 0, 0, 0, 0, 0, 0, 0, 0, 0, 0, 0, 0, 0, 0, 0, 0, 0, 0, 0, 0, 0, 0, 0, 0, 0, 0, 0, 0, 0, 0, 0, 0, 0, 0, 0, 0, 0, 0, 0, 0, 0, 0, 0, 0, 0, 0, 0, 0, 0, 0, 0, 0, 0, 0, 0, 0, 0, 0, 0, 0, 0, 0, 0, 0, 0, 0, 0, 0, 0, 0, 0, 0, 0, 0, 0, 0, 0, 0, 0, 0, 0, 0, 0, 0, 0, 0, 0, 0, 0, 0, 0, 0, 0, 0, 0, 0, 0, 0, 0, 0, 0, 0, 0, 0, 0, 0, 0, 0, 0, 0, 0, 0, 0, 0, 0, 0, 0, 0, 0, 0, 0, 0, 0, 0, 0, 0, 0, 0, 0, 0, 0, 0, 0, 0, 0, 0, 0, 0, 0, 0, 0, 1, 0, 0, 0, 0, 0, 0, 0, 0, 0, 0, 0, 0, 0, 0, 0, 0, 0, 0, 0, 0, 0, 0, 0, 0, 0, 0, 0, 0, 0, 0, 0, 0, 0, 0, 0, 2, 0, 0, 0, 0, 0, 0, 0, 0, 0, 0, 0, 0, 0, 0, 0, 0, 0, 0, 0, 0, 0, 0, 0, 0, 0, 0, 0, 0, 0, 0, 0, 0, 0, 0, 0, 0, 0, 0, 0, 0, 1, 0, 0, 0, 0, 0, 0, 0, 0, 0, 0, 0, 0, 0, 0, 0, 0, 0, 0, 0, 0, 0, 0, 0, 0, 0, 0, 0, 0, 0, 0, 0, 0, 0, 0, 0, 0, 0, 0, 0, 0, 0, 0, 0, 0, 0, 0, 0, 0, 0, 0, 0, 0, 0, 0, 0, 0, 0, 0, 0, 0, 0, 0, 0, 0, 0, 0, 0, 0, 0, 0, 0, 0, 0, 0, 0, 0, 0, 0, 0, 0, 0, 0, 0, 0, 0, 0, 0, 0, 0, 0, 0, 0, 0, 0, 0, 0, 0, 0, 0, 0, 0, 0, 0, 0, 0, 0, 0, 0, 0, 0, 0, 0, 0, 0, 0, 0, 0, 0, 0, 0, 0, 0, 0, 0, 0, 0, 0, 0, 0, 0, 0, 0, 0, 0, 0, 0, 0, 0, 0, 0, 0, 0, 0, 0, 0, 0, 0, 0, 0, 0, 0, 0, 0, 0, 0, 0, 0, 0, 0, 0, 0, 0, 0, 0, 0, 0, 0, 0, 0, 0, 0, 0, 0, 0, 0, 0, 0, 0, 0, 0, 0, 0, 0, 0, 0, 0, 0, 0, 0, 0, 0, 0, 0, 0, 0, 0, 0, 0, 0, 0, 0, 0, 0, 0, 0, 0, 0, 0, 0, 0, 0, 0, 0, 0, 0, 0, 0, 0, 0, 0, 0, 0, 0, 0, 0, 0, 0, 0, 0, 0, 0, 0, 0, 0, 0, 0, 0, 0, 0, 0, 0, 0, 0, 0, 0, 0, 0, 0, 0, 0, 0, 0, 0, 0, 0, 0, 0, 0, 0, 0, 0, 0, 0, 0, 0, 0, 0, 0, 0, 0, 0, 0, 0, 0, 0, 0, 0, 0, 0, 0, 0, 0, 0, 0, 0, 0, 0, 0, 0, 0, 0, 0, 0, 0, 0, 0, 0, 0, 0, 0, 0, 0, 0, 0, 0, 0, 0, 0, 0, 0, 0, 0, 0, 0, 0, 0, 0, 0, 0, 0, 0, 0, 0, 0, 0, 0, 0, 0, 0, 0, 0, 0, 0, 0, 0, 0, 0, 0, 0, 0, 0, 0, 0, 0, 0, 0, 0, 0, 0, 0, 0, 0, 0, 0, 0, 0, 0, 0, 0, 0, 0, 0, 0, 0, 0, 0, 0, 0, 0, 0, 0, 0, 0, 0, 0, 0, 0, 0, 0, 0, 0, 0, 0, 0, 0, 0, 0, 0, 0, 0, 0, 0, 0, 0, 0, 0, 0, 0, 0, 0, 0, 0, 0, 0, 0, 0, 0, 0, 0, 0, 0, 0, 0, 0, 0, 0, 0, 0, 0, 0, 0, 0, 0, 0, 0, 0, 0, 0, 0, 0, 0, 0, 0, 0, 0, 0, 0, 0, 0, 0, 0, 0, 0, 0, 0, 0, 0, 0, 0, 0, 0, 0, 0, 0, 0, 0, 0, 0, 0, 0, 0, 0, 0, 0, 0, 0, 0, 0, 0, 0, 0, 0, 0, 0, 0, 0, 0, 0, 0, 0, 0, 0, 0, 0, 0, 0, 0, 0, 0, 0, 0, 0, 0, 0, 0, 0, 0, 1, 0, 0, 0, 0, 0, 0, 0, 0, 0, 0, 0, 0, 0, 0, 0, 0, 0, 0, 0, 0, 0, 0, 0, 0, 0, 0, 0, 0, 0, 0, 0, 0, 0, 0, 0, 0, 0, 0, 0, 0, 0, 0, 0, 0, 0, 0, 0, 0, 0, 0, 0, 0, 0, 0, 0, 0, 0, 0, 0, 0, 0, 0, 0, 0, 0, 0, 0, 0, 0, 0, 0, 0, 0, 0, 0, 0, 0, 0, 0, 0, 0, 0, 0, 0, 0, 0, 0, 0, 0, 0, 0, 0, 0, 0, 0, 0, 0, 0, 0, 0, 0, 0, 0, 0, 0, 0, 0, 0, 0, 0, 2, 0, 0, 0, 0, 0, 0, 0, 0, 0, 0, 0, 0, 0, 0, 0, 0, 0, 0, 0, 0, 0, 0, 0, 0, 0, 0, 0, 0, 0, 0, 0, 0, 0, 0, 0, 0, 0, 0, 0, 0, 0, 0, 0, 0, 0, 0, 0, 0, 0, 0, 0, 0, 0, 0, 0, 0, 0, 0, 0, 0, 0, 0, 0, 0, 0, 0, 0, 0, 0, 0, 0, 0, 0, 0, 0, 0, 0, 0, 0, 0, 0, 0, 0, 0, 0, 0, 0, 0, 0, 0, 0, 0, 0, 0, 0, 0, 0, 0, 0, 0, 0, 0, 0, 0, 0, 0, 0, 0, 0, 0, 0, 0, 0, 0, 0, 0, 0, 0, 0, 0, 0, 0, 0, 0, 0, 0, 0, 0, 0, 0, 0, 0, 0, 0, 0, 0, 0, 0, 0, 0, 0, 0, 0, 0, 0, 0, 0, 0, 0, 0, 0, 0, 0, 0, 0, 0, 0, 0, 0, 0, 0, 0, 0, 0, 0, 0, 0, 0, 0, 0, 0, 0, 0, 0, 0, 0, 0, 0, 0, 0, 0, 0, 0, 0, 0, 0, 0, 0, 0, 0, 0, 0, 0, 0, 0, 0, 0, 0, 0, 0, 0, 0, 0, 0, 0, 0, 0, 0, 0, 0, 0, 0, 0, 0, 0, 0, 0, 0, 0, 0, 0, 0, 0, 0, 0, 0, 0, 0, 0, 0, 0, 0, 0, 0, 0, 0, 0, 0, 0, 0, 0, 0, 0, 0, 0, 0, 0, 0, 0, 0, 0, 0, 0, 0, 0, 0, 0, 0, 0, 0, 0, 0, 0, 0, 0, 0, 0, 0, 0, 0, 0, 0, 0, 0, 0, 0, 0, 0, 0, 0, 0, 0, 0, 0, 0, 0, 0, 0, 0, 0, 0, 0, 0, 0, 0, 0, 0, 0, 0, 0, 0, 0, 0, 0, 0, 0, 0, 0, 0, 0, 0, 0, 0, 0, 0, 0, 0, 0, 0, 0, 0, 0, 0, 0, 0, 0, 0, 0, 0, 0, 0, 0, 0, 0, 0, 0, 0, 0, 0, 0, 0, 0, 0, 0, 0, 0, 0, 0, 0, 0, 0, 0, 0, 0, 0, 0, 0, 0, 0, 0, 0, 0, 0, 0, 0, 0, 0, 0, 0, 0, 0, 0, 0, 0, 0, 0, 0, 0, 0, 0, 0, 0, 0, 0, 0, 0, 0, 0, 0, 0, 0, 0, 0, 0, 0, 0, 0, 0, 0, 0, 0, 0, 0, 0, 0, 0, 0, 0, 0, 0, 0, 0, 0, 0, 0, 0, 0, 0, 0, 0, 0, 0, 0, 0, 0, 0, 0, 0, 0, 0, 0, 0, 0, 0, 0, 0, 0, 0, 0, 0, 0, 0, 0, 0, 0, 0, 0, 0, 0, 0, 0, 0, 0, 0, 0, 0, 0, 0, 0, 0, 0, 0, 0, 0, 0, 0, 0, 0, 0, 0, 0, 0, 0, 0, 0, 0, 0, 0, 0, 0, 0, 0, 0, 0, 0, 0, 0, 0, 0, 0, 0, 0, 0, 0, 0, 0, 0, 0, 0, 0, 0, 0, 0, 0, 0, 0, 0, 0, 0, 0, 0, 0, 0, 0, 0, 0, 0, 0, 0, 0, 0, 0, 0, 0, 0, 0, 0, 0, 0, 0, 0, 0, 0, 0, 0, 0, 0, 0, 0, 0, 0, 0, 0, 0, 0, 0, 0, 0, 0, 0, 0, 0, 0, 0, 0, 0, 0, 0, 0, 0, 0, 0, 0, 0, 0, 0, 0, 0, 0, 0, 0, 0, 0, 0, 0, 0, 0, 0, 0, 0, 0, 0, 0, 0, 0, 0, 0, 0, 0, 0, 0, 0, 0, 0, 0, 0, 0, 0, 0, 0, 0, 0, 0, 0, 0, 0, 0, 0, 0, 0, 0, 0, 0, 0, 0, 0, 0, 0, 0, 0, 0, 0, 0, 0, 0, 0, 0, 0, 0, 0, 0, 0, 0, 0, 0, 0, 0, 0, 0, 0, 0, 0, 0, 0, 0, 0, 0, 0, 0, 0, 0, 0, 0, 0, 0, 0, 0, 0, 0, 0, 0, 0, 0, 0, 0, 0, 0, 0, 0, 0, 0, 0, 0, 0, 0, 0, 0, 0, 0, 0, 0, 0, 0, 0, 0, 0, 0, 0, 0, 0, 1, 0, 0, 0, 0, 0, 0, 0, 0, 0, 0, 0, 0, 0, 0, 0, 0, 0, 0, 0, 0, 0, 0, 0, 0, 0, 0, 0, 0, 0, 0, 0, 0, 0, 0, 0, 0, 0, 0, 0, 0, 0, 0, 0, 0, 0, 0, 0, 0, 0, 0, 0, 0, 0, 0, 0, 0, 0, 0, 0, 0, 0, 0, 0, 0, 0, 0, 0, 0, 0, 0, 0, 0, 0, 0, 0, 0, 0, 0, 0, 0, 0, 0, 0, 0, 0, 0, 0, 0, 0, 0, 0, 0, 0, 0, 0, 0, 0, 0, 0, 0, 0, 0, 0, 0, 0, 0, 0, 1, 0, 0, 0, 0, 0, 0, 0, 0, 0, 0, 0, 0, 0, 0, 0, 0, 0, 0, 0, 0, 0, 0, 0, 0, 0, 0, 0, 0, 0, 0, 0, 0, 0, 0, 0, 0, 0, 0, 0, 0, 0, 0, 0, 0, 0, 0, 0, 0, 0, 0, 0, 0, 0, 0, 0, 0, 0, 0, 0, 0, 0, 0, 0, 0, 0, 0, 0, 0, 0, 0, 0, 0, 0, 0, 0, 0, 0, 0, 0, 0, 0, 0, 0, 0, 0, 0, 0, 0, 0, 0, 0, 0, 0, 0, 0, 0, 0, 0, 0, 0, 0, 0, 0, 0, 0, 0, 0, 0, 0, 0, 0, 0, 0, 0, 0, 0, 0, 0, 0, 0, 0, 0, 0, 0, 0, 0, 0, 0, 0, 0, 0, 0, 0, 0, 0, 0, 0, 0, 0, 0, 0, 0, 0, 0, 0, 0, 0, 0, 0, 0, 0, 0, 0, 0, 0, 0, 0, 0, 0, 0, 0, 0, 0, 0, 0, 0, 0, 0, 0, 0, 0, 0, 0, 0, 0, 0, 0, 0, 0, 0, 0, 0, 0, 0, 0, 0, 0, 0, 0, 0, 0, 0, 0, 0, 0, 0, 0, 0, 0, 0, 0, 0, 0, 0, 0, 0, 0, 0, 0, 0, 0, 0, 0, 0, 0, 0, 0, 0, 0, 0, 0, 0, 0, 0, 0, 0, 0, 0, 0, 0, 0, 0, 0, 0, 0, 0, 0, 0, 0, 0, 0, 0, 0, 0, 0, 0, 0, 0, 0, 0, 0, 0, 0, 0, 0, 0, 0, 0, 0, 0, 0, 0, 0, 0, 0, 0, 0, 0, 0, 0, 0, 0, 0, 0, 0, 0, 0, 0, 0, 0, 0, 0, 0, 0, 0, 0, 0, 0, 0, 0, 0, 0, 0, 0, 0, 0, 0, 0, 0, 0, 0, 0, 0, 0, 0, 0, 0, 0, 0, 0, 0, 0, 0, 0, 0, 0, 0, 0, 0, 0, 0, 0, 0, 0, 0, 0, 0, 0, 0, 0, 0, 0, 0, 0, 0, 0, 0, 0, 0, 0, 0, 0, 0, 0, 0, 0, 0, 0, 0, 0, 0, 0, 0, 0, 0, 0, 0, 0, 0, 0, 0, 0, 0, 0, 0, 0, 0, 0, 0, 0, 0, 0, 0, 0, 0, 0, 0, 0, 0, 0, 0, 0, 0, 0, 0, 0, 0, 0, 0, 0, 0, 0, 0, 0, 0, 0, 0, 0, 0, 0, 0, 0, 0, 0, 0, 0, 0, 0, 0, 0, 0, 0, 0, 0, 0, 0, 0, 0, 0, 0, 0, 0, 0, 0, 0, 0, 0, 0, 0, 0, 0, 0, 0, 0, 0, 0, 0, 0, 0, 0, 0, 0, 0, 0, 0, 0, 0, 0, 0, 0, 0, 0, 0, 0, 0, 0, 0, 0, 0, 0, 0, 0, 0, 2, 0, 1, 0]\n"
     ]
    }
   ],
   "source": [
    "test_bow = bow_encoding(test_words, vocabulary)\n",
    "print(test_bow)"
   ]
  },
  {
   "cell_type": "code",
   "execution_count": 40,
   "metadata": {},
   "outputs": [
    {
     "data": {
      "text/plain": [
       "5000"
      ]
     },
     "execution_count": 40,
     "metadata": {},
     "output_type": "execute_result"
    }
   ],
   "source": [
    "len(test_bow)"
   ]
  },
  {
   "cell_type": "markdown",
   "metadata": {},
   "source": [
    "So now we know how to construct a bag of words encoding of a user provided review, how to we send it to our endpoint? First, we need to start the endpoint back up."
   ]
  },
  {
   "cell_type": "code",
   "execution_count": 41,
   "metadata": {},
   "outputs": [
    {
     "name": "stderr",
     "output_type": "stream",
     "text": [
      "WARNING:sagemaker:Using already existing model: xgboost-2019-12-10-08-15-47-740\n"
     ]
    },
    {
     "name": "stdout",
     "output_type": "stream",
     "text": [
      "---------------------------------------------------------------------------------------------------------------!"
     ]
    }
   ],
   "source": [
    "xgb_predictor = xgb.deploy(initial_instance_count = 1, instance_type = 'ml.m4.xlarge')"
   ]
  },
  {
   "cell_type": "markdown",
   "metadata": {},
   "source": [
    "At this point we could just do the same thing that we did earlier when we tested our deployed model and send `test_bow` to our endpoint using the `xgb_predictor` object. However, when we eventually construct our Lambda function we won't have access to this object, so how do we call a SageMaker endpoint?\n",
    "\n",
    "It turns out that Python functions that are used in Lambda have access to another Amazon library called `boto3`. This library provides an API for working with Amazon services, including SageMaker. To start with, we need to get a handle to the SageMaker runtime."
   ]
  },
  {
   "cell_type": "code",
   "execution_count": 42,
   "metadata": {},
   "outputs": [],
   "source": [
    "import boto3\n",
    "\n",
    "runtime = boto3.Session().client('sagemaker-runtime')"
   ]
  },
  {
   "cell_type": "markdown",
   "metadata": {},
   "source": [
    "And now that we have access to the SageMaker runtime, we can ask it to make use of (invoke) an endpoint that has already been created. However, we need to provide SageMaker with the name of the deployed endpoint. To find this out we can print it out using the `xgb_predictor` object."
   ]
  },
  {
   "cell_type": "code",
   "execution_count": 43,
   "metadata": {},
   "outputs": [
    {
     "data": {
      "text/plain": [
       "'xgboost-2019-12-10-08-15-47-740'"
      ]
     },
     "execution_count": 43,
     "metadata": {},
     "output_type": "execute_result"
    }
   ],
   "source": [
    "xgb_predictor.endpoint"
   ]
  },
  {
   "cell_type": "markdown",
   "metadata": {},
   "source": [
    "Using the SageMaker runtime and the name of our endpoint, we can invoke the endpoint and send it the `test_bow` data."
   ]
  },
  {
   "cell_type": "code",
   "execution_count": 44,
   "metadata": {},
   "outputs": [
    {
     "ename": "ParamValidationError",
     "evalue": "Parameter validation failed:\nInvalid type for parameter Body, value: [0, 0, 0, 0, 0, 0, 0, 0, 0, 0, 0, 0, 0, 0, 0, 0, 0, 0, 0, 0, 0, 0, 0, 0, 0, 0, 0, 0, 0, 0, 0, 0, 0, 0, 0, 0, 0, 0, 0, 0, 0, 0, 0, 0, 0, 0, 0, 0, 0, 0, 0, 0, 0, 0, 0, 0, 0, 0, 0, 0, 0, 0, 0, 0, 0, 0, 0, 0, 0, 0, 0, 0, 0, 0, 0, 0, 0, 0, 0, 0, 0, 0, 0, 0, 0, 0, 0, 0, 0, 0, 0, 0, 0, 0, 0, 0, 0, 0, 0, 0, 0, 0, 0, 0, 0, 0, 0, 0, 0, 0, 0, 0, 0, 0, 0, 0, 0, 0, 0, 0, 0, 0, 0, 0, 0, 0, 0, 0, 0, 0, 0, 0, 0, 0, 0, 0, 0, 0, 0, 0, 0, 0, 0, 0, 0, 0, 0, 0, 0, 0, 0, 0, 0, 0, 0, 0, 0, 0, 0, 0, 0, 0, 0, 0, 0, 0, 0, 0, 0, 0, 0, 0, 0, 0, 0, 0, 0, 0, 0, 0, 0, 0, 0, 0, 0, 0, 0, 0, 0, 0, 0, 0, 0, 0, 0, 0, 0, 0, 0, 0, 0, 0, 0, 0, 0, 0, 0, 0, 0, 0, 0, 0, 0, 0, 0, 0, 0, 0, 0, 0, 0, 0, 0, 0, 0, 0, 1, 0, 0, 0, 0, 0, 0, 0, 0, 0, 0, 0, 0, 0, 0, 0, 0, 0, 0, 0, 0, 0, 0, 0, 0, 0, 0, 0, 0, 0, 1, 0, 0, 0, 0, 0, 0, 0, 0, 0, 0, 0, 0, 0, 0, 0, 0, 0, 0, 0, 0, 0, 0, 0, 0, 0, 0, 0, 0, 0, 0, 0, 0, 0, 0, 0, 0, 0, 0, 0, 0, 0, 0, 0, 0, 0, 0, 0, 0, 0, 0, 0, 0, 0, 0, 0, 0, 0, 0, 0, 0, 0, 0, 0, 0, 0, 0, 0, 0, 0, 0, 0, 0, 0, 0, 0, 0, 0, 0, 0, 0, 0, 0, 0, 0, 0, 0, 0, 0, 0, 0, 0, 0, 0, 0, 0, 0, 0, 0, 0, 0, 0, 0, 0, 0, 0, 0, 0, 0, 0, 0, 0, 0, 0, 0, 0, 0, 0, 0, 0, 0, 0, 0, 0, 0, 0, 0, 0, 0, 0, 0, 0, 0, 0, 0, 0, 0, 0, 0, 0, 0, 0, 0, 0, 0, 0, 0, 0, 0, 0, 0, 0, 0, 0, 0, 0, 0, 0, 0, 0, 0, 0, 0, 0, 0, 0, 0, 0, 0, 0, 0, 0, 0, 0, 0, 0, 0, 0, 0, 0, 0, 0, 0, 0, 0, 0, 0, 0, 0, 0, 0, 0, 0, 0, 0, 0, 0, 0, 0, 0, 0, 0, 0, 0, 0, 0, 0, 0, 0, 0, 0, 0, 0, 0, 0, 0, 0, 0, 0, 0, 0, 0, 0, 0, 0, 0, 0, 0, 0, 0, 0, 0, 0, 0, 0, 0, 0, 0, 0, 0, 0, 0, 0, 0, 0, 0, 0, 0, 0, 0, 0, 0, 0, 0, 0, 0, 0, 0, 0, 0, 0, 0, 0, 0, 0, 0, 0, 0, 0, 0, 0, 0, 0, 0, 0, 0, 0, 0, 0, 0, 0, 0, 0, 0, 0, 0, 0, 0, 0, 0, 0, 0, 0, 0, 0, 0, 0, 0, 0, 0, 0, 0, 0, 0, 0, 0, 0, 0, 0, 0, 0, 0, 0, 0, 0, 0, 0, 0, 0, 0, 0, 0, 0, 0, 0, 0, 0, 0, 0, 0, 0, 0, 0, 0, 0, 0, 0, 0, 0, 0, 0, 0, 0, 0, 0, 0, 0, 0, 0, 0, 0, 0, 0, 0, 0, 0, 0, 0, 0, 0, 0, 0, 0, 0, 0, 0, 0, 0, 0, 0, 0, 0, 0, 0, 0, 0, 0, 0, 0, 0, 1, 0, 0, 0, 0, 0, 0, 0, 0, 0, 0, 0, 0, 0, 0, 0, 0, 0, 0, 0, 0, 0, 0, 0, 0, 0, 0, 0, 0, 0, 0, 0, 0, 0, 0, 0, 0, 0, 0, 0, 0, 0, 0, 0, 0, 0, 0, 0, 0, 0, 0, 0, 0, 0, 0, 0, 0, 0, 0, 0, 0, 0, 0, 0, 0, 0, 0, 0, 0, 0, 0, 0, 0, 0, 0, 0, 0, 0, 0, 0, 0, 0, 0, 0, 0, 0, 0, 0, 0, 0, 0, 0, 0, 0, 0, 0, 0, 0, 0, 0, 0, 0, 0, 0, 0, 0, 0, 0, 0, 0, 0, 0, 0, 0, 0, 0, 0, 0, 0, 0, 0, 0, 0, 0, 0, 0, 0, 0, 0, 0, 0, 0, 0, 0, 0, 0, 0, 0, 0, 0, 0, 0, 0, 0, 0, 0, 0, 0, 0, 0, 0, 0, 0, 0, 0, 0, 0, 0, 0, 0, 0, 0, 0, 0, 0, 0, 0, 0, 0, 0, 0, 0, 0, 0, 0, 0, 0, 0, 0, 0, 0, 0, 0, 0, 0, 0, 0, 0, 0, 0, 0, 0, 0, 0, 0, 0, 0, 0, 0, 0, 0, 0, 0, 0, 0, 0, 0, 0, 0, 0, 0, 0, 0, 0, 0, 0, 0, 0, 0, 0, 0, 0, 0, 0, 0, 0, 0, 0, 0, 0, 0, 0, 0, 0, 0, 0, 0, 0, 0, 0, 0, 0, 0, 0, 0, 0, 0, 0, 0, 0, 0, 0, 0, 0, 1, 0, 0, 0, 0, 0, 0, 0, 0, 0, 0, 0, 0, 0, 0, 0, 0, 0, 0, 0, 0, 0, 0, 0, 0, 0, 0, 0, 0, 0, 0, 0, 0, 0, 0, 0, 0, 0, 0, 0, 0, 0, 0, 0, 0, 0, 0, 0, 0, 0, 0, 0, 0, 0, 0, 0, 0, 0, 0, 0, 0, 0, 0, 0, 0, 0, 0, 0, 0, 0, 0, 0, 0, 0, 0, 0, 0, 0, 0, 0, 0, 0, 0, 0, 0, 0, 0, 1, 0, 0, 0, 0, 0, 0, 0, 0, 0, 0, 0, 0, 0, 0, 0, 0, 0, 0, 0, 0, 0, 0, 0, 0, 0, 0, 0, 0, 0, 0, 0, 0, 0, 0, 0, 0, 0, 0, 0, 0, 0, 0, 0, 0, 0, 0, 0, 0, 0, 0, 0, 0, 0, 0, 0, 0, 0, 0, 0, 0, 0, 0, 0, 0, 0, 0, 0, 0, 0, 0, 0, 0, 0, 0, 0, 0, 0, 0, 0, 0, 0, 0, 0, 0, 0, 0, 0, 0, 0, 0, 0, 0, 0, 0, 0, 0, 0, 0, 0, 0, 0, 0, 0, 0, 0, 0, 0, 0, 0, 0, 0, 0, 0, 0, 0, 0, 0, 0, 0, 0, 0, 0, 0, 0, 0, 0, 0, 0, 0, 0, 0, 0, 0, 0, 0, 0, 0, 0, 0, 0, 0, 0, 0, 0, 0, 0, 0, 0, 0, 0, 0, 0, 0, 0, 0, 0, 0, 0, 0, 0, 0, 0, 0, 0, 0, 0, 0, 0, 0, 0, 0, 0, 0, 0, 0, 0, 0, 0, 0, 0, 0, 0, 0, 0, 0, 0, 0, 0, 0, 0, 0, 0, 0, 0, 0, 0, 0, 0, 0, 0, 0, 0, 0, 0, 0, 0, 0, 0, 0, 0, 0, 0, 0, 0, 0, 0, 0, 0, 0, 0, 0, 0, 0, 0, 0, 0, 0, 0, 0, 0, 0, 0, 0, 0, 0, 0, 0, 0, 0, 0, 0, 0, 0, 0, 0, 0, 0, 0, 0, 0, 0, 0, 1, 0, 0, 0, 0, 0, 0, 0, 0, 0, 0, 0, 0, 0, 0, 0, 0, 0, 0, 0, 0, 0, 0, 0, 0, 0, 0, 0, 0, 0, 0, 0, 0, 0, 0, 0, 0, 0, 0, 0, 0, 0, 0, 0, 0, 0, 0, 0, 0, 0, 0, 0, 0, 0, 0, 0, 1, 0, 0, 0, 0, 0, 0, 0, 0, 0, 0, 0, 0, 0, 0, 0, 0, 0, 0, 0, 0, 0, 0, 0, 0, 0, 0, 0, 0, 0, 0, 0, 0, 0, 0, 0, 0, 0, 0, 0, 0, 0, 0, 0, 0, 0, 0, 0, 0, 0, 0, 0, 0, 0, 0, 0, 0, 0, 0, 0, 0, 0, 0, 0, 0, 0, 0, 0, 0, 0, 0, 0, 0, 0, 0, 0, 0, 0, 0, 0, 0, 0, 0, 0, 0, 0, 0, 0, 0, 0, 0, 0, 0, 0, 0, 0, 0, 0, 0, 0, 0, 0, 0, 0, 0, 0, 0, 0, 0, 0, 0, 0, 0, 0, 0, 0, 0, 0, 0, 0, 0, 0, 0, 0, 0, 0, 0, 0, 0, 0, 0, 0, 0, 0, 0, 0, 0, 0, 0, 0, 0, 0, 0, 0, 0, 0, 0, 0, 0, 0, 0, 0, 0, 0, 0, 0, 0, 0, 0, 0, 0, 0, 0, 0, 0, 0, 0, 0, 0, 0, 0, 0, 0, 0, 0, 0, 0, 0, 0, 0, 0, 0, 0, 0, 0, 0, 0, 0, 0, 0, 0, 0, 0, 0, 0, 0, 0, 0, 0, 0, 0, 0, 0, 0, 0, 0, 0, 0, 0, 0, 0, 0, 0, 0, 0, 0, 0, 0, 0, 0, 0, 0, 0, 0, 0, 0, 0, 0, 0, 0, 0, 0, 0, 0, 0, 0, 0, 0, 0, 0, 0, 0, 0, 0, 0, 0, 0, 0, 0, 0, 0, 0, 0, 0, 0, 0, 0, 0, 0, 0, 0, 0, 0, 0, 0, 0, 0, 0, 0, 0, 0, 0, 0, 0, 0, 0, 0, 0, 0, 0, 0, 0, 0, 0, 0, 0, 0, 0, 0, 0, 0, 0, 0, 0, 0, 0, 0, 0, 0, 0, 0, 0, 0, 0, 0, 0, 0, 0, 0, 0, 0, 0, 0, 0, 0, 0, 0, 0, 0, 0, 0, 0, 0, 0, 0, 0, 0, 0, 0, 0, 0, 0, 0, 0, 0, 0, 0, 0, 0, 0, 0, 0, 0, 0, 0, 0, 0, 0, 0, 0, 0, 0, 0, 0, 0, 0, 0, 0, 0, 0, 0, 0, 0, 0, 0, 0, 0, 0, 0, 0, 0, 0, 0, 0, 0, 0, 0, 0, 0, 0, 0, 0, 0, 0, 0, 0, 0, 0, 0, 0, 0, 0, 0, 0, 0, 0, 0, 0, 0, 0, 0, 0, 0, 0, 0, 0, 0, 0, 0, 0, 0, 0, 0, 0, 0, 0, 0, 0, 0, 0, 0, 0, 0, 0, 0, 0, 0, 0, 0, 0, 0, 0, 0, 0, 0, 0, 0, 0, 0, 0, 0, 0, 0, 0, 0, 0, 0, 0, 0, 0, 0, 0, 0, 0, 0, 0, 0, 0, 0, 0, 0, 0, 0, 0, 0, 0, 0, 0, 0, 0, 0, 0, 0, 0, 0, 0, 0, 0, 0, 0, 0, 0, 0, 0, 0, 0, 0, 0, 0, 0, 0, 0, 0, 0, 0, 0, 0, 0, 0, 0, 0, 0, 0, 0, 0, 0, 0, 0, 0, 0, 0, 0, 0, 0, 0, 0, 0, 0, 0, 0, 0, 0, 0, 0, 0, 0, 0, 0, 0, 0, 0, 0, 0, 0, 0, 0, 0, 0, 0, 0, 0, 0, 0, 0, 0, 0, 0, 0, 0, 0, 0, 0, 0, 0, 0, 0, 0, 0, 0, 0, 0, 0, 0, 0, 0, 0, 0, 0, 0, 0, 0, 0, 0, 0, 0, 0, 0, 0, 0, 0, 0, 0, 0, 0, 0, 0, 0, 0, 0, 0, 0, 0, 0, 0, 0, 0, 0, 0, 0, 0, 0, 0, 0, 0, 0, 0, 0, 0, 0, 0, 0, 0, 0, 0, 0, 0, 0, 0, 0, 0, 0, 0, 0, 0, 0, 0, 0, 0, 0, 0, 0, 0, 0, 0, 0, 0, 0, 0, 0, 0, 0, 0, 0, 0, 0, 0, 0, 0, 0, 0, 0, 0, 0, 0, 0, 0, 0, 0, 0, 0, 0, 0, 0, 0, 0, 0, 0, 0, 0, 0, 0, 0, 0, 0, 0, 0, 0, 0, 0, 0, 0, 0, 1, 0, 0, 0, 0, 0, 0, 0, 0, 0, 0, 0, 0, 0, 0, 0, 0, 0, 0, 0, 0, 0, 0, 0, 0, 0, 0, 0, 0, 0, 0, 0, 0, 0, 0, 0, 0, 0, 0, 0, 0, 0, 0, 0, 0, 0, 0, 0, 0, 0, 0, 0, 0, 0, 0, 0, 0, 0, 0, 0, 0, 0, 0, 0, 0, 0, 0, 0, 0, 0, 0, 0, 0, 0, 0, 1, 0, 0, 0, 0, 0, 0, 0, 0, 0, 0, 0, 0, 0, 0, 0, 0, 0, 0, 0, 0, 1, 0, 0, 1, 0, 0, 0, 0, 0, 0, 0, 0, 0, 0, 0, 0, 0, 0, 0, 0, 0, 0, 0, 0, 0, 0, 0, 0, 0, 0, 0, 0, 0, 0, 0, 0, 0, 0, 0, 0, 0, 0, 0, 0, 0, 0, 0, 0, 0, 0, 0, 0, 0, 0, 0, 0, 0, 0, 0, 0, 0, 0, 0, 0, 0, 0, 0, 0, 0, 0, 0, 0, 0, 0, 0, 0, 0, 0, 0, 0, 0, 0, 0, 0, 0, 0, 0, 0, 0, 0, 0, 0, 0, 0, 0, 0, 0, 0, 0, 0, 0, 0, 0, 0, 0, 0, 0, 0, 0, 0, 0, 0, 0, 0, 0, 0, 0, 0, 0, 0, 0, 0, 0, 0, 0, 0, 0, 0, 0, 0, 0, 0, 0, 0, 0, 0, 0, 0, 0, 0, 0, 0, 0, 0, 0, 0, 0, 0, 0, 0, 0, 0, 0, 0, 0, 0, 0, 0, 0, 0, 0, 0, 0, 0, 0, 0, 0, 0, 0, 0, 0, 0, 0, 0, 0, 0, 0, 0, 0, 0, 0, 0, 0, 0, 0, 0, 0, 0, 0, 0, 0, 0, 0, 0, 0, 0, 0, 0, 0, 0, 0, 0, 0, 0, 0, 0, 0, 0, 0, 0, 0, 0, 0, 0, 0, 0, 0, 0, 0, 0, 0, 0, 0, 0, 0, 0, 0, 0, 0, 0, 0, 0, 0, 0, 0, 0, 0, 0, 0, 0, 0, 0, 0, 0, 0, 0, 0, 0, 0, 0, 0, 0, 0, 0, 0, 0, 0, 0, 0, 0, 0, 0, 0, 0, 0, 0, 0, 0, 0, 0, 0, 0, 0, 0, 0, 0, 0, 0, 0, 0, 0, 0, 0, 0, 0, 0, 0, 0, 0, 0, 0, 0, 0, 0, 0, 0, 0, 0, 0, 0, 0, 0, 0, 0, 0, 0, 0, 0, 0, 0, 0, 0, 0, 0, 0, 0, 0, 0, 0, 0, 0, 0, 0, 0, 0, 0, 0, 0, 0, 0, 0, 0, 0, 0, 0, 0, 0, 0, 0, 0, 0, 0, 0, 0, 0, 0, 0, 0, 0, 0, 0, 0, 0, 0, 0, 0, 0, 0, 0, 0, 0, 0, 0, 0, 0, 0, 0, 0, 0, 0, 0, 0, 0, 0, 0, 0, 0, 0, 0, 0, 0, 0, 0, 0, 0, 0, 0, 0, 0, 0, 0, 0, 0, 0, 0, 0, 0, 0, 0, 0, 0, 0, 0, 0, 0, 0, 0, 0, 0, 0, 0, 0, 0, 0, 0, 0, 0, 0, 0, 0, 0, 0, 0, 0, 0, 0, 0, 0, 0, 0, 0, 0, 0, 0, 0, 0, 0, 0, 0, 0, 0, 0, 0, 0, 0, 0, 0, 0, 0, 0, 0, 0, 0, 0, 0, 0, 0, 0, 0, 0, 0, 0, 0, 0, 0, 0, 0, 0, 0, 0, 1, 0, 0, 0, 0, 0, 0, 0, 0, 0, 0, 0, 0, 0, 0, 0, 0, 0, 0, 0, 0, 0, 0, 0, 0, 0, 0, 0, 0, 0, 0, 0, 0, 0, 0, 0, 0, 0, 0, 0, 0, 0, 0, 0, 0, 0, 0, 0, 0, 0, 0, 0, 0, 0, 0, 0, 0, 0, 0, 0, 0, 0, 0, 0, 0, 0, 0, 0, 0, 0, 0, 0, 0, 0, 0, 0, 0, 0, 0, 0, 0, 0, 0, 0, 0, 0, 0, 0, 0, 0, 0, 0, 0, 0, 0, 0, 0, 0, 0, 0, 0, 0, 0, 0, 0, 0, 0, 0, 0, 0, 0, 0, 0, 0, 0, 0, 0, 0, 0, 0, 0, 0, 0, 0, 0, 0, 0, 0, 0, 0, 0, 0, 0, 0, 0, 0, 0, 0, 0, 0, 0, 0, 0, 0, 0, 0, 0, 0, 0, 0, 0, 0, 0, 0, 0, 0, 0, 0, 0, 0, 0, 0, 0, 0, 0, 0, 0, 0, 0, 0, 0, 0, 0, 0, 0, 0, 0, 0, 0, 0, 0, 0, 0, 0, 0, 0, 0, 0, 0, 0, 0, 0, 0, 0, 0, 0, 0, 0, 0, 0, 0, 0, 0, 0, 0, 0, 0, 0, 0, 0, 0, 0, 0, 0, 0, 0, 0, 0, 0, 0, 0, 0, 0, 0, 0, 0, 0, 0, 0, 0, 0, 0, 0, 0, 0, 0, 0, 0, 0, 0, 0, 0, 0, 0, 0, 0, 0, 0, 0, 0, 0, 0, 0, 0, 0, 0, 0, 0, 0, 0, 0, 0, 0, 0, 0, 0, 0, 0, 0, 0, 0, 0, 0, 0, 0, 0, 0, 0, 0, 0, 0, 0, 0, 0, 0, 0, 0, 0, 0, 0, 0, 0, 0, 0, 0, 0, 0, 0, 0, 0, 0, 0, 0, 0, 0, 0, 0, 0, 0, 0, 0, 0, 0, 0, 0, 0, 0, 0, 0, 0, 0, 0, 0, 0, 0, 0, 0, 0, 0, 0, 0, 0, 0, 0, 0, 0, 0, 0, 0, 0, 0, 0, 0, 0, 0, 0, 0, 0, 0, 0, 0, 0, 0, 0, 0, 0, 0, 0, 0, 0, 0, 0, 0, 0, 0, 0, 0, 0, 0, 0, 0, 0, 0, 0, 0, 0, 0, 0, 0, 0, 0, 0, 0, 0, 0, 0, 0, 0, 0, 0, 0, 0, 0, 0, 0, 0, 0, 0, 0, 0, 0, 0, 0, 0, 0, 0, 0, 0, 0, 0, 0, 0, 0, 0, 0, 0, 0, 0, 0, 0, 0, 0, 0, 0, 0, 0, 0, 0, 0, 0, 0, 0, 0, 0, 0, 0, 0, 0, 0, 0, 0, 0, 0, 0, 0, 0, 0, 0, 0, 0, 0, 0, 0, 0, 0, 0, 0, 0, 0, 0, 0, 0, 0, 0, 0, 0, 0, 0, 0, 0, 0, 0, 0, 0, 0, 0, 0, 0, 0, 0, 0, 0, 0, 0, 0, 0, 0, 0, 0, 0, 0, 0, 0, 0, 0, 0, 0, 0, 0, 0, 0, 0, 0, 0, 0, 0, 0, 0, 0, 0, 0, 0, 0, 1, 0, 0, 0, 0, 0, 0, 0, 0, 0, 0, 0, 0, 0, 0, 0, 0, 0, 0, 0, 0, 0, 0, 0, 0, 0, 0, 0, 0, 0, 0, 0, 0, 0, 0, 0, 2, 0, 0, 0, 0, 0, 0, 0, 0, 0, 0, 0, 0, 0, 0, 0, 0, 0, 0, 0, 0, 0, 0, 0, 0, 0, 0, 0, 0, 0, 0, 0, 0, 0, 0, 0, 0, 0, 0, 0, 0, 1, 0, 0, 0, 0, 0, 0, 0, 0, 0, 0, 0, 0, 0, 0, 0, 0, 0, 0, 0, 0, 0, 0, 0, 0, 0, 0, 0, 0, 0, 0, 0, 0, 0, 0, 0, 0, 0, 0, 0, 0, 0, 0, 0, 0, 0, 0, 0, 0, 0, 0, 0, 0, 0, 0, 0, 0, 0, 0, 0, 0, 0, 0, 0, 0, 0, 0, 0, 0, 0, 0, 0, 0, 0, 0, 0, 0, 0, 0, 0, 0, 0, 0, 0, 0, 0, 0, 0, 0, 0, 0, 0, 0, 0, 0, 0, 0, 0, 0, 0, 0, 0, 0, 0, 0, 0, 0, 0, 0, 0, 0, 0, 0, 0, 0, 0, 0, 0, 0, 0, 0, 0, 0, 0, 0, 0, 0, 0, 0, 0, 0, 0, 0, 0, 0, 0, 0, 0, 0, 0, 0, 0, 0, 0, 0, 0, 0, 0, 0, 0, 0, 0, 0, 0, 0, 0, 0, 0, 0, 0, 0, 0, 0, 0, 0, 0, 0, 0, 0, 0, 0, 0, 0, 0, 0, 0, 0, 0, 0, 0, 0, 0, 0, 0, 0, 0, 0, 0, 0, 0, 0, 0, 0, 0, 0, 0, 0, 0, 0, 0, 0, 0, 0, 0, 0, 0, 0, 0, 0, 0, 0, 0, 0, 0, 0, 0, 0, 0, 0, 0, 0, 0, 0, 0, 0, 0, 0, 0, 0, 0, 0, 0, 0, 0, 0, 0, 0, 0, 0, 0, 0, 0, 0, 0, 0, 0, 0, 0, 0, 0, 0, 0, 0, 0, 0, 0, 0, 0, 0, 0, 0, 0, 0, 0, 0, 0, 0, 0, 0, 0, 0, 0, 0, 0, 0, 0, 0, 0, 0, 0, 0, 0, 0, 0, 0, 0, 0, 0, 0, 0, 0, 0, 0, 0, 0, 0, 0, 0, 0, 0, 0, 0, 0, 0, 0, 0, 0, 0, 0, 0, 0, 0, 0, 0, 0, 0, 0, 0, 0, 0, 0, 0, 0, 0, 0, 0, 0, 0, 0, 0, 0, 0, 0, 0, 0, 0, 0, 0, 0, 0, 0, 0, 0, 0, 0, 0, 0, 0, 0, 0, 0, 0, 0, 0, 0, 0, 0, 0, 0, 0, 0, 0, 0, 0, 0, 0, 0, 0, 0, 0, 0, 0, 0, 0, 0, 0, 0, 0, 0, 0, 0, 0, 0, 0, 0, 0, 0, 0, 0, 0, 0, 0, 0, 0, 0, 0, 0, 0, 0, 0, 0, 0, 0, 0, 0, 0, 0, 0, 0, 0, 0, 0, 0, 0, 0, 0, 0, 0, 0, 0, 0, 0, 0, 0, 0, 0, 0, 0, 0, 0, 0, 0, 0, 0, 0, 0, 0, 0, 0, 0, 0, 0, 0, 0, 0, 0, 0, 0, 0, 0, 0, 0, 0, 0, 0, 0, 0, 0, 0, 0, 0, 0, 0, 0, 0, 0, 0, 0, 0, 0, 0, 0, 0, 0, 0, 0, 0, 0, 0, 0, 0, 0, 0, 0, 0, 0, 0, 0, 0, 0, 0, 0, 0, 0, 0, 0, 0, 0, 1, 0, 0, 0, 0, 0, 0, 0, 0, 0, 0, 0, 0, 0, 0, 0, 0, 0, 0, 0, 0, 0, 0, 0, 0, 0, 0, 0, 0, 0, 0, 0, 0, 0, 0, 0, 0, 0, 0, 0, 0, 0, 0, 0, 0, 0, 0, 0, 0, 0, 0, 0, 0, 0, 0, 0, 0, 0, 0, 0, 0, 0, 0, 0, 0, 0, 0, 0, 0, 0, 0, 0, 0, 0, 0, 0, 0, 0, 0, 0, 0, 0, 0, 0, 0, 0, 0, 0, 0, 0, 0, 0, 0, 0, 0, 0, 0, 0, 0, 0, 0, 0, 0, 0, 0, 0, 0, 0, 0, 0, 0, 2, 0, 0, 0, 0, 0, 0, 0, 0, 0, 0, 0, 0, 0, 0, 0, 0, 0, 0, 0, 0, 0, 0, 0, 0, 0, 0, 0, 0, 0, 0, 0, 0, 0, 0, 0, 0, 0, 0, 0, 0, 0, 0, 0, 0, 0, 0, 0, 0, 0, 0, 0, 0, 0, 0, 0, 0, 0, 0, 0, 0, 0, 0, 0, 0, 0, 0, 0, 0, 0, 0, 0, 0, 0, 0, 0, 0, 0, 0, 0, 0, 0, 0, 0, 0, 0, 0, 0, 0, 0, 0, 0, 0, 0, 0, 0, 0, 0, 0, 0, 0, 0, 0, 0, 0, 0, 0, 0, 0, 0, 0, 0, 0, 0, 0, 0, 0, 0, 0, 0, 0, 0, 0, 0, 0, 0, 0, 0, 0, 0, 0, 0, 0, 0, 0, 0, 0, 0, 0, 0, 0, 0, 0, 0, 0, 0, 0, 0, 0, 0, 0, 0, 0, 0, 0, 0, 0, 0, 0, 0, 0, 0, 0, 0, 0, 0, 0, 0, 0, 0, 0, 0, 0, 0, 0, 0, 0, 0, 0, 0, 0, 0, 0, 0, 0, 0, 0, 0, 0, 0, 0, 0, 0, 0, 0, 0, 0, 0, 0, 0, 0, 0, 0, 0, 0, 0, 0, 0, 0, 0, 0, 0, 0, 0, 0, 0, 0, 0, 0, 0, 0, 0, 0, 0, 0, 0, 0, 0, 0, 0, 0, 0, 0, 0, 0, 0, 0, 0, 0, 0, 0, 0, 0, 0, 0, 0, 0, 0, 0, 0, 0, 0, 0, 0, 0, 0, 0, 0, 0, 0, 0, 0, 0, 0, 0, 0, 0, 0, 0, 0, 0, 0, 0, 0, 0, 0, 0, 0, 0, 0, 0, 0, 0, 0, 0, 0, 0, 0, 0, 0, 0, 0, 0, 0, 0, 0, 0, 0, 0, 0, 0, 0, 0, 0, 0, 0, 0, 0, 0, 0, 0, 0, 0, 0, 0, 0, 0, 0, 0, 0, 0, 0, 0, 0, 0, 0, 0, 0, 0, 0, 0, 0, 0, 0, 0, 0, 0, 0, 0, 0, 0, 0, 0, 0, 0, 0, 0, 0, 0, 0, 0, 0, 0, 0, 0, 0, 0, 0, 0, 0, 0, 0, 0, 0, 0, 0, 0, 0, 0, 0, 0, 0, 0, 0, 0, 0, 0, 0, 0, 0, 0, 0, 0, 0, 0, 0, 0, 0, 0, 0, 0, 0, 0, 0, 0, 0, 0, 0, 0, 0, 0, 0, 0, 0, 0, 0, 0, 0, 0, 0, 0, 0, 0, 0, 0, 0, 0, 0, 0, 0, 0, 0, 0, 0, 0, 0, 0, 0, 0, 0, 0, 0, 0, 0, 0, 0, 0, 0, 0, 0, 0, 0, 0, 0, 0, 0, 0, 0, 0, 0, 0, 0, 0, 0, 0, 0, 0, 0, 0, 0, 0, 0, 0, 0, 0, 0, 0, 0, 0, 0, 0, 0, 0, 0, 0, 0, 0, 0, 0, 0, 0, 0, 0, 0, 0, 0, 0, 0, 0, 0, 0, 0, 0, 0, 0, 0, 0, 0, 0, 0, 0, 0, 0, 0, 0, 0, 0, 0, 0, 0, 0, 0, 0, 0, 0, 0, 0, 0, 0, 0, 0, 0, 0, 0, 0, 0, 0, 0, 0, 0, 0, 0, 0, 0, 0, 0, 0, 0, 0, 0, 0, 0, 0, 0, 0, 0, 0, 0, 0, 0, 0, 0, 0, 0, 0, 0, 0, 0, 0, 0, 0, 0, 0, 0, 0, 0, 0, 0, 0, 0, 0, 0, 0, 0, 0, 0, 0, 0, 0, 0, 0, 0, 0, 0, 0, 0, 0, 0, 0, 0, 0, 0, 0, 0, 0, 0, 0, 0, 0, 0, 0, 0, 0, 0, 0, 0, 0, 0, 0, 0, 0, 0, 0, 0, 0, 0, 0, 0, 0, 0, 0, 0, 0, 0, 0, 0, 0, 0, 0, 0, 0, 0, 0, 0, 0, 0, 0, 0, 0, 0, 0, 0, 0, 0, 0, 0, 0, 0, 0, 0, 0, 0, 0, 0, 0, 0, 0, 0, 0, 0, 0, 0, 0, 0, 0, 0, 0, 0, 0, 0, 0, 0, 0, 0, 0, 0, 0, 0, 0, 0, 0, 0, 0, 0, 0, 0, 0, 0, 0, 0, 0, 1, 0, 0, 0, 0, 0, 0, 0, 0, 0, 0, 0, 0, 0, 0, 0, 0, 0, 0, 0, 0, 0, 0, 0, 0, 0, 0, 0, 0, 0, 0, 0, 0, 0, 0, 0, 0, 0, 0, 0, 0, 0, 0, 0, 0, 0, 0, 0, 0, 0, 0, 0, 0, 0, 0, 0, 0, 0, 0, 0, 0, 0, 0, 0, 0, 0, 0, 0, 0, 0, 0, 0, 0, 0, 0, 0, 0, 0, 0, 0, 0, 0, 0, 0, 0, 0, 0, 0, 0, 0, 0, 0, 0, 0, 0, 0, 0, 0, 0, 0, 0, 0, 0, 0, 0, 0, 0, 0, 1, 0, 0, 0, 0, 0, 0, 0, 0, 0, 0, 0, 0, 0, 0, 0, 0, 0, 0, 0, 0, 0, 0, 0, 0, 0, 0, 0, 0, 0, 0, 0, 0, 0, 0, 0, 0, 0, 0, 0, 0, 0, 0, 0, 0, 0, 0, 0, 0, 0, 0, 0, 0, 0, 0, 0, 0, 0, 0, 0, 0, 0, 0, 0, 0, 0, 0, 0, 0, 0, 0, 0, 0, 0, 0, 0, 0, 0, 0, 0, 0, 0, 0, 0, 0, 0, 0, 0, 0, 0, 0, 0, 0, 0, 0, 0, 0, 0, 0, 0, 0, 0, 0, 0, 0, 0, 0, 0, 0, 0, 0, 0, 0, 0, 0, 0, 0, 0, 0, 0, 0, 0, 0, 0, 0, 0, 0, 0, 0, 0, 0, 0, 0, 0, 0, 0, 0, 0, 0, 0, 0, 0, 0, 0, 0, 0, 0, 0, 0, 0, 0, 0, 0, 0, 0, 0, 0, 0, 0, 0, 0, 0, 0, 0, 0, 0, 0, 0, 0, 0, 0, 0, 0, 0, 0, 0, 0, 0, 0, 0, 0, 0, 0, 0, 0, 0, 0, 0, 0, 0, 0, 0, 0, 0, 0, 0, 0, 0, 0, 0, 0, 0, 0, 0, 0, 0, 0, 0, 0, 0, 0, 0, 0, 0, 0, 0, 0, 0, 0, 0, 0, 0, 0, 0, 0, 0, 0, 0, 0, 0, 0, 0, 0, 0, 0, 0, 0, 0, 0, 0, 0, 0, 0, 0, 0, 0, 0, 0, 0, 0, 0, 0, 0, 0, 0, 0, 0, 0, 0, 0, 0, 0, 0, 0, 0, 0, 0, 0, 0, 0, 0, 0, 0, 0, 0, 0, 0, 0, 0, 0, 0, 0, 0, 0, 0, 0, 0, 0, 0, 0, 0, 0, 0, 0, 0, 0, 0, 0, 0, 0, 0, 0, 0, 0, 0, 0, 0, 0, 0, 0, 0, 0, 0, 0, 0, 0, 0, 0, 0, 0, 0, 0, 0, 0, 0, 0, 0, 0, 0, 0, 0, 0, 0, 0, 0, 0, 0, 0, 0, 0, 0, 0, 0, 0, 0, 0, 0, 0, 0, 0, 0, 0, 0, 0, 0, 0, 0, 0, 0, 0, 0, 0, 0, 0, 0, 0, 0, 0, 0, 0, 0, 0, 0, 0, 0, 0, 0, 0, 0, 0, 0, 0, 0, 0, 0, 0, 0, 0, 0, 0, 0, 0, 0, 0, 0, 0, 0, 0, 0, 0, 0, 0, 0, 0, 0, 0, 0, 0, 0, 0, 0, 0, 0, 0, 0, 0, 0, 0, 0, 0, 0, 0, 0, 0, 0, 0, 0, 0, 0, 0, 0, 0, 0, 0, 0, 0, 0, 0, 0, 0, 0, 0, 0, 0, 0, 0, 0, 0, 0, 0, 0, 0, 0, 0, 0, 0, 0, 0, 0, 0, 0, 0, 0, 0, 2, 0, 1, 0], type: <class 'list'>, valid types: <class 'bytes'>, <class 'bytearray'>, file-like object",
     "output_type": "error",
     "traceback": [
      "\u001b[0;31m---------------------------------------------------------------------------\u001b[0m",
      "\u001b[0;31mParamValidationError\u001b[0m                      Traceback (most recent call last)",
      "\u001b[0;32m<ipython-input-44-c9ab54ae3a48>\u001b[0m in \u001b[0;36m<module>\u001b[0;34m()\u001b[0m\n\u001b[1;32m      1\u001b[0m response = runtime.invoke_endpoint(EndpointName = xgb_predictor.endpoint, # The name of the endpoint we created\n\u001b[1;32m      2\u001b[0m                                        \u001b[0mContentType\u001b[0m \u001b[0;34m=\u001b[0m \u001b[0;34m'text/csv'\u001b[0m\u001b[0;34m,\u001b[0m                     \u001b[0;31m# The data format that is expected\u001b[0m\u001b[0;34m\u001b[0m\u001b[0m\n\u001b[0;32m----> 3\u001b[0;31m                                        Body = test_bow)\n\u001b[0m",
      "\u001b[0;32m~/anaconda3/envs/python3/lib/python3.6/site-packages/botocore/client.py\u001b[0m in \u001b[0;36m_api_call\u001b[0;34m(self, *args, **kwargs)\u001b[0m\n\u001b[1;32m    355\u001b[0m                     \"%s() only accepts keyword arguments.\" % py_operation_name)\n\u001b[1;32m    356\u001b[0m             \u001b[0;31m# The \"self\" in this scope is referring to the BaseClient.\u001b[0m\u001b[0;34m\u001b[0m\u001b[0;34m\u001b[0m\u001b[0m\n\u001b[0;32m--> 357\u001b[0;31m             \u001b[0;32mreturn\u001b[0m \u001b[0mself\u001b[0m\u001b[0;34m.\u001b[0m\u001b[0m_make_api_call\u001b[0m\u001b[0;34m(\u001b[0m\u001b[0moperation_name\u001b[0m\u001b[0;34m,\u001b[0m \u001b[0mkwargs\u001b[0m\u001b[0;34m)\u001b[0m\u001b[0;34m\u001b[0m\u001b[0m\n\u001b[0m\u001b[1;32m    358\u001b[0m \u001b[0;34m\u001b[0m\u001b[0m\n\u001b[1;32m    359\u001b[0m         \u001b[0m_api_call\u001b[0m\u001b[0;34m.\u001b[0m\u001b[0m__name__\u001b[0m \u001b[0;34m=\u001b[0m \u001b[0mstr\u001b[0m\u001b[0;34m(\u001b[0m\u001b[0mpy_operation_name\u001b[0m\u001b[0;34m)\u001b[0m\u001b[0;34m\u001b[0m\u001b[0m\n",
      "\u001b[0;32m~/anaconda3/envs/python3/lib/python3.6/site-packages/botocore/client.py\u001b[0m in \u001b[0;36m_make_api_call\u001b[0;34m(self, operation_name, api_params)\u001b[0m\n\u001b[1;32m    632\u001b[0m         }\n\u001b[1;32m    633\u001b[0m         request_dict = self._convert_to_request_dict(\n\u001b[0;32m--> 634\u001b[0;31m             api_params, operation_model, context=request_context)\n\u001b[0m\u001b[1;32m    635\u001b[0m \u001b[0;34m\u001b[0m\u001b[0m\n\u001b[1;32m    636\u001b[0m         \u001b[0mservice_id\u001b[0m \u001b[0;34m=\u001b[0m \u001b[0mself\u001b[0m\u001b[0;34m.\u001b[0m\u001b[0m_service_model\u001b[0m\u001b[0;34m.\u001b[0m\u001b[0mservice_id\u001b[0m\u001b[0;34m.\u001b[0m\u001b[0mhyphenize\u001b[0m\u001b[0;34m(\u001b[0m\u001b[0;34m)\u001b[0m\u001b[0;34m\u001b[0m\u001b[0m\n",
      "\u001b[0;32m~/anaconda3/envs/python3/lib/python3.6/site-packages/botocore/client.py\u001b[0m in \u001b[0;36m_convert_to_request_dict\u001b[0;34m(self, api_params, operation_model, context)\u001b[0m\n\u001b[1;32m    680\u001b[0m             api_params, operation_model, context)\n\u001b[1;32m    681\u001b[0m         request_dict = self._serializer.serialize_to_request(\n\u001b[0;32m--> 682\u001b[0;31m             api_params, operation_model)\n\u001b[0m\u001b[1;32m    683\u001b[0m         \u001b[0;32mif\u001b[0m \u001b[0;32mnot\u001b[0m \u001b[0mself\u001b[0m\u001b[0;34m.\u001b[0m\u001b[0m_client_config\u001b[0m\u001b[0;34m.\u001b[0m\u001b[0minject_host_prefix\u001b[0m\u001b[0;34m:\u001b[0m\u001b[0;34m\u001b[0m\u001b[0m\n\u001b[1;32m    684\u001b[0m             \u001b[0mrequest_dict\u001b[0m\u001b[0;34m.\u001b[0m\u001b[0mpop\u001b[0m\u001b[0;34m(\u001b[0m\u001b[0;34m'host_prefix'\u001b[0m\u001b[0;34m,\u001b[0m \u001b[0;32mNone\u001b[0m\u001b[0;34m)\u001b[0m\u001b[0;34m\u001b[0m\u001b[0m\n",
      "\u001b[0;32m~/anaconda3/envs/python3/lib/python3.6/site-packages/botocore/validate.py\u001b[0m in \u001b[0;36mserialize_to_request\u001b[0;34m(self, parameters, operation_model)\u001b[0m\n\u001b[1;32m    295\u001b[0m                                                     operation_model.input_shape)\n\u001b[1;32m    296\u001b[0m             \u001b[0;32mif\u001b[0m \u001b[0mreport\u001b[0m\u001b[0;34m.\u001b[0m\u001b[0mhas_errors\u001b[0m\u001b[0;34m(\u001b[0m\u001b[0;34m)\u001b[0m\u001b[0;34m:\u001b[0m\u001b[0;34m\u001b[0m\u001b[0m\n\u001b[0;32m--> 297\u001b[0;31m                 \u001b[0;32mraise\u001b[0m \u001b[0mParamValidationError\u001b[0m\u001b[0;34m(\u001b[0m\u001b[0mreport\u001b[0m\u001b[0;34m=\u001b[0m\u001b[0mreport\u001b[0m\u001b[0;34m.\u001b[0m\u001b[0mgenerate_report\u001b[0m\u001b[0;34m(\u001b[0m\u001b[0;34m)\u001b[0m\u001b[0;34m)\u001b[0m\u001b[0;34m\u001b[0m\u001b[0m\n\u001b[0m\u001b[1;32m    298\u001b[0m         return self._serializer.serialize_to_request(parameters,\n\u001b[1;32m    299\u001b[0m                                                      operation_model)\n",
      "\u001b[0;31mParamValidationError\u001b[0m: Parameter validation failed:\nInvalid type for parameter Body, value: [0, 0, 0, 0, 0, 0, 0, 0, 0, 0, 0, 0, 0, 0, 0, 0, 0, 0, 0, 0, 0, 0, 0, 0, 0, 0, 0, 0, 0, 0, 0, 0, 0, 0, 0, 0, 0, 0, 0, 0, 0, 0, 0, 0, 0, 0, 0, 0, 0, 0, 0, 0, 0, 0, 0, 0, 0, 0, 0, 0, 0, 0, 0, 0, 0, 0, 0, 0, 0, 0, 0, 0, 0, 0, 0, 0, 0, 0, 0, 0, 0, 0, 0, 0, 0, 0, 0, 0, 0, 0, 0, 0, 0, 0, 0, 0, 0, 0, 0, 0, 0, 0, 0, 0, 0, 0, 0, 0, 0, 0, 0, 0, 0, 0, 0, 0, 0, 0, 0, 0, 0, 0, 0, 0, 0, 0, 0, 0, 0, 0, 0, 0, 0, 0, 0, 0, 0, 0, 0, 0, 0, 0, 0, 0, 0, 0, 0, 0, 0, 0, 0, 0, 0, 0, 0, 0, 0, 0, 0, 0, 0, 0, 0, 0, 0, 0, 0, 0, 0, 0, 0, 0, 0, 0, 0, 0, 0, 0, 0, 0, 0, 0, 0, 0, 0, 0, 0, 0, 0, 0, 0, 0, 0, 0, 0, 0, 0, 0, 0, 0, 0, 0, 0, 0, 0, 0, 0, 0, 0, 0, 0, 0, 0, 0, 0, 0, 0, 0, 0, 0, 0, 0, 0, 0, 0, 0, 1, 0, 0, 0, 0, 0, 0, 0, 0, 0, 0, 0, 0, 0, 0, 0, 0, 0, 0, 0, 0, 0, 0, 0, 0, 0, 0, 0, 0, 0, 1, 0, 0, 0, 0, 0, 0, 0, 0, 0, 0, 0, 0, 0, 0, 0, 0, 0, 0, 0, 0, 0, 0, 0, 0, 0, 0, 0, 0, 0, 0, 0, 0, 0, 0, 0, 0, 0, 0, 0, 0, 0, 0, 0, 0, 0, 0, 0, 0, 0, 0, 0, 0, 0, 0, 0, 0, 0, 0, 0, 0, 0, 0, 0, 0, 0, 0, 0, 0, 0, 0, 0, 0, 0, 0, 0, 0, 0, 0, 0, 0, 0, 0, 0, 0, 0, 0, 0, 0, 0, 0, 0, 0, 0, 0, 0, 0, 0, 0, 0, 0, 0, 0, 0, 0, 0, 0, 0, 0, 0, 0, 0, 0, 0, 0, 0, 0, 0, 0, 0, 0, 0, 0, 0, 0, 0, 0, 0, 0, 0, 0, 0, 0, 0, 0, 0, 0, 0, 0, 0, 0, 0, 0, 0, 0, 0, 0, 0, 0, 0, 0, 0, 0, 0, 0, 0, 0, 0, 0, 0, 0, 0, 0, 0, 0, 0, 0, 0, 0, 0, 0, 0, 0, 0, 0, 0, 0, 0, 0, 0, 0, 0, 0, 0, 0, 0, 0, 0, 0, 0, 0, 0, 0, 0, 0, 0, 0, 0, 0, 0, 0, 0, 0, 0, 0, 0, 0, 0, 0, 0, 0, 0, 0, 0, 0, 0, 0, 0, 0, 0, 0, 0, 0, 0, 0, 0, 0, 0, 0, 0, 0, 0, 0, 0, 0, 0, 0, 0, 0, 0, 0, 0, 0, 0, 0, 0, 0, 0, 0, 0, 0, 0, 0, 0, 0, 0, 0, 0, 0, 0, 0, 0, 0, 0, 0, 0, 0, 0, 0, 0, 0, 0, 0, 0, 0, 0, 0, 0, 0, 0, 0, 0, 0, 0, 0, 0, 0, 0, 0, 0, 0, 0, 0, 0, 0, 0, 0, 0, 0, 0, 0, 0, 0, 0, 0, 0, 0, 0, 0, 0, 0, 0, 0, 0, 0, 0, 0, 0, 0, 0, 0, 0, 0, 0, 0, 0, 0, 0, 0, 0, 0, 0, 0, 0, 0, 0, 0, 0, 0, 0, 0, 0, 0, 0, 0, 0, 0, 0, 0, 0, 0, 0, 0, 0, 0, 0, 0, 0, 0, 0, 0, 0, 0, 0, 0, 0, 0, 0, 0, 0, 0, 0, 0, 0, 0, 0, 0, 0, 0, 0, 1, 0, 0, 0, 0, 0, 0, 0, 0, 0, 0, 0, 0, 0, 0, 0, 0, 0, 0, 0, 0, 0, 0, 0, 0, 0, 0, 0, 0, 0, 0, 0, 0, 0, 0, 0, 0, 0, 0, 0, 0, 0, 0, 0, 0, 0, 0, 0, 0, 0, 0, 0, 0, 0, 0, 0, 0, 0, 0, 0, 0, 0, 0, 0, 0, 0, 0, 0, 0, 0, 0, 0, 0, 0, 0, 0, 0, 0, 0, 0, 0, 0, 0, 0, 0, 0, 0, 0, 0, 0, 0, 0, 0, 0, 0, 0, 0, 0, 0, 0, 0, 0, 0, 0, 0, 0, 0, 0, 0, 0, 0, 0, 0, 0, 0, 0, 0, 0, 0, 0, 0, 0, 0, 0, 0, 0, 0, 0, 0, 0, 0, 0, 0, 0, 0, 0, 0, 0, 0, 0, 0, 0, 0, 0, 0, 0, 0, 0, 0, 0, 0, 0, 0, 0, 0, 0, 0, 0, 0, 0, 0, 0, 0, 0, 0, 0, 0, 0, 0, 0, 0, 0, 0, 0, 0, 0, 0, 0, 0, 0, 0, 0, 0, 0, 0, 0, 0, 0, 0, 0, 0, 0, 0, 0, 0, 0, 0, 0, 0, 0, 0, 0, 0, 0, 0, 0, 0, 0, 0, 0, 0, 0, 0, 0, 0, 0, 0, 0, 0, 0, 0, 0, 0, 0, 0, 0, 0, 0, 0, 0, 0, 0, 0, 0, 0, 0, 0, 0, 0, 0, 0, 0, 0, 0, 0, 0, 0, 0, 0, 0, 0, 0, 0, 0, 1, 0, 0, 0, 0, 0, 0, 0, 0, 0, 0, 0, 0, 0, 0, 0, 0, 0, 0, 0, 0, 0, 0, 0, 0, 0, 0, 0, 0, 0, 0, 0, 0, 0, 0, 0, 0, 0, 0, 0, 0, 0, 0, 0, 0, 0, 0, 0, 0, 0, 0, 0, 0, 0, 0, 0, 0, 0, 0, 0, 0, 0, 0, 0, 0, 0, 0, 0, 0, 0, 0, 0, 0, 0, 0, 0, 0, 0, 0, 0, 0, 0, 0, 0, 0, 0, 0, 1, 0, 0, 0, 0, 0, 0, 0, 0, 0, 0, 0, 0, 0, 0, 0, 0, 0, 0, 0, 0, 0, 0, 0, 0, 0, 0, 0, 0, 0, 0, 0, 0, 0, 0, 0, 0, 0, 0, 0, 0, 0, 0, 0, 0, 0, 0, 0, 0, 0, 0, 0, 0, 0, 0, 0, 0, 0, 0, 0, 0, 0, 0, 0, 0, 0, 0, 0, 0, 0, 0, 0, 0, 0, 0, 0, 0, 0, 0, 0, 0, 0, 0, 0, 0, 0, 0, 0, 0, 0, 0, 0, 0, 0, 0, 0, 0, 0, 0, 0, 0, 0, 0, 0, 0, 0, 0, 0, 0, 0, 0, 0, 0, 0, 0, 0, 0, 0, 0, 0, 0, 0, 0, 0, 0, 0, 0, 0, 0, 0, 0, 0, 0, 0, 0, 0, 0, 0, 0, 0, 0, 0, 0, 0, 0, 0, 0, 0, 0, 0, 0, 0, 0, 0, 0, 0, 0, 0, 0, 0, 0, 0, 0, 0, 0, 0, 0, 0, 0, 0, 0, 0, 0, 0, 0, 0, 0, 0, 0, 0, 0, 0, 0, 0, 0, 0, 0, 0, 0, 0, 0, 0, 0, 0, 0, 0, 0, 0, 0, 0, 0, 0, 0, 0, 0, 0, 0, 0, 0, 0, 0, 0, 0, 0, 0, 0, 0, 0, 0, 0, 0, 0, 0, 0, 0, 0, 0, 0, 0, 0, 0, 0, 0, 0, 0, 0, 0, 0, 0, 0, 0, 0, 0, 0, 0, 0, 0, 0, 0, 0, 0, 0, 0, 1, 0, 0, 0, 0, 0, 0, 0, 0, 0, 0, 0, 0, 0, 0, 0, 0, 0, 0, 0, 0, 0, 0, 0, 0, 0, 0, 0, 0, 0, 0, 0, 0, 0, 0, 0, 0, 0, 0, 0, 0, 0, 0, 0, 0, 0, 0, 0, 0, 0, 0, 0, 0, 0, 0, 0, 1, 0, 0, 0, 0, 0, 0, 0, 0, 0, 0, 0, 0, 0, 0, 0, 0, 0, 0, 0, 0, 0, 0, 0, 0, 0, 0, 0, 0, 0, 0, 0, 0, 0, 0, 0, 0, 0, 0, 0, 0, 0, 0, 0, 0, 0, 0, 0, 0, 0, 0, 0, 0, 0, 0, 0, 0, 0, 0, 0, 0, 0, 0, 0, 0, 0, 0, 0, 0, 0, 0, 0, 0, 0, 0, 0, 0, 0, 0, 0, 0, 0, 0, 0, 0, 0, 0, 0, 0, 0, 0, 0, 0, 0, 0, 0, 0, 0, 0, 0, 0, 0, 0, 0, 0, 0, 0, 0, 0, 0, 0, 0, 0, 0, 0, 0, 0, 0, 0, 0, 0, 0, 0, 0, 0, 0, 0, 0, 0, 0, 0, 0, 0, 0, 0, 0, 0, 0, 0, 0, 0, 0, 0, 0, 0, 0, 0, 0, 0, 0, 0, 0, 0, 0, 0, 0, 0, 0, 0, 0, 0, 0, 0, 0, 0, 0, 0, 0, 0, 0, 0, 0, 0, 0, 0, 0, 0, 0, 0, 0, 0, 0, 0, 0, 0, 0, 0, 0, 0, 0, 0, 0, 0, 0, 0, 0, 0, 0, 0, 0, 0, 0, 0, 0, 0, 0, 0, 0, 0, 0, 0, 0, 0, 0, 0, 0, 0, 0, 0, 0, 0, 0, 0, 0, 0, 0, 0, 0, 0, 0, 0, 0, 0, 0, 0, 0, 0, 0, 0, 0, 0, 0, 0, 0, 0, 0, 0, 0, 0, 0, 0, 0, 0, 0, 0, 0, 0, 0, 0, 0, 0, 0, 0, 0, 0, 0, 0, 0, 0, 0, 0, 0, 0, 0, 0, 0, 0, 0, 0, 0, 0, 0, 0, 0, 0, 0, 0, 0, 0, 0, 0, 0, 0, 0, 0, 0, 0, 0, 0, 0, 0, 0, 0, 0, 0, 0, 0, 0, 0, 0, 0, 0, 0, 0, 0, 0, 0, 0, 0, 0, 0, 0, 0, 0, 0, 0, 0, 0, 0, 0, 0, 0, 0, 0, 0, 0, 0, 0, 0, 0, 0, 0, 0, 0, 0, 0, 0, 0, 0, 0, 0, 0, 0, 0, 0, 0, 0, 0, 0, 0, 0, 0, 0, 0, 0, 0, 0, 0, 0, 0, 0, 0, 0, 0, 0, 0, 0, 0, 0, 0, 0, 0, 0, 0, 0, 0, 0, 0, 0, 0, 0, 0, 0, 0, 0, 0, 0, 0, 0, 0, 0, 0, 0, 0, 0, 0, 0, 0, 0, 0, 0, 0, 0, 0, 0, 0, 0, 0, 0, 0, 0, 0, 0, 0, 0, 0, 0, 0, 0, 0, 0, 0, 0, 0, 0, 0, 0, 0, 0, 0, 0, 0, 0, 0, 0, 0, 0, 0, 0, 0, 0, 0, 0, 0, 0, 0, 0, 0, 0, 0, 0, 0, 0, 0, 0, 0, 0, 0, 0, 0, 0, 0, 0, 0, 0, 0, 0, 0, 0, 0, 0, 0, 0, 0, 0, 0, 0, 0, 0, 0, 0, 0, 0, 0, 0, 0, 0, 0, 0, 0, 0, 0, 0, 0, 0, 0, 0, 0, 0, 0, 0, 0, 0, 0, 0, 0, 0, 0, 0, 0, 0, 0, 0, 0, 0, 0, 0, 0, 0, 0, 0, 0, 0, 0, 0, 0, 0, 0, 0, 0, 0, 0, 0, 0, 0, 0, 0, 0, 0, 0, 0, 0, 0, 0, 0, 0, 0, 0, 0, 0, 0, 0, 0, 0, 0, 0, 0, 0, 0, 0, 0, 0, 0, 0, 0, 0, 0, 0, 0, 0, 0, 0, 0, 0, 0, 0, 0, 0, 0, 0, 0, 0, 0, 0, 0, 0, 0, 0, 0, 0, 0, 0, 0, 0, 0, 0, 0, 0, 0, 0, 0, 0, 0, 0, 0, 0, 0, 0, 0, 0, 0, 0, 0, 0, 0, 0, 0, 0, 0, 0, 0, 0, 0, 0, 0, 0, 0, 0, 0, 0, 0, 0, 0, 0, 0, 0, 0, 0, 0, 0, 0, 0, 0, 0, 0, 0, 0, 0, 0, 0, 0, 0, 0, 0, 0, 0, 0, 0, 0, 0, 0, 0, 0, 0, 0, 0, 0, 0, 0, 0, 0, 0, 1, 0, 0, 0, 0, 0, 0, 0, 0, 0, 0, 0, 0, 0, 0, 0, 0, 0, 0, 0, 0, 0, 0, 0, 0, 0, 0, 0, 0, 0, 0, 0, 0, 0, 0, 0, 0, 0, 0, 0, 0, 0, 0, 0, 0, 0, 0, 0, 0, 0, 0, 0, 0, 0, 0, 0, 0, 0, 0, 0, 0, 0, 0, 0, 0, 0, 0, 0, 0, 0, 0, 0, 0, 0, 0, 1, 0, 0, 0, 0, 0, 0, 0, 0, 0, 0, 0, 0, 0, 0, 0, 0, 0, 0, 0, 0, 1, 0, 0, 1, 0, 0, 0, 0, 0, 0, 0, 0, 0, 0, 0, 0, 0, 0, 0, 0, 0, 0, 0, 0, 0, 0, 0, 0, 0, 0, 0, 0, 0, 0, 0, 0, 0, 0, 0, 0, 0, 0, 0, 0, 0, 0, 0, 0, 0, 0, 0, 0, 0, 0, 0, 0, 0, 0, 0, 0, 0, 0, 0, 0, 0, 0, 0, 0, 0, 0, 0, 0, 0, 0, 0, 0, 0, 0, 0, 0, 0, 0, 0, 0, 0, 0, 0, 0, 0, 0, 0, 0, 0, 0, 0, 0, 0, 0, 0, 0, 0, 0, 0, 0, 0, 0, 0, 0, 0, 0, 0, 0, 0, 0, 0, 0, 0, 0, 0, 0, 0, 0, 0, 0, 0, 0, 0, 0, 0, 0, 0, 0, 0, 0, 0, 0, 0, 0, 0, 0, 0, 0, 0, 0, 0, 0, 0, 0, 0, 0, 0, 0, 0, 0, 0, 0, 0, 0, 0, 0, 0, 0, 0, 0, 0, 0, 0, 0, 0, 0, 0, 0, 0, 0, 0, 0, 0, 0, 0, 0, 0, 0, 0, 0, 0, 0, 0, 0, 0, 0, 0, 0, 0, 0, 0, 0, 0, 0, 0, 0, 0, 0, 0, 0, 0, 0, 0, 0, 0, 0, 0, 0, 0, 0, 0, 0, 0, 0, 0, 0, 0, 0, 0, 0, 0, 0, 0, 0, 0, 0, 0, 0, 0, 0, 0, 0, 0, 0, 0, 0, 0, 0, 0, 0, 0, 0, 0, 0, 0, 0, 0, 0, 0, 0, 0, 0, 0, 0, 0, 0, 0, 0, 0, 0, 0, 0, 0, 0, 0, 0, 0, 0, 0, 0, 0, 0, 0, 0, 0, 0, 0, 0, 0, 0, 0, 0, 0, 0, 0, 0, 0, 0, 0, 0, 0, 0, 0, 0, 0, 0, 0, 0, 0, 0, 0, 0, 0, 0, 0, 0, 0, 0, 0, 0, 0, 0, 0, 0, 0, 0, 0, 0, 0, 0, 0, 0, 0, 0, 0, 0, 0, 0, 0, 0, 0, 0, 0, 0, 0, 0, 0, 0, 0, 0, 0, 0, 0, 0, 0, 0, 0, 0, 0, 0, 0, 0, 0, 0, 0, 0, 0, 0, 0, 0, 0, 0, 0, 0, 0, 0, 0, 0, 0, 0, 0, 0, 0, 0, 0, 0, 0, 0, 0, 0, 0, 0, 0, 0, 0, 0, 0, 0, 0, 0, 0, 0, 0, 0, 0, 0, 0, 0, 0, 0, 0, 0, 0, 0, 0, 0, 0, 0, 0, 0, 0, 0, 0, 0, 0, 0, 0, 0, 0, 0, 0, 0, 0, 0, 0, 0, 0, 0, 0, 0, 0, 0, 0, 0, 0, 0, 0, 0, 0, 0, 0, 0, 0, 0, 0, 0, 0, 0, 0, 0, 0, 0, 0, 0, 0, 0, 0, 0, 0, 0, 0, 0, 0, 0, 0, 0, 1, 0, 0, 0, 0, 0, 0, 0, 0, 0, 0, 0, 0, 0, 0, 0, 0, 0, 0, 0, 0, 0, 0, 0, 0, 0, 0, 0, 0, 0, 0, 0, 0, 0, 0, 0, 0, 0, 0, 0, 0, 0, 0, 0, 0, 0, 0, 0, 0, 0, 0, 0, 0, 0, 0, 0, 0, 0, 0, 0, 0, 0, 0, 0, 0, 0, 0, 0, 0, 0, 0, 0, 0, 0, 0, 0, 0, 0, 0, 0, 0, 0, 0, 0, 0, 0, 0, 0, 0, 0, 0, 0, 0, 0, 0, 0, 0, 0, 0, 0, 0, 0, 0, 0, 0, 0, 0, 0, 0, 0, 0, 0, 0, 0, 0, 0, 0, 0, 0, 0, 0, 0, 0, 0, 0, 0, 0, 0, 0, 0, 0, 0, 0, 0, 0, 0, 0, 0, 0, 0, 0, 0, 0, 0, 0, 0, 0, 0, 0, 0, 0, 0, 0, 0, 0, 0, 0, 0, 0, 0, 0, 0, 0, 0, 0, 0, 0, 0, 0, 0, 0, 0, 0, 0, 0, 0, 0, 0, 0, 0, 0, 0, 0, 0, 0, 0, 0, 0, 0, 0, 0, 0, 0, 0, 0, 0, 0, 0, 0, 0, 0, 0, 0, 0, 0, 0, 0, 0, 0, 0, 0, 0, 0, 0, 0, 0, 0, 0, 0, 0, 0, 0, 0, 0, 0, 0, 0, 0, 0, 0, 0, 0, 0, 0, 0, 0, 0, 0, 0, 0, 0, 0, 0, 0, 0, 0, 0, 0, 0, 0, 0, 0, 0, 0, 0, 0, 0, 0, 0, 0, 0, 0, 0, 0, 0, 0, 0, 0, 0, 0, 0, 0, 0, 0, 0, 0, 0, 0, 0, 0, 0, 0, 0, 0, 0, 0, 0, 0, 0, 0, 0, 0, 0, 0, 0, 0, 0, 0, 0, 0, 0, 0, 0, 0, 0, 0, 0, 0, 0, 0, 0, 0, 0, 0, 0, 0, 0, 0, 0, 0, 0, 0, 0, 0, 0, 0, 0, 0, 0, 0, 0, 0, 0, 0, 0, 0, 0, 0, 0, 0, 0, 0, 0, 0, 0, 0, 0, 0, 0, 0, 0, 0, 0, 0, 0, 0, 0, 0, 0, 0, 0, 0, 0, 0, 0, 0, 0, 0, 0, 0, 0, 0, 0, 0, 0, 0, 0, 0, 0, 0, 0, 0, 0, 0, 0, 0, 0, 0, 0, 0, 0, 0, 0, 0, 0, 0, 0, 0, 0, 0, 0, 0, 0, 0, 0, 0, 0, 0, 0, 0, 0, 0, 0, 0, 0, 0, 0, 0, 0, 0, 0, 0, 0, 0, 0, 0, 0, 0, 0, 0, 0, 0, 0, 0, 0, 0, 0, 0, 0, 0, 0, 0, 0, 0, 0, 0, 0, 0, 0, 0, 0, 0, 0, 0, 0, 0, 0, 0, 0, 0, 0, 0, 0, 0, 0, 0, 0, 0, 0, 0, 0, 0, 0, 0, 0, 0, 0, 0, 0, 0, 0, 0, 0, 0, 0, 0, 0, 0, 0, 0, 0, 0, 0, 0, 0, 0, 0, 0, 0, 0, 0, 0, 0, 0, 0, 0, 0, 0, 0, 0, 0, 0, 0, 1, 0, 0, 0, 0, 0, 0, 0, 0, 0, 0, 0, 0, 0, 0, 0, 0, 0, 0, 0, 0, 0, 0, 0, 0, 0, 0, 0, 0, 0, 0, 0, 0, 0, 0, 0, 2, 0, 0, 0, 0, 0, 0, 0, 0, 0, 0, 0, 0, 0, 0, 0, 0, 0, 0, 0, 0, 0, 0, 0, 0, 0, 0, 0, 0, 0, 0, 0, 0, 0, 0, 0, 0, 0, 0, 0, 0, 1, 0, 0, 0, 0, 0, 0, 0, 0, 0, 0, 0, 0, 0, 0, 0, 0, 0, 0, 0, 0, 0, 0, 0, 0, 0, 0, 0, 0, 0, 0, 0, 0, 0, 0, 0, 0, 0, 0, 0, 0, 0, 0, 0, 0, 0, 0, 0, 0, 0, 0, 0, 0, 0, 0, 0, 0, 0, 0, 0, 0, 0, 0, 0, 0, 0, 0, 0, 0, 0, 0, 0, 0, 0, 0, 0, 0, 0, 0, 0, 0, 0, 0, 0, 0, 0, 0, 0, 0, 0, 0, 0, 0, 0, 0, 0, 0, 0, 0, 0, 0, 0, 0, 0, 0, 0, 0, 0, 0, 0, 0, 0, 0, 0, 0, 0, 0, 0, 0, 0, 0, 0, 0, 0, 0, 0, 0, 0, 0, 0, 0, 0, 0, 0, 0, 0, 0, 0, 0, 0, 0, 0, 0, 0, 0, 0, 0, 0, 0, 0, 0, 0, 0, 0, 0, 0, 0, 0, 0, 0, 0, 0, 0, 0, 0, 0, 0, 0, 0, 0, 0, 0, 0, 0, 0, 0, 0, 0, 0, 0, 0, 0, 0, 0, 0, 0, 0, 0, 0, 0, 0, 0, 0, 0, 0, 0, 0, 0, 0, 0, 0, 0, 0, 0, 0, 0, 0, 0, 0, 0, 0, 0, 0, 0, 0, 0, 0, 0, 0, 0, 0, 0, 0, 0, 0, 0, 0, 0, 0, 0, 0, 0, 0, 0, 0, 0, 0, 0, 0, 0, 0, 0, 0, 0, 0, 0, 0, 0, 0, 0, 0, 0, 0, 0, 0, 0, 0, 0, 0, 0, 0, 0, 0, 0, 0, 0, 0, 0, 0, 0, 0, 0, 0, 0, 0, 0, 0, 0, 0, 0, 0, 0, 0, 0, 0, 0, 0, 0, 0, 0, 0, 0, 0, 0, 0, 0, 0, 0, 0, 0, 0, 0, 0, 0, 0, 0, 0, 0, 0, 0, 0, 0, 0, 0, 0, 0, 0, 0, 0, 0, 0, 0, 0, 0, 0, 0, 0, 0, 0, 0, 0, 0, 0, 0, 0, 0, 0, 0, 0, 0, 0, 0, 0, 0, 0, 0, 0, 0, 0, 0, 0, 0, 0, 0, 0, 0, 0, 0, 0, 0, 0, 0, 0, 0, 0, 0, 0, 0, 0, 0, 0, 0, 0, 0, 0, 0, 0, 0, 0, 0, 0, 0, 0, 0, 0, 0, 0, 0, 0, 0, 0, 0, 0, 0, 0, 0, 0, 0, 0, 0, 0, 0, 0, 0, 0, 0, 0, 0, 0, 0, 0, 0, 0, 0, 0, 0, 0, 0, 0, 0, 0, 0, 0, 0, 0, 0, 0, 0, 0, 0, 0, 0, 0, 0, 0, 0, 0, 0, 0, 0, 0, 0, 0, 0, 0, 0, 0, 0, 0, 0, 0, 0, 0, 0, 0, 0, 0, 0, 0, 0, 0, 0, 0, 0, 0, 0, 0, 0, 0, 0, 0, 0, 0, 0, 0, 0, 0, 0, 0, 0, 0, 0, 0, 0, 0, 0, 0, 0, 0, 0, 0, 0, 0, 0, 0, 0, 0, 0, 1, 0, 0, 0, 0, 0, 0, 0, 0, 0, 0, 0, 0, 0, 0, 0, 0, 0, 0, 0, 0, 0, 0, 0, 0, 0, 0, 0, 0, 0, 0, 0, 0, 0, 0, 0, 0, 0, 0, 0, 0, 0, 0, 0, 0, 0, 0, 0, 0, 0, 0, 0, 0, 0, 0, 0, 0, 0, 0, 0, 0, 0, 0, 0, 0, 0, 0, 0, 0, 0, 0, 0, 0, 0, 0, 0, 0, 0, 0, 0, 0, 0, 0, 0, 0, 0, 0, 0, 0, 0, 0, 0, 0, 0, 0, 0, 0, 0, 0, 0, 0, 0, 0, 0, 0, 0, 0, 0, 0, 0, 0, 2, 0, 0, 0, 0, 0, 0, 0, 0, 0, 0, 0, 0, 0, 0, 0, 0, 0, 0, 0, 0, 0, 0, 0, 0, 0, 0, 0, 0, 0, 0, 0, 0, 0, 0, 0, 0, 0, 0, 0, 0, 0, 0, 0, 0, 0, 0, 0, 0, 0, 0, 0, 0, 0, 0, 0, 0, 0, 0, 0, 0, 0, 0, 0, 0, 0, 0, 0, 0, 0, 0, 0, 0, 0, 0, 0, 0, 0, 0, 0, 0, 0, 0, 0, 0, 0, 0, 0, 0, 0, 0, 0, 0, 0, 0, 0, 0, 0, 0, 0, 0, 0, 0, 0, 0, 0, 0, 0, 0, 0, 0, 0, 0, 0, 0, 0, 0, 0, 0, 0, 0, 0, 0, 0, 0, 0, 0, 0, 0, 0, 0, 0, 0, 0, 0, 0, 0, 0, 0, 0, 0, 0, 0, 0, 0, 0, 0, 0, 0, 0, 0, 0, 0, 0, 0, 0, 0, 0, 0, 0, 0, 0, 0, 0, 0, 0, 0, 0, 0, 0, 0, 0, 0, 0, 0, 0, 0, 0, 0, 0, 0, 0, 0, 0, 0, 0, 0, 0, 0, 0, 0, 0, 0, 0, 0, 0, 0, 0, 0, 0, 0, 0, 0, 0, 0, 0, 0, 0, 0, 0, 0, 0, 0, 0, 0, 0, 0, 0, 0, 0, 0, 0, 0, 0, 0, 0, 0, 0, 0, 0, 0, 0, 0, 0, 0, 0, 0, 0, 0, 0, 0, 0, 0, 0, 0, 0, 0, 0, 0, 0, 0, 0, 0, 0, 0, 0, 0, 0, 0, 0, 0, 0, 0, 0, 0, 0, 0, 0, 0, 0, 0, 0, 0, 0, 0, 0, 0, 0, 0, 0, 0, 0, 0, 0, 0, 0, 0, 0, 0, 0, 0, 0, 0, 0, 0, 0, 0, 0, 0, 0, 0, 0, 0, 0, 0, 0, 0, 0, 0, 0, 0, 0, 0, 0, 0, 0, 0, 0, 0, 0, 0, 0, 0, 0, 0, 0, 0, 0, 0, 0, 0, 0, 0, 0, 0, 0, 0, 0, 0, 0, 0, 0, 0, 0, 0, 0, 0, 0, 0, 0, 0, 0, 0, 0, 0, 0, 0, 0, 0, 0, 0, 0, 0, 0, 0, 0, 0, 0, 0, 0, 0, 0, 0, 0, 0, 0, 0, 0, 0, 0, 0, 0, 0, 0, 0, 0, 0, 0, 0, 0, 0, 0, 0, 0, 0, 0, 0, 0, 0, 0, 0, 0, 0, 0, 0, 0, 0, 0, 0, 0, 0, 0, 0, 0, 0, 0, 0, 0, 0, 0, 0, 0, 0, 0, 0, 0, 0, 0, 0, 0, 0, 0, 0, 0, 0, 0, 0, 0, 0, 0, 0, 0, 0, 0, 0, 0, 0, 0, 0, 0, 0, 0, 0, 0, 0, 0, 0, 0, 0, 0, 0, 0, 0, 0, 0, 0, 0, 0, 0, 0, 0, 0, 0, 0, 0, 0, 0, 0, 0, 0, 0, 0, 0, 0, 0, 0, 0, 0, 0, 0, 0, 0, 0, 0, 0, 0, 0, 0, 0, 0, 0, 0, 0, 0, 0, 0, 0, 0, 0, 0, 0, 0, 0, 0, 0, 0, 0, 0, 0, 0, 0, 0, 0, 0, 0, 0, 0, 0, 0, 0, 0, 0, 0, 0, 0, 0, 0, 0, 0, 0, 0, 0, 0, 0, 0, 0, 0, 0, 0, 0, 0, 0, 0, 0, 0, 0, 0, 0, 0, 0, 0, 0, 0, 0, 0, 0, 0, 0, 0, 0, 0, 0, 0, 0, 0, 0, 0, 0, 0, 0, 0, 0, 0, 0, 0, 0, 0, 0, 0, 0, 0, 0, 0, 0, 0, 0, 0, 0, 0, 0, 0, 0, 0, 0, 0, 0, 0, 0, 0, 0, 0, 0, 0, 0, 0, 0, 0, 0, 0, 0, 0, 0, 0, 0, 0, 0, 0, 0, 0, 0, 0, 0, 0, 0, 0, 0, 0, 0, 0, 0, 0, 0, 0, 0, 0, 0, 0, 0, 0, 0, 0, 0, 0, 0, 0, 0, 0, 0, 0, 0, 0, 0, 0, 0, 0, 0, 0, 0, 0, 0, 0, 0, 0, 0, 0, 0, 0, 0, 0, 0, 0, 0, 0, 0, 0, 0, 0, 0, 0, 0, 0, 1, 0, 0, 0, 0, 0, 0, 0, 0, 0, 0, 0, 0, 0, 0, 0, 0, 0, 0, 0, 0, 0, 0, 0, 0, 0, 0, 0, 0, 0, 0, 0, 0, 0, 0, 0, 0, 0, 0, 0, 0, 0, 0, 0, 0, 0, 0, 0, 0, 0, 0, 0, 0, 0, 0, 0, 0, 0, 0, 0, 0, 0, 0, 0, 0, 0, 0, 0, 0, 0, 0, 0, 0, 0, 0, 0, 0, 0, 0, 0, 0, 0, 0, 0, 0, 0, 0, 0, 0, 0, 0, 0, 0, 0, 0, 0, 0, 0, 0, 0, 0, 0, 0, 0, 0, 0, 0, 0, 1, 0, 0, 0, 0, 0, 0, 0, 0, 0, 0, 0, 0, 0, 0, 0, 0, 0, 0, 0, 0, 0, 0, 0, 0, 0, 0, 0, 0, 0, 0, 0, 0, 0, 0, 0, 0, 0, 0, 0, 0, 0, 0, 0, 0, 0, 0, 0, 0, 0, 0, 0, 0, 0, 0, 0, 0, 0, 0, 0, 0, 0, 0, 0, 0, 0, 0, 0, 0, 0, 0, 0, 0, 0, 0, 0, 0, 0, 0, 0, 0, 0, 0, 0, 0, 0, 0, 0, 0, 0, 0, 0, 0, 0, 0, 0, 0, 0, 0, 0, 0, 0, 0, 0, 0, 0, 0, 0, 0, 0, 0, 0, 0, 0, 0, 0, 0, 0, 0, 0, 0, 0, 0, 0, 0, 0, 0, 0, 0, 0, 0, 0, 0, 0, 0, 0, 0, 0, 0, 0, 0, 0, 0, 0, 0, 0, 0, 0, 0, 0, 0, 0, 0, 0, 0, 0, 0, 0, 0, 0, 0, 0, 0, 0, 0, 0, 0, 0, 0, 0, 0, 0, 0, 0, 0, 0, 0, 0, 0, 0, 0, 0, 0, 0, 0, 0, 0, 0, 0, 0, 0, 0, 0, 0, 0, 0, 0, 0, 0, 0, 0, 0, 0, 0, 0, 0, 0, 0, 0, 0, 0, 0, 0, 0, 0, 0, 0, 0, 0, 0, 0, 0, 0, 0, 0, 0, 0, 0, 0, 0, 0, 0, 0, 0, 0, 0, 0, 0, 0, 0, 0, 0, 0, 0, 0, 0, 0, 0, 0, 0, 0, 0, 0, 0, 0, 0, 0, 0, 0, 0, 0, 0, 0, 0, 0, 0, 0, 0, 0, 0, 0, 0, 0, 0, 0, 0, 0, 0, 0, 0, 0, 0, 0, 0, 0, 0, 0, 0, 0, 0, 0, 0, 0, 0, 0, 0, 0, 0, 0, 0, 0, 0, 0, 0, 0, 0, 0, 0, 0, 0, 0, 0, 0, 0, 0, 0, 0, 0, 0, 0, 0, 0, 0, 0, 0, 0, 0, 0, 0, 0, 0, 0, 0, 0, 0, 0, 0, 0, 0, 0, 0, 0, 0, 0, 0, 0, 0, 0, 0, 0, 0, 0, 0, 0, 0, 0, 0, 0, 0, 0, 0, 0, 0, 0, 0, 0, 0, 0, 0, 0, 0, 0, 0, 0, 0, 0, 0, 0, 0, 0, 0, 0, 0, 0, 0, 0, 0, 0, 0, 0, 0, 0, 0, 0, 0, 0, 0, 0, 0, 0, 0, 0, 0, 0, 0, 0, 0, 0, 0, 0, 0, 0, 0, 0, 0, 0, 0, 0, 0, 0, 0, 0, 0, 0, 0, 0, 0, 0, 0, 0, 0, 0, 0, 0, 0, 0, 0, 0, 0, 0, 0, 0, 0, 0, 0, 0, 0, 0, 0, 0, 0, 0, 0, 0, 0, 0, 0, 0, 0, 0, 0, 0, 0, 0, 2, 0, 1, 0], type: <class 'list'>, valid types: <class 'bytes'>, <class 'bytearray'>, file-like object"
     ]
    }
   ],
   "source": [
    "response = runtime.invoke_endpoint(EndpointName = xgb_predictor.endpoint, # The name of the endpoint we created\n",
    "                                       ContentType = 'text/csv',                     # The data format that is expected\n",
    "                                       Body = test_bow)"
   ]
  },
  {
   "cell_type": "markdown",
   "metadata": {},
   "source": [
    "So why did we get an error?\n",
    "\n",
    "Because we tried to send the endpoint a list of integers but it expected us to send data of type `text/csv`. So, we need to convert it."
   ]
  },
  {
   "cell_type": "code",
   "execution_count": 45,
   "metadata": {},
   "outputs": [],
   "source": [
    "response = runtime.invoke_endpoint(EndpointName = xgb_predictor.endpoint, # The name of the endpoint we created\n",
    "                                       ContentType = 'text/csv',                     # The data format that is expected\n",
    "                                       Body = ','.join([str(val) for val in test_bow]).encode('utf-8'))"
   ]
  },
  {
   "cell_type": "code",
   "execution_count": 46,
   "metadata": {},
   "outputs": [
    {
     "name": "stdout",
     "output_type": "stream",
     "text": [
      "{'ResponseMetadata': {'RequestId': '86fe8f87-29cf-4354-ab76-8a9240b34a75', 'HTTPStatusCode': 200, 'HTTPHeaders': {'x-amzn-requestid': '86fe8f87-29cf-4354-ab76-8a9240b34a75', 'x-amzn-invoked-production-variant': 'AllTraffic', 'date': 'Tue, 10 Dec 2019 08:56:20 GMT', 'content-type': 'text/csv; charset=utf-8', 'content-length': '14'}, 'RetryAttempts': 0}, 'ContentType': 'text/csv; charset=utf-8', 'InvokedProductionVariant': 'AllTraffic', 'Body': <botocore.response.StreamingBody object at 0x7fc3c93f8f28>}\n"
     ]
    }
   ],
   "source": [
    "print(response)"
   ]
  },
  {
   "cell_type": "markdown",
   "metadata": {},
   "source": [
    "As we can see, the response from our model is a somewhat complicated looking dict that contains a bunch of information. The bit that we are most interested in is `'Body'` object which is a streaming object that we need to `read` in order to make use of."
   ]
  },
  {
   "cell_type": "code",
   "execution_count": 47,
   "metadata": {},
   "outputs": [
    {
     "name": "stdout",
     "output_type": "stream",
     "text": [
      "0.439778238535\n"
     ]
    }
   ],
   "source": [
    "response = response['Body'].read().decode('utf-8')\n",
    "print(response)"
   ]
  },
  {
   "cell_type": "markdown",
   "metadata": {},
   "source": [
    "Now that we know how to process the incoming user data we can start setting up the infrastructure to make our simple web app work. To do this we will make use of two different services. Amazon's Lambda and API Gateway services.\n",
    "\n",
    "Lambda is a service which allows someone to write some relatively simple code and have it executed whenever a chosen trigger occurs. For example, you may want to update a database whenever new data is uploaded to a folder stored on S3.\n",
    "\n",
    "API Gateway is a service that allows you to create HTTP endpoints (url addresses) which are connected to other AWS services. One of the benefits to this is that you get to decide what credentials, if any, are required to access these endpoints.\n",
    "\n",
    "In our case we are going to set up an HTTP endpoint through API Gateway which is open to the public. Then, whenever anyone sends data to our public endpoint we will trigger a Lambda function which will send the input (in our case a review) to our model's endpoint and then return the result."
   ]
  },
  {
   "cell_type": "markdown",
   "metadata": {},
   "source": [
    "### Setting up a Lambda function\n",
    "\n",
    "The first thing we are going to do is set up a Lambda function. This Lambda function will be executed whenever our public API has data sent to it. When it is executed it will receive the data, perform any sort of processing that is required, send the data (the review) to the SageMaker endpoint we've created and then return the result.\n",
    "\n",
    "#### Part A: Create an IAM Role for the Lambda function\n",
    "\n",
    "Since we want the Lambda function to call a SageMaker endpoint, we need to make sure that it has permission to do so. To do this, we will construct a role that we can later give the Lambda function.\n",
    "\n",
    "Using the AWS Console, navigate to the **IAM** page and click on **Roles**. Then, click on **Create role**. Make sure that the **AWS service** is the type of trusted entity selected and choose **Lambda** as the service that will use this role, then click **Next: Permissions**.\n",
    "\n",
    "In the search box type `sagemaker` and select the check box next to the **AmazonSageMakerFullAccess** policy. Then, click on **Next: Review**.\n",
    "\n",
    "Lastly, give this role a name. Make sure you use a name that you will remember later on, for example `LambdaSageMakerRole`. Then, click on **Create role**."
   ]
  },
  {
   "cell_type": "markdown",
   "metadata": {},
   "source": [
    "#### Part B: Create a Lambda function\n",
    "\n",
    "Now it is time to actually create the Lambda function. Remember from earlier that in order to process the user provided input and send it to our endpoint we need to gather two pieces of information:\n",
    "\n",
    " - The name of the endpoint, and\n",
    " - the vocabulary object.\n",
    "\n",
    "We will copy these pieces of information to our Lambda function after we create it.\n",
    "\n",
    "To start, using the AWS Console, navigate to the AWS Lambda page and click on **Create a function**. When you get to the next page, make sure that **Author from scratch** is selected. Now, name your Lambda function, using a name that you will remember later on, for example `sentiment_analysis_xgboost_func`. Make sure that the **Python 3.6** runtime is selected and then choose the role that you created in the previous part. Then, click on **Create Function**.\n",
    "\n",
    "On the next page you will see some information about the Lambda function you've just created. If you scroll down you should see an editor in which you can write the code that will be executed when your Lambda function is triggered. Collecting the code we wrote above to process a single review and adding it to the provided example `lambda_handler` we arrive at the following.\n",
    "\n",
    "```python\n",
    "# We need to use the low-level library to interact with SageMaker since the SageMaker API\n",
    "# is not available natively through Lambda.\n",
    "import boto3\n",
    "\n",
    "# And we need the regular expression library to do some of the data processing\n",
    "import re\n",
    "\n",
    "REPLACE_NO_SPACE = re.compile(\"(\\.)|(\\;)|(\\:)|(\\!)|(\\')|(\\?)|(\\,)|(\\\")|(\\()|(\\))|(\\[)|(\\])\")\n",
    "REPLACE_WITH_SPACE = re.compile(\"(<br\\s*/><br\\s*/>)|(\\-)|(\\/)\")\n",
    "\n",
    "def review_to_words(review):\n",
    "    words = REPLACE_NO_SPACE.sub(\"\", review.lower())\n",
    "    words = REPLACE_WITH_SPACE.sub(\" \", words)\n",
    "    return words\n",
    "    \n",
    "def bow_encoding(words, vocabulary):\n",
    "    bow = [0] * len(vocabulary) # Start by setting the count for each word in the vocabulary to zero.\n",
    "    for word in words.split():  # For each word in the string\n",
    "        if word in vocabulary:  # If the word is one that occurs in the vocabulary, increase its count.\n",
    "            bow[vocabulary[word]] += 1\n",
    "    return bow\n",
    "\n",
    "\n",
    "def lambda_handler(event, context):\n",
    "    \n",
    "    vocab = \"*** ACTUAL VOCABULARY GOES HERE ***\"\n",
    "    \n",
    "    words = review_to_words(event['body'])\n",
    "    bow = bow_encoding(words, vocab)\n",
    "\n",
    "    # The SageMaker runtime is what allows us to invoke the endpoint that we've created.\n",
    "    runtime = boto3.Session().client('sagemaker-runtime')\n",
    "\n",
    "    # Now we use the SageMaker runtime to invoke our endpoint, sending the review we were given\n",
    "    response = runtime.invoke_endpoint(EndpointName = '***ENDPOINT NAME HERE***',# The name of the endpoint we created\n",
    "                                       ContentType = 'text/csv',                 # The data format that is expected\n",
    "                                       Body = ','.join([str(val) for val in bow]).encode('utf-8')) # The actual review\n",
    "\n",
    "    # The response is an HTTP response whose body contains the result of our inference\n",
    "    result = response['Body'].read().decode('utf-8')\n",
    "    \n",
    "    # Round the result so that our web app only gets '1' or '0' as a response.\n",
    "    result = round(float(result))\n",
    "\n",
    "    return {\n",
    "        'statusCode' : 200,\n",
    "        'headers' : { 'Content-Type' : 'text/plain', 'Access-Control-Allow-Origin' : '*' },\n",
    "        'body' : str(result)\n",
    "    }\n",
    "```"
   ]
  },
  {
   "cell_type": "markdown",
   "metadata": {},
   "source": [
    "Once you have copy and pasted the code above into the Lambda code editor, replace the `**ENDPOINT NAME HERE**` portion with the name of the endpoint that we deployed earlier. You can determine the name of the endpoint using the code cell below."
   ]
  },
  {
   "cell_type": "code",
   "execution_count": 48,
   "metadata": {},
   "outputs": [
    {
     "data": {
      "text/plain": [
       "'xgboost-2019-12-10-08-15-47-740'"
      ]
     },
     "execution_count": 48,
     "metadata": {},
     "output_type": "execute_result"
    }
   ],
   "source": [
    "xgb_predictor.endpoint"
   ]
  },
  {
   "cell_type": "markdown",
   "metadata": {},
   "source": [
    "In addition, you will need to copy the vocabulary dict to the appropriate place in the code at the beginning of the `lambda_handler` method. The cell below prints out the vocabulary dict in a way that is easy to copy and paste."
   ]
  },
  {
   "cell_type": "code",
   "execution_count": 49,
   "metadata": {},
   "outputs": [
    {
     "name": "stdout",
     "output_type": "stream",
     "text": [
      "{'so': 4046, 'far': 1653, 'after': 143, 'week': 4837, 'two': 4620, 'of': 3083, 'the': 4426, 'lone': 2642, 'beauty': 430, 'am': 204, 'little': 2624, 'disappointed': 1273, 'some': 4061, 'acting': 99, 'is': 2360, 'good': 1937, 'as': 311, 'long': 2644, 'we': 4823, 'except': 1556, 'that': 4424, 'it': 2366, 'only': 3110, 'drama': 1346, 'how': 2181, 'people': 3221, 'can': 665, 'feel': 1684, 'this': 4457, 'fictional': 1703, 'years': 4979, 'okay': 3099, 'but': 636, 'award': 366, 'winning': 4898, 'book': 535, 'still': 4188, 'much': 2934, 'better': 472, 'wonder': 4926, 'if': 2222, 'bbc': 417, 'will': 4886, 'ever': 1538, 'give': 1912, 'us': 4690, 'follow': 1772, 'up': 4683, 'and': 226, 'next': 3007, 'part': 3193, 'with': 4911, 'things': 4451, 'get': 1899, '2006': 36, 'fact': 1621, 'are': 285, 'waiting': 4772, 'promise': 3430, 'from': 1840, 'government': 1948, 'full': 1846, 'my': 2951, 'husband': 2204, 'parents': 3188, 'an': 223, 'boy': 557, 'who': 4871, 'lives': 2628, 'in': 2257, 'same': 3778, 'screenwriter': 3833, 'movie': 2926, 'were': 4848, 'very': 4723, 'upset': 4687, 'bringing': 586, 'to': 4507, 'its': 2370, 'jewish': 2401, 'film': 1716, 'festival': 1697, 'because': 432, 'way': 4820, 'mentally': 2809, 'character': 758, 'portrayed': 3342, 'went': 4847, 'see': 3855, 'at': 331, 'local': 2634, 'theater': 4427, 'when': 4862, 'came': 656, 'out': 3141, 'money': 2888, 'back': 378, 'would': 4957, 'portion': 3338, 'program': 3424, 'did': 1241, 'not': 3040, 'like': 2599, 'seeing': 3857, 'perhaps': 3235, 'even': 1533, 'teenager': 4390, 'joke': 2414, 'which': 4867, 'he': 2056, 'keeps': 2451, 'dropping': 1371, 'something': 4066, 'look': 2646, 'breasts': 572, 'there': 4438, 'was': 4805, 'no': 3020, 'point': 3316, 'other': 3135, 'than': 4420, 'say': 3799, 'hey': 2095, 'being': 448, 'funny': 1852, 'serious': 3891, 'matter': 2769, 'families': 1644, 'mine': 2853, 'truly': 4597, 'suffering': 4277, 'needs': 2990, 'explain': 1586, 'herself': 2092, 'does': 1308, 'she': 3923, 'know': 2489, 'kids': 2467, 'pool': 3327, 'all': 187, 'these': 4441, 'consider': 949, 'series': 3890, 'finest': 1730, 'example': 1553, 'world': 4946, 'war': 4792, 'ii': 2226, 'documentary': 1307, 'making': 2718, 'interviews': 2330, 'many': 2732, 'countries': 1013, 'set': 3898, 'apart': 264, 'any': 256, 'project': 3427, 'be': 418, 'great': 1964, 'contemporary': 965, 'burns': 628, 'take': 4349, 'on': 3105, 'topic': 4526, 'try': 4600, 'information': 2288, 'before': 440, 'they': 4442, 'gone': 1935, 'modern': 2882, 'technology': 4385, 'improve': 2254, 'old': 3100, 'footage': 1782, 'lots': 2662, 'has': 2043, 'been': 438, 'since': 3990, 'produced': 3414, 'version': 4720, 'welcome': 4842, 'history': 2121, 'channel': 753, 'made': 2697, 'fine': 1729, 'shows': 3960, 'dealing': 1136, 'aspects': 322, 'wwii': 4975, 'such': 4268, 'successfully': 4267, 'attempted': 341, 'original': 3129, 'you': 4986, 'interested': 2324, 'era': 1513, 'dont': 1324, 'miss': 2866, 'required': 3641, 'viewing': 4740, 'cant': 671, 'dead': 1132, 'code': 869, 'worst': 4952, 'ive': 2372, 'seen': 3865, 'had': 2003, 'one': 3107, 'or': 3124, 'decent': 1147, 'moments': 2887, 'easily': 1406, 'most': 2909, 'once': 3106, 'plot': 3309, 'device': 1227, 'present': 3374, 'itself': 2371, 'without': 4913, 'me': 2778, 'guessing': 1991, '10': 0, 'minutes': 2859, 'advance': 127, 'subtlety': 4261, 'anything': 260, 'intelligence': 2313, 'evident': 1547, 'behind': 447, 'scenes': 3811, 'every': 1539, 'spoken': 4126, 'lines': 2612, 'intent': 2318, 'obvious': 3071, 'impossible': 2249, 'into': 2332, 'found': 1811, 'myself': 2953, 'laughing': 2533, 'horribly': 2164, 'thought': 4462, 'line': 2610, 'attempts': 343, 'audience': 352, 'more': 2904, 'often': 3095, 'enjoying': 1487, 'main': 2707, 'reason': 3557, 'wanted': 4789, 'wonderful': 4928, 'cast': 710, 'favorite': 1671, 'actors': 104, 'amazing': 209, 'actually': 109, 'caught': 722, 'off': 3084, 'guard': 1988, 'wasnt': 4807, 'what': 4858, 'expecting': 1578, 'while': 4868, 'do': 1302, 'remember': 3616, 'could': 1007, 'stop': 4201, 'just': 2437, 'for': 1784, 'script': 3834, 'amazingly': 210, 'written': 4972, 'time': 4495, 'happen': 2026, 'didnt': 1242, 'twists': 4619, 'turns': 4609, 'fit': 1740, 'whole': 4873, 'tone': 4517, 'instead': 2307, 'coming': 896, 'pretentious': 3383, 'cinematography': 820, 'along': 195, 'absolutely': 72, 'beautiful': 428, 'well': 4843, 'really': 3556, 'bad': 382, 'about': 67, 'have': 2052, 'andrew': 228, 'screen': 3829, 'animation': 242, 'always': 203, 'seems': 3864, 'japan': 2381, 'might': 2835, 'case': 707, 'europe': 1529, 'usa': 4691, 'big': 478, 'fat': 1663, 'tag': 4348, 'france': 1816, 'probably': 3407, 'comic': 893, 'liberal': 2588, 'home': 2142, 'classics': 837, 'lucky': 2683, 'luke': 2687, 'youve': 4995, 'never': 3001, 'read': 3543, 'too': 4522, 'late': 2523, 'theres': 4440, 'upper': 4685, 'age': 148, 'them': 4432, 'carry': 700, 'natural': 2973, 'pops': 3332, 'suits': 4287, 'image': 2233, 'french': 1830, 'art': 304, 'loving': 2675, 'anti': 254, 'talented': 4355, 'makers': 2715, 'luckily': 2682, 'also': 199, 'view': 4736, 'pretty': 3384, 'international': 2326, 'anyway': 261, 'youre': 4992, 'normal': 3033, 'person': 3238, 'scared': 3805, 'by': 642, 'need': 2987, 'however': 2183, 'beneath': 464, 'cool': 989, 'appearance': 274, 'thriller': 4472, 'overall': 3150, 'fears': 1677, 'easy': 1410, 'turning': 4608, 'spectacular': 4101, 'co': 867, 'doing': 1312, 'their': 4431, 'rip': 3700, 'confusing': 942, 'sometimes': 4067, 'boring': 543, 'engaging': 1481, 'wrong': 4973, 'enjoyed': 1486, 'neo': 2998, 'noir': 3023, 'stuff': 4243, 'worthwhile': 4955, 'level': 2584, 'note': 3044, 'dub': 1378, 'ok': 3098, 'english': 1483, 'interesting': 2325, 'craig': 1030, 'everything': 1544, 'final': 1722, 'word': 4937, 'praise': 3364, 'awesome': 371, 'futuristic': 1857, 'crafted': 1029, 'nice': 3008, 'camera': 659, 'work': 4940, 'smart': 4035, 'looked': 2647, 'hard': 2033, 'visually': 4758, 'stunning': 4244, 'felt': 1692, 'damn': 1100, 'impressive': 2253, 'then': 4436, 'again': 146, 'appreciate': 279, 'effort': 1432, 'studio': 4240, 'put': 3480, 'down': 1335, 'bit': 488, 'definitely': 1162, 'beyond': 476, 'crime': 1055, 'begin': 442, 'foot': 1781, 'first': 1736, 'step': 4175, 'wells': 4845, 'wrote': 4974, 'gothic': 1945, 'horror': 2168, 'his': 2118, 'meant': 2784, 'taken': 4350, 'seriously': 3892, 'simply': 3986, 'isnt': 2362, 'true': 4596, 'concern': 931, 'self': 3869, 'leave': 2555, 'british': 589, 'new': 3003, 'produce': 3413, 'both': 547, 'terrible': 4407, 'consequences': 947, 'protagonist': 3441, 'reminded': 3619, 'fay': 1674, 'king': 2479, 'kong': 2494, 'rather': 3528, 'man': 2721, 'struggling': 4236, 'live': 2625, 'unbelievable': 4634, 'dialog': 1232, 'welles': 4844, 'clearly': 840, 'tongue': 4518, 'cheek': 779, 'looks': 2649, 'ed': 1415, 'wood': 4933, 'enormous': 1490, 'budget': 610, 'waste': 4808, 'cgi': 740, 'effects': 1431, 'poorly': 3329, 'accomplished': 87, 'warner': 4799, 'cartoon': 704, 'factory': 1623, '1940s': 13, 'done': 1322, 'job': 2405, 'blood': 512, 'red': 3576, 'expected': 1577, 'away': 369, 'minute': 2858, 'think': 4452, 'yellow': 4981, 'comics': 895, 'worse': 4951, 'yet': 4984, 'loss': 2659, 'theme': 4433, 'exist': 1569, 'although': 201, 'return': 3665, 'story': 4207, 'utterly': 4702, 'horrors': 2169, 'himself': 2111, 'shape': 3919, 'come': 886, 'here': 2086, 'lot': 2661, 'running': 3756, 'around': 297, 'getting': 1901, 'theyre': 4445, 'trying': 4601, 'high': 2100, 'school': 3813, 'production': 3419, 'drunken': 1376, 'students': 4239, 'senseless': 3878, 'piece': 3272, 'drivel': 1364, 'suffered': 4276, 'through': 4477, 'friend': 1835, 'talked': 4359, 'eastern': 1408, 'european': 1530, 'fantastic': 1651, 'planet': 3289, 'thirty': 4456, 'ago': 154, 'dull': 1384, 'total': 4531, 'strangers': 4214, 'gave': 1875, 'half': 2007, 'sat': 3786, 'near': 2979, 'playing': 3300, 'cards': 683, 'using': 4698, 'light': 2595, 'tell': 4395, 'already': 197, 'lighting': 2596, 'apartment': 265, 'avoid': 363, 'steal': 4170, 'copy': 994, 'pay': 3216, 'burn': 625, 'each': 1395, 'god': 1926, 'wisdom': 4902, 'created': 1037, 'purpose': 3474, 'friends': 1837, 'gabriel': 1859, 'plan': 3287, 'terrifying': 4410, 'assault': 324, 'deadly': 1133, 'act': 97, 'revenge': 3675, 'start': 4156, 'video': 4733, 'feelings': 1686, 'mission': 2870, 'another': 250, 'similar': 3978, 'called': 652, 'elephant': 1444, 'why': 4878, 'bring': 585, 'compare': 911, 'films': 1721, 'course': 1019, 'though': 4461, 'liked': 2600, 'whats': 4860, 'difference': 1246, 'ask': 316, 'shot': 3949, 'blair': 497, 'witch': 4909, 'makes': 2716, 'painfully': 3172, 'realistic': 3550, 'won': 4925, 'over': 3148, 'willing': 4889, 'show': 3953, 'side': 3965, 'unlike': 4670, 'cared': 685, 'understand': 4643, 'actions': 101, 'sympathetic': 4342, 'thats': 4425, 'thing': 4450, 'black': 493, 'white': 4870, 'honest': 2146, 'almost': 193, 'cried': 1054, 'characters': 760, 'real': 3547, 'human': 2188, 'beings': 449, 'logic': 2638, 'reasons': 3560, 'want': 4788, 'kill': 2468, 'attention': 345, 'emotionally': 1460, 'gripping': 1976, 'haunting': 2051, 'must': 2950, 'should': 3951, 'soldier': 4053, 'everyone': 1542, 'america': 212, 'previous': 3387, 'reviewer': 3677, 'totally': 4532, 'missed': 2867, 'reveal': 3670, 'truth': 4599, 'teaching': 4377, 'our': 3139, 'soldiers': 4054, 'terrorists': 4414, 'territory': 4411, 'support': 4303, 'troops': 4591, 'immediately': 2242, 'killed': 2469, 'reveals': 3673, 'help': 2079, 'those': 4460, 'post': 3352, 'stress': 4220, 'physically': 3263, 'lost': 2660, 'julie': 2428, 'roberts': 3714, 'entertaining': 1499, 'opening': 3114, 'scene': 3809, 'stops': 4203, 'delivering': 1171, 'laughs': 2534, 'surprises': 4314, 'touching': 4536, 'fun': 1848, 'watching': 4815, '2005': 35, 'wacky': 4769, 'unforgettable': 4652, 'played': 3297, 'perfection': 3225, 'brosnan': 597, 'noble': 3021, 'hit': 2122, 'end': 1468, 'corporate': 998, 'rich': 3685, 'mid': 2832, 'life': 2592, 'crisis': 1060, 'planned': 3290, 'future': 1856, 'mexican': 2826, 'hotel': 2175, 'bar': 396, 'night': 3013, 'runs': 3757, 'danny': 1112, 'luck': 2681, 'family': 1645, 'losing': 2658, 'business': 633, 'deal': 1135, 'turn': 4605, 'him': 2110, 'loves': 2674, 'wife': 4884, 'especially': 1520, 'young': 4989, 'son': 4070, 'few': 1700, 'earlier': 1399, 'men': 2805, 'cheese': 780, 'hardly': 2036, 'common': 906, 'ground': 1979, 'somehow': 4063, 'conversation': 980, 'struck': 4232, 'sets': 3899, 'motion': 2913, 'chain': 741, 'events': 1536, 'change': 749, 'forever': 1792, 'friendship': 1838, 'form': 1798, 'laurel': 2537, 'hardy': 2037, 'straight': 4210, 'fool': 1779, 'gets': 1900, 'trouble': 4592, 'superbly': 4297, 'due': 1382, 'small': 4033, 'performances': 3229, 'make': 2713, 'mistake': 2871, 'memorable': 2802, 'likable': 2598, 'decade': 1144, 'shoot': 3942, 'your': 4991, 'mother': 2911, 'youd': 4987, 'forgive': 1795, 'may': 2775, 'cinemas': 817, 'ultimate': 4627, 'endearing': 1469, 'complete': 921, 'performance': 3228, 'date': 1118, 'wouldnt': 4958, 'oscar': 3133, 'role': 3726, 'where': 4864, 'girl': 1909, 'thoughts': 4464, 'familiar': 1643, 'bond': 532, 'manages': 2725, 'lose': 2654, '20': 29, 'across': 96, 'surprise': 4312, 'toward': 4539, 'takes': 4351, 'unpredictable': 4675, 'thumbs': 4485, 'find': 1726, 'someone': 4064, 'call': 651, 'birthday': 487, 'davis': 1126, 'bedroom': 437, 'reaches': 3538, 'unexpected': 4650, 'depth': 1190, 'emotion': 1458, 'stylish': 4251, 'constantly': 958, 'contains': 964, 'career': 686, 'lonely': 2643, 'looking': 2648, 'means': 2783, 'least': 2554, 'overlooked': 3154, 'gem': 1877, 'soon': 4074, 'possible': 3350, 'fan': 1648, 'enjoy': 1484, 'caine': 647, 'ruby': 3749, 'cinema': 816, 'cute': 1090, 'silly': 3976, 'girls': 1911, 'hot': 2174, 'watch': 4811, 'sex': 3907, 'whatsoever': 4861, 'until': 4680, '45': 50, 'score': 3822, 'cheesy': 781, 'plots': 3310, 'bore': 540, 'makeup': 2717, 'her': 2085, 'hair': 2005, 'awkward': 374, 'shes': 3930, 'others': 3136, 'quite': 3495, 'youll': 4988, 'sound': 4081, 'weird': 4841, '70s': 56, 'vampire': 4711, 'erotic': 1515, 'survivor': 4324, 'sexually': 3910, 'graphic': 1958, 'prefer': 3368, 'less': 2575, 'sexual': 3908, 'exploitation': 1592, 'based': 404, 'lower': 2677, 'movies': 2927, 'check': 777, '2000': 30, 'website': 4834, 'sir': 4000, 'peter': 3247, 'professional': 3421, 'seek': 3858, 'charming': 768, '60s': 54, 'satire': 3788, 'stars': 4155, 'during': 1387, 'last': 2521, 'day': 1129, 'prison': 3401, 'identity': 2217, 'computer': 927, 'expert': 1585, 'american': 213, 'top': 4525, 'delightful': 1168, 'maggie': 2702, 'smith': 4038, 'accident': 84, 'bird': 484, 'bob': 524, 'puts': 3481, 'amusing': 221, 'suspicious': 4332, 'executive': 1567, 'designs': 1204, 'addition': 118, 'sleazy': 4023, 'boss': 546, 'particularly': 3195, 'love': 2669, 'convincing': 985, 'involving': 2349, 'effective': 1429, 'captures': 678, 'iron': 2354, 'couple': 1016, 'likely': 2601, 'notice': 3048, 'second': 3846, 'third': 4455, 'minor': 2857, 'said': 3774, 'worth': 4953, 'seeking': 3859, 'regular': 3592, 'lets': 2580, 'anime': 243, 'used': 4693, 'speed': 4103, 'several': 3905, 'hilarious': 2106, 'godzilla': 1929, 'moving': 2928, 'comes': 891, 'going': 1931, 'usual': 4699, 'crappy': 1032, 'fx': 1858, 'sudden': 4272, 'boom': 537, 'goes': 1930, 'downhill': 1336, 'cheap': 774, 'bunch': 623, 'run': 3755, 'dinosaurs': 1256, 'transition': 4561, 'action': 100, 'dialogue': 1234, 'viewed': 4737, 'horrid': 2165, 'dad': 1095, 'tape': 4365, 'dvd': 1391, 'vhs': 4725, 'player': 3298, 'kept': 2456, 'surviving': 4323, 'jokes': 2415, 'comments': 901, 'robots': 3718, 'mike': 2838, 'mst3k': 2932, 'pick': 3265, 'season': 3843, 'honestly': 2147, 'barely': 399, 'survive': 4321, 'heck': 2071, 'im': 2232, 'planning': 3291, 'fellow': 1691, 'pal': 3177, 'halloween': 2010, 'stupid': 4247, 'painful': 3171, 'unintentionally': 4659, 'giving': 1915, 'improvement': 2256, 'originally': 3131, 'according': 88, 'scale': 3802, 'three': 4469, 'unless': 4669, 'become': 433, '15': 7, 'watched': 4813, 'plenty': 3307, 'times': 4497, 'buying': 641, 'feature': 1678, 'jason': 2383, 'comedy': 890, 'different': 1248, 'unique': 4662, 'enjoyable': 1485, 'indie': 2276, 'strange': 4211, 'short': 3946, 'talking': 4360, 'named': 2961, 'edward': 1426, 'order': 3126, 'fighting': 1709, 'focus': 1766, 'changes': 751, 'highly': 2105, 'recommend': 3571, 'humour': 2194, 'match': 2762, 'taste': 4369, 'itll': 2369, '16': 8, 'free': 1827, 'go': 1924, 'madness': 2698, 'background': 380, 'provided': 3449, 'city': 825, 'park': 3190, 'baseball': 403, 'authentic': 358, 'references': 3583, 'past': 3207, 'having': 2054, 'endure': 1475, 'hill': 2108, 'serving': 3897, 'kevin': 2457, 'attempting': 342, 'critical': 1062, 'jimmy': 2403, 'drew': 1360, 'jones': 2418, 'left': 2561, 'field': 1704, 'fans': 1650, 'beloved': 461, 'team': 4378, 'fast': 1661, 'pace': 3161, 'ending': 1471, 'predictable': 3367, 'charm': 767, 'popular': 3333, 'overly': 3155, 'hes': 2093, 'says': 3801, 'buy': 640, 'yourself': 4993, 'box': 555, 'popcorn': 3331, 'ready': 3546, 'fever': 1699, 'pitch': 3279, 'winner': 4897, 'sure': 4308, 'drive': 1363, 'nothing': 3047, 'otherwise': 3137, 'needed': 2988, 'mood': 2898, 'activities': 102, 'aint': 163, 'korean': 2495, 'together': 4511, 'tommy': 4516, 'forward': 1808, 'un': 4630, 'enough': 1491, 'guys': 2001, 'sad': 3767, 'took': 4523, 'women': 4923, 'generations': 1884, 'finally': 1724, 'accepted': 82, 'army': 295, 'combat': 882, 'situations': 4009, 'womens': 4924, 'charge': 761, 'keep': 2449, 'pants': 3182, 'remind': 3618, 'name': 2960, 'individual': 2277, 'flop': 1760, 'hour': 2176, 'confused': 941, 'bill': 481, 'wearing': 4831, 'arrived': 301, 'camp': 662, 'turned': 4606, 'guy': 2000, 'girlfriend': 1910, 'supposed': 4306, 'year': 4978, 'reunion': 3669, 'directors': 1266, 'alan': 171, 'later': 2525, 'experiences': 1582, 'sense': 3877, 'ended': 1470, 'style': 4249, 'director': 1264, 'grown': 1984, 'touch': 4533, 'youth': 4994, 'best': 469, 'none': 3028, 'careers': 687, 'seemed': 3862, 'compared': 912, 'ways': 4822, 'exciting': 1563, 'beginning': 443, 'promising': 3433, 'months': 2897, 'hearing': 2063, 'now': 3054, 'combine': 884, 'peoples': 3222, 'creative': 1041, 'ideas': 2215, 'own': 3158, 'premise': 3370, 'million': 2847, 'mind': 2849, 'inside': 2297, 'hollywoods': 2138, 'door': 1328, 'right': 3696, 'hollywood': 2137, 'heard': 2062, 'animal': 239, 'house': 2178, 'meets': 2795, 'wall': 4781, 'street': 4216, 'society': 4050, 'shakespeare': 3915, 'star': 4150, 'wars': 4804, 'independent': 2272, 'daring': 1114, 'safe': 3771, 'blade': 495, 'children': 792, 'whatever': 4859, 'mostly': 2910, 'dream': 1354, 'dark': 1115, 'ought': 3138, 'added': 116, 'animated': 241, 'affect': 136, '1st': 28, 'intense': 2316, 'hate': 2046, 'relationship': 3597, 'sci': 3815, 'fi': 1701, 'themes': 4434, 'incredible': 2269, 'brilliant': 583, 'adaptation': 113, 'largely': 2518, 'stephen': 4176, 'molly': 2884, 'joseph': 2419, 'portrait': 3339, 'june': 2433, 'double': 1331, 'intended': 2315, 'casting': 711, 'cinematographer': 819, 'creating': 1039, 'masterpiece': 2759, 'novel': 3052, 'filmed': 1717, 'recognized': 3570, 'names': 2963, 'buck': 605, 'whom': 4875, 'viewings': 4741, 'brian': 576, 'personally': 3243, 'killer': 2470, 'fame': 1642, 'parts': 3199, 'lengthy': 2570, 'contained': 963, 'superb': 4296, 'locations': 2636, 'beautifully': 429, 'sword': 4340, 'play': 3296, 'solid': 4057, 'opinion': 3118, 'anymore': 258, 'asian': 314, 'tiger': 4491, 'hidden': 2096, 'dragon': 1344, 'flying': 1764, 'suggest': 4280, 'rent': 3626, 'die': 1243, 'collection': 874, 'japanese': 2382, 'teenage': 4389, 'slasher': 4020, 'ill': 2228, 'points': 3319, 'covers': 1024, 'entire': 1502, 'swear': 4334, 'picked': 3266, 'random': 3514, 'secondly': 3847, 'unconvincing': 4638, 'development': 1225, 'figure': 1711, 'deserved': 1200, 'overdone': 3152, 'fantasy': 1652, 'killers': 2471, 'freddy': 1826, 'scarecrow': 3804, 'liners': 2611, 'laugh': 2529, 'animals': 240, 'torture': 4529, 'leaves': 2556, 'raised': 3508, '30': 42, 'head': 2057, 'gods': 1928, 'sake': 3775, 'special': 4097, 'class': 833, 'understood': 4647, 'low': 2676, 'standards': 4145, 'sleep': 4024, 'michael': 2829, 'bay': 416, 'either': 1438, 'pointless': 3318, 'robot': 3717, 'cost': 1003, 'crew': 1053, 'spent': 4108, 'personal': 3240, 'thankfully': 4422, 'initially': 2291, 'known': 2492, 'mainly': 2708, 'charles': 764, 'albert': 174, 'bands': 392, 'empire': 1464, 'pictures': 3270, 'developed': 1223, 'cult': 1077, 'following': 1774, 'initial': 2290, 'release': 3602, 'early': 1400, '90s': 61, 'cold': 872, 'politics': 3326, 'stereotypes': 4179, 'fall': 1637, 'sitting': 4007, 'shelf': 3926, 'released': 3603, 'unbearable': 4633, 'heres': 2087, 'somewhere': 4069, 'nuclear': 3057, 'large': 2517, 'between': 475, 'nations': 2971, 'machine': 2693, 'giant': 1905, 'warrior': 4802, 'walks': 4780, 'fight': 1707, 'wins': 4899, 'gary': 1873, 'detective': 1220, 'alien': 183, 'nation': 2969, 'tv': 4610, 'plays': 3301, 'greatest': 1966, 'aka': 168, 'nine': 3017, 'ten': 4399, 'number': 3060, 'battles': 415, 'retired': 3664, 'faces': 1618, 'against': 147, 'ie': 2221, 'psychotic': 3459, 'alexander': 180, 'evil': 1548, 'russian': 3762, 'stereotype': 4178, 'dolph': 1317, 'infamous': 2284, 'rocky': 3723, 'draw': 1349, 'rules': 3754, 'illegal': 2229, 'move': 2921, 'ends': 1474, 'embarrassing': 1454, 'killing': 2472, 'bargain': 400, 'wants': 4791, 'hang': 2022, 'spoiler': 4123, 'revealing': 3672, 'finale': 1723, 'hope': 2155, 'sort': 4077, 'science': 3816, 'fiction': 1702, 'plain': 3286, 'grant': 1956, 'higher': 2101, 'concept': 930, 'average': 362, 'grade': 1951, 'occasionally': 3075, 'themselves': 4435, 'green': 1971, 'moon': 2900, 'model': 2880, 'techniques': 4384, 'costumes': 1006, 'slightest': 4028, 're': 3535, 'gordon': 1940, 'shooting': 3943, 'picture': 3269, 'unfortunately': 4654, 'pan': 3180, 'got': 1944, 'bottom': 551, 'hours': 2177, 'else': 1448, 'game': 1864, 'spoilers': 4124, 'sexy': 3911, 'middle': 2833, 'gold': 1932, 'susan': 4326, 'contact': 961, 'hearts': 2066, 'longer': 2645, 'use': 4692, 'thrown': 4481, 'victim': 4729, 'non': 3027, 'abusive': 75, 'keeping': 2450, 'bank': 394, 'account': 89, 'stewart': 4184, 'john': 2409, 'friendly': 1836, 'former': 1800, 'richard': 3686, 'philip': 3252, 'telling': 4396, 'sick': 3963, 'contract': 973, 'husbands': 2205, 'ex': 1549, 'nicholas': 3010, 'campbell': 663, 'finds': 1728, 'exactly': 1551, 'paid': 3169, 'greedy': 1969, 'blew': 505, 'brains': 563, 'offered': 3088, 'tried': 4584, 'shop': 3945, 'quickly': 3491, 'arrested': 298, 'guts': 1999, 'hired': 2117, 'doesnt': 1309, 'arm': 292, 'law': 2538, 'police': 3322, 'happens': 2029, 'church': 813, 'advantage': 129, 'dirty': 1268, 'naive': 2958, 'widow': 4883, 'lover': 2672, 'ahead': 159, 'crimes': 1056, 'party': 3200, 'literally': 2622, 'steven': 4182, 'seconds': 3848, 'richards': 3687, 'attorney': 348, 'de': 1131, 'los': 2653, 'knows': 2493, 'wise': 4903, 'da': 1094, 'evidence': 1546, 'knowing': 2490, 'closing': 859, 'cash': 709, 'daughter': 1121, 'office': 3091, 'country': 1014, 'clever': 841, 'possibly': 3351, 'fatal': 1664, 'told': 4513, 'don': 1320, 'shell': 3927, 'wait': 4770, 'clear': 839, 'blow': 514, 'wish': 4904, 'hadnt': 2004, 'involved': 2346, 'kinds': 2478, 'drugs': 1374, 'alcohol': 176, 'eating': 1413, 'famous': 1647, 'weve': 4856, 'started': 4157, 'showing': 3958, 'ups': 4686, 'aired': 165, 'havent': 2053, 'please': 3304, 'sunday': 4293, 'nights': 3016, 'laughed': 2532, 'ordinary': 3128, 'romance': 3732, '80s': 59, 'atmosphere': 333, 'enterprise': 1495, 'feet': 1688, 'reality': 3551, 'brings': 587, 'earth': 1403, 'sweet': 4336, 'relies': 3606, 'tale': 4353, 'memory': 2804, 'werent': 4849, 'excellent': 1555, 'orders': 3127, 'ritter': 3705, 'dog': 1310, 'under': 4639, 'hat': 2045, 'moment': 2886, 'dorothy': 1330, 'falls': 1640, 'lay': 2542, 'fear': 1676, 'certainly': 738, 'heart': 2064, 'smile': 4036, 'ones': 3108, 'face': 1616, 'viewer': 4738, 'upon': 4684, 'feeling': 1685, 'string': 4227, 'clichés': 846, 'genre': 1888, 'realise': 3548, 'became': 431, 'particular': 3194, 'widely': 4881, 'words': 4938, 'joy': 2422, 'broad': 590, 'somewhat': 4068, 'nevertheless': 3002, 'pacing': 3163, 'direction': 1261, 'shines': 3932, 'alone': 194, 'remarkably': 3614, 'thoughtful': 4463, 'witty': 4917, 'cardboard': 682, 'realism': 3549, 'underrated': 4642, 'eye': 1611, 'interview': 2329, 'provides': 3450, 'nowhere': 3056, 'town': 4541, 'cats': 721, 'death': 1141, 'admit': 122, 'spite': 4117, 'numerous': 3062, 'believe': 454, 'experience': 1580, 'basis': 408, 'greed': 1968, 'pride': 3391, 'lust': 2689, 'anger': 235, 'failing': 1627, 'serves': 3895, 'supernatural': 4302, 'specific': 4099, 'mr': 2929, 'nicely': 3009, 'suitable': 4285, 'music': 2946, 'absolute': 71, 'doubt': 1332, 'alice': 182, 'mary': 2751, 'brady': 561, 'simple': 3983, 'campy': 664, 'culture': 1079, 'york': 4985, 'birth': 486, 'rebel': 3561, 'cause': 723, 'important': 2247, 'elements': 1443, 'fascinating': 1658, 'timeless': 4496, 'succeed': 4262, 'odds': 3082, 'believable': 453, 'depressing': 1188, 'recognize': 3569, 'neighbors': 2994, 'satisfying': 3791, 'depression': 1189, 'ambitious': 211, 'store': 4204, 'falling': 1639, 'mystery': 2956, 'woman': 4921, 'romantic': 3733, 'letters': 2582, 'discover': 1279, 'add': 115, 'twist': 4617, 'owner': 3159, 'convinced': 984, 'affair': 135, 'leaving': 2557, 'briefly': 580, 'fired': 1735, 'happy': 2032, 'inevitable': 2282, 'dated': 1119, 'poverty': 3357, 'pleasure': 3306, 'musical': 2947, 'reach': 3536, 'enjoyment': 1488, 'credible': 1048, '1990s': 25, 'mail': 2706, 'starring': 4154, 'tom': 4514, 'hanks': 2025, 'ryan': 3765, 'actual': 108, 'viewers': 4739, 'offended': 3085, 'corner': 996, 'innocent': 2294, 'lane': 2515, 'complicated': 925, 'place': 3282, 'lovers': 2673, 'classic': 835, 'comedies': 889, 'question': 3487, 'audio': 354, 'speaking': 4095, 'arent': 288, 'cartoons': 705, 'sitcom': 4004, 'summer': 4291, 'episodes': 1508, 'chance': 747, 'figured': 1712, 'maybe': 2776, 'shown': 3959, 'clips': 852, 'cut': 1089, 'quick': 3490, 'horrible': 2163, 'dreadful': 1353, 'struggle': 4234, 'id': 2212, 'considering': 952, 'guess': 1989, 'sign': 3970, 'nobody': 3022, 'wont': 4932, 'heston': 2094, 'portrayal': 3341, 'force': 1786, 'promised': 3431, 'christmas': 810, 'led': 2558, 'duke': 1383, 'brother': 598, 'andy': 230, 'jackson': 2375, 'defend': 1158, 'projects': 3428, 'presence': 3373, 'awe': 370, 'inspiring': 2302, 'power': 3359, 'command': 897, 'colorful': 878, 'relief': 3605, 'blond': 510, 'asks': 319, 'battle': 414, 'rage': 3505, 'fire': 1734, 'attempt': 340, 'north': 3036, 'slightly': 4029, 'stories': 4205, 'dance': 1103, 'soccer': 4048, 'thinking': 4453, 'group': 1980, 'authority': 360, 'germany': 1898, 'cinematic': 818, 'despite': 1211, 'crude': 1069, 'mild': 2839, 'lovable': 2668, 'above': 68, 'ridiculous': 3693, 'situation': 4008, 'captured': 677, 'deep': 1154, 'frustration': 1843, 'female': 1693, 'cannot': 670, 'section': 3853, 'language': 2516, 'behavior': 446, 'flawed': 1750, 'cleverly': 842, 'title': 4504, 'filming': 1718, 'various': 4715, 'methods': 2825, 'shoes': 3941, 'van': 4713, 'connect': 944, 'outside': 3146, 'radio': 3504, 'food': 1778, 'credits': 1050, 'sister': 4001, 'persons': 3244, 'rating': 3529, 'garbage': 1870, 'paris': 3189, 'current': 1084, 'saw': 3798, 'beach': 419, 'square': 4136, 'village': 4743, 'performers': 3232, 'lowest': 2678, 'humorous': 2193, 'nature': 2975, 'insulting': 2310, 'nominated': 3025, 'awards': 367, 'ratings': 3530, '100': 1, 'imdb': 2240, 'blonde': 511, 'villain': 4744, 'appearing': 277, 'super': 4295, 'hero': 2088, 'couldnt': 1008, 'cat': 713, 'mirror': 2861, 'scary': 3807, 'stopped': 4202, 'cop': 991, 'trail': 4553, 'london': 2641, 'clue': 864, 'pathetic': 3210, '1990': 24, 'rare': 3523, 'uk': 4626, 'desert': 1198, 'weekend': 4838, 'unknown': 4668, 'drives': 1367, 'menacing': 2807, 'truck': 4595, 'creepy': 1052, 'gore': 1941, 'lame': 2510, 'oddly': 3081, 'fell': 1690, 'asleep': 320, 'nearly': 2981, 'built': 618, 'suspense': 4330, 'nudity': 3059, 'seem': 3861, 'goofy': 1939, 'helps': 2082, 'ease': 1404, 'mix': 2876, 'child': 789, 'charlotte': 766, 'lewis': 2586, 'murphy': 2944, 'surreal': 4317, 'sequence': 3887, 'fairly': 1631, 'flicks': 1755, 'drag': 1342, 'filled': 1715, 'gas': 1874, 'ensues': 1493, 'ride': 3692, 'recently': 3567, 'holds': 2131, 'bored': 541, 'pop': 3330, 'glad': 1916, 'david': 1124, 'sleeping': 4025, 'partner': 3198, 'jealous': 2388, 'spanish': 4092, 'car': 680, 'tells': 4397, 'decides': 1150, 'commit': 904, 'suicide': 4283, 'driving': 1368, 'bridge': 578, 'crash': 1033, 'murder': 2939, 'dreams': 1355, 'nightmares': 3015, 'flashbacks': 1747, 'begins': 444, 'including': 2264, 'cruise': 1071, 'cameron': 661, 'kurt': 2499, 'russell': 3761, 'lee': 2559, 'taylor': 4372, 'happiness': 2031, 'sadness': 3770, 'angry': 238, 'etc': 1527, 'cameo': 657, 'spielberg': 4110, 'sky': 4017, 'finished': 1733, 'psychological': 3458, 'trailer': 4554, 'directed': 1259, 'robert': 3713, 'zero': 4996, 'idiot': 2218, 'neighbor': 2992, 'drunk': 1375, 'front': 1841, 'suddenly': 4273, 'victims': 4730, 'violent': 4748, 'disturbing': 1300, 'violence': 4747, 'public': 3460, 'system': 4345, 'punk': 3468, 'crazy': 1035, 'rock': 3720, 'roll': 3728, 'noted': 3045, 'kudos': 2497, 'dogs': 1311, 'civil': 826, 'rights': 3697, 'justice': 2438, 'troubled': 4593, 'soft': 4051, 'subtle': 4260, 'understated': 4646, 'length': 2569, 'capture': 676, 'works': 4945, 'frank': 1821, 'returns': 3668, 'batman': 413, 'leads': 2548, 'kid': 2464, 'yeah': 4977, '1973': 19, 'happened': 2027, 'catch': 714, 'inspired': 2301, 'gonna': 1936, 'sit': 4003, 'problem': 3408, 'vampires': 4712, 'walk': 4775, 'screams': 3828, 'stuck': 4237, 'missing': 2869, 'twice': 4613, 'effect': 1428, 'zombies': 4998, 'slowly': 4032, 'write': 4967, 'expect': 1575, 'list': 2617, 'issues': 2365, 'sounds': 4084, 'heavy': 2070, 'paul': 3214, 'falk': 1636, 'concerned': 932, 'qualities': 3483, 'father': 1666, 'working': 4944, 'perfect': 3224, 'acted': 98, 'broadway': 592, 'actor': 103, 'wide': 4880, 'range': 3516, 'roles': 3727, 'hear': 2061, 'everyday': 1541, 'currently': 1085, 'ultimately': 4628, 'loved': 2670, 'enthusiasm': 1501, 'triumph': 4590, 'earned': 1401, 'competition': 918, 'body': 527, 'soul': 4079, 'william': 4887, 'powell': 3358, 'becomes': 434, 'choice': 797, 'stretched': 4222, 'zone': 4999, 'noticed': 3049, 'hated': 2047, 'review': 3676, 'dislike': 1288, 'huge': 2185, 'stage': 4139, 'lovely': 2671, 'fortunately': 1805, 'terrific': 4409, 'winters': 4901, 'george': 1893, 'directing': 1260, 'finish': 1732, 'odd': 3080, 'mean': 2779, 'spirited': 4114, 'hopes': 2159, 'fly': 1763, 'eccentric': 1414, 'starts': 4159, 'weight': 4840, 'shelley': 3928, 'debut': 1143, 'tour': 4538, 'guide': 1993, 'sally': 3776, 'bud': 607, 'vision': 4754, 'imagine': 2238, 'producer': 3415, 'lou': 2663, 'explaining': 1588, 'lead': 2545, 'putting': 3482, 'tough': 4537, 'pull': 3461, 'let': 2579, 'inspiration': 2300, 'numbers': 3061, 'mindless': 2851, 'satisfy': 3790, 'rats': 3531, 'care': 684, 'tune': 4602, 'western': 4853, 'riding': 3695, 'sun': 4292, 'snow': 4045, 'cave': 727, 'cutting': 1092, 'pieces': 3273, 'bruce': 602, 'correct': 1000, 'reduced': 3579, 'guest': 1992, 'dr': 1340, 'diana': 1237, 'brilliance': 582, 'control': 977, 'baby': 376, 'technical': 4381, 'sidekick': 3966, 'walked': 4776, 'room': 3735, 'eyes': 1613, 'shut': 3961, 'space': 4090, 'boys': 559, 'ship': 3934, 'lady': 2507, 'doctor': 1304, 'stay': 4166, 'trek': 4578, 'fashion': 1659, 'monsters': 2893, 'idea': 2213, 'causing': 726, 'forget': 1793, 'insane': 2296, 'kirk': 2482, 'naturally': 2974, 'superior': 4300, 'powers': 3361, 'president': 3378, 'showed': 3956, 'stunt': 4245, 'land': 2511, 'ladies': 2506, 'cruel': 1070, 'supposedly': 4307, 'comedic': 888, 'surprising': 4315, 'talents': 4356, 'dramatic': 1348, 'robin': 3715, 'williams': 4888, 'photo': 3257, '2002': 32, 'jim': 2402, 'carrey': 696, 'sunshine': 4294, '2004': 34, 'stranger': 4213, 'adam': 111, 'sandler': 3781, 'yes': 4982, 'given': 1913, 'proud': 3444, 'wondering': 4930, 'punch': 3466, 'taking': 4352, 'intelligent': 2314, 'exploration': 1593, 'storyline': 4208, 'proves': 3447, 'surprisingly': 4316, 'johnson': 2411, 'successful': 4266, 'dentist': 1180, 'unable': 4631, 'marriage': 2743, 'charlie': 765, 'college': 875, 'terrorist': 4413, 'attacks': 339, 'september': 3884, '11': 2, '2001': 31, 'overwhelming': 3157, 'abandoned': 62, 'spends': 4107, 'listening': 2620, 'manhattan': 2726, 'games': 1865, 'repeatedly': 3632, 'kitchen': 2485, 'deceased': 1146, 'wishes': 4906, 'meet': 2793, 'latter': 2528, 'completely': 922, 'memories': 2803, 'prior': 3400, 'indeed': 2271, 'existence': 1571, 'loses': 2657, 'whenever': 4863, 'anybody': 257, 'suggests': 4282, 'filmmakers': 1720, 'storytelling': 4209, 'died': 1244, 'intention': 2319, 'pain': 3170, 'caused': 724, 'tragedy': 4551, 'meaningless': 2782, 'emotional': 1459, 'costs': 1004, 'dealt': 1138, 'whose': 4877, 'difficult': 1249, 'task': 4368, 'instantly': 2306, 'deeply': 1156, 'hollow': 2135, 'thanks': 4423, 'glimpse': 1919, 'bleak': 503, 'thin': 4449, '1930s': 11, 'veteran': 4724, 'actress': 105, 'lake': 2509, 'suspects': 4328, 'ralph': 3510, 'morgan': 2905, 'raymond': 3534, 'secretary': 3850, 'supporting': 4304, 'appeared': 276, 'wizard': 4919, 'oz': 3160, 'hood': 2151, 'flynn': 1765, 'afternoon': 144, 'em': 1452, 'slow': 4031, 'funniest': 1851, 'gift': 1906, 'curse': 1086, 'capable': 672, 'wound': 4960, 'weapon': 4828, 'kills': 2474, 'hurts': 2203, 'mom': 2885, 'grows': 1985, 'superhero': 4299, 'necessary': 2984, 'dangerous': 1110, 'anyone': 259, 'deserves': 1201, 'mafia': 2700, 'aware': 368, 'emotions': 1461, 'subject': 4253, 'smaller': 4034, 'resources': 3651, 'recall': 3562, 'whether': 4866, 'horses': 2171, 'german': 1896, 'pure': 3471, 'magic': 2703, 'purposes': 3475, 'la': 2500, 'le': 2544, 'likes': 2602, 'leading': 2547, 'generally': 1881, 'matters': 2770, 'adorable': 124, 'television': 4394, 'today': 4508, 'selling': 3873, 'kind': 2476, 'print': 3399, 'travesty': 4570, 'offer': 3087, 'afraid': 140, 'bucks': 606, 'oh': 3096, 'passion': 3205, 'blah': 496, 'awful': 372, 'trite': 4589, 'petty': 3249, 'period': 3236, 'funeral': 1849, 'buried': 624, 'environment': 1505, 'speaks': 4096, 'elizabeth': 1445, 'georges': 1894, 'comfortable': 892, '12': 3, 'band': 391, 'patrick': 3213, 'desire': 1205, 'dress': 1357, 'practice': 3363, 'amazed': 208, 'encounters': 1467, 'ian': 2209, 'aging': 153, 'attracted': 349, '50': 51, 'members': 2801, 'appear': 273, 'meaning': 2780, 'member': 2800, 'jail': 2376, 'states': 4163, 'singer': 3993, 'key': 2458, 'share': 3920, 'arrives': 302, 'afterwards': 145, 'plans': 3292, 'sentimental': 3882, 'skill': 4013, 'term': 4405, 'warm': 4794, 'hearted': 2065, 'usually': 4700, 'cringe': 1059, 'rate': 3526, 'wonders': 4931, 'among': 217, 'leslie': 2574, 'joan': 2404, 'sings': 3997, 'strong': 4229, 'jazz': 2387, 'talent': 4354, 'singing': 3995, 'attractive': 351, 'songs': 4072, 'shouldnt': 3952, 'incredibly': 2270, 'creatures': 1046, 'living': 2629, 'mixed': 2877, 'spot': 4131, 'general': 1880, 'towards': 4540, 'essentially': 1523, 'destroy': 1213, 'counter': 1011, 'threat': 4467, 'humanity': 2189, 'duty': 1390, 'bomb': 531, 'describes': 1196, 'biggest': 480, 'convoluted': 987, 'angle': 236, 'described': 1195, 'episode': 1507, 'ensemble': 1492, 'jack': 2373, 'manage': 2722, 'increasingly': 2268, 'nonsensical': 3031, 'wears': 4832, 'achievement': 94, 'explained': 1587, 'sends': 3876, 'exercise': 1568, 'vague': 4705, 'scientist': 3818, 'moronic': 2907, 'believes': 456, 'wealthy': 4827, 'stock': 4193, 'market': 2740, 'motivation': 2914, 'develops': 1226, 'brief': 579, 'detail': 1217, 'sheer': 3925, 'writing': 4971, 'pages': 3168, 'interest': 2323, 'miserably': 2864, 'poor': 3328, 'forth': 1804, 'excitement': 1562, 'tension': 4404, 'onto': 3111, 'metal': 2823, 'cry': 1073, 'previously': 3388, 'explosion': 1596, 'bother': 548, 'answer': 251, 'occurs': 3078, 'nor': 3032, 'escape': 1517, 'sorry': 4076, 'cross': 1066, 'bizarre': 492, 'laughable': 2530, 'build': 614, 'wasted': 4809, 'bed': 436, 'somebody': 4062, 'quiet': 3492, 'colonel': 876, 'impression': 2252, 'repeated': 3631, 'failed': 1626, 'flat': 1748, 'rest': 3657, 'similarly': 3980, 'featuring': 1681, 'center': 732, 'villains': 4745, 'spell': 4104, 'climax': 849, 'features': 1680, 'visual': 4757, 'sequences': 3888, 'elaborate': 1439, 'obviously': 3072, 'stinker': 4191, 'nail': 2957, 'cars': 702, 'stood': 4199, 'scott': 3824, 'thomas': 4458, 'brought': 600, 'color': 877, 'scenery': 3810, 'hong': 2149, 'unbelievably': 4635, 'island': 2361, 'phantom': 3251, 'expensive': 1579, 'type': 4621, 'landscapes': 2514, 'paced': 3162, 'thoroughly': 4459, 'inner': 2292, 'vote': 4766, 'develop': 1222, 'soundtrack': 4085, 'combined': 885, 'intensity': 2317, 'typical': 4623, 'flick': 1754, 'lived': 2626, 'days': 1130, 'complex': 923, 'relationships': 3598, 'explored': 1595, 'quality': 3484, 'books': 536, 'bought': 552, 'commentary': 899, 'cousin': 1021, 'whos': 4876, 'younger': 4990, 'starting': 4158, 'discussion': 1284, 'chan': 746, 'four': 1812, 'san': 3780, 'francisco': 1819, 'perspective': 3245, 'essence': 1521, 'community': 908, 'chinese': 796, 'settings': 3901, 'voices': 4763, 'humble': 2191, 'taxi': 4371, 'restaurant': 3658, 'row': 3744, 'houses': 2180, 'feels': 1687, 'urban': 4688, 'harry': 2039, 'fancy': 1649, 'apparently': 270, 'harsh': 2040, 'closest': 857, 'buildings': 616, 'hills': 2109, 'pass': 3201, 'streets': 4217, 'potentially': 3356, 'closer': 856, 'photography': 3260, 'perfectly': 3226, 'speech': 4102, 'accent': 78, 'appears': 278, 'phone': 3255, 'listen': 2619, 'calls': 654, 'ya': 4976, 'poignant': 3315, 'political': 3324, 'ironic': 2355, 'suffice': 4279, 'quest': 3486, 'song': 4071, 'entirely': 1503, 'mark': 2739, 'prequel': 3372, 'imagined': 2239, 'moore': 2901, 'creator': 1043, 'twelve': 4611, 'steps': 4177, 'race': 3499, 'pilot': 3276, 'include': 2261, 'daniel': 1111, 'eric': 1514, 'genius': 1887, 'equally': 1510, 'lawyer': 2541, 'includes': 2263, 'experienced': 1581, 'walker': 4778, 'relatively': 3600, 'similarities': 3979, 'advanced': 128, 'achieved': 93, 'differences': 1247, 'religion': 3607, 'racial': 3501, 'rarely': 3524, 'touched': 4534, 'related': 3594, 'direct': 1258, 'extended': 1604, 'queen': 3485, 'victoria': 4732, 'britain': 588, '18': 10, 'learns': 2553, 'eventually': 1537, 'prince': 3396, 'faithful': 1634, 'adds': 119, 'knew': 2486, 'chosen': 805, 'united': 4664, 'hell': 2077, 'motives': 2916, 'intriguing': 2335, 'relative': 3599, 'moral': 2902, 'affected': 137, 'influenced': 2287, 'sorts': 4078, 'gotten': 1947, 'bet': 470, 'weeks': 4839, 'lazy': 2543, 'drug': 1373, 'miserable': 2863, 'lifestyle': 2593, 'motivations': 2915, 'tiresome': 4502, 'homeless': 2143, 'babe': 375, 'writers': 4969, 'hoped': 2156, 'talk': 4358, 'eddie': 1416, 'forgotten': 1797, 'childhood': 790, 'understanding': 4645, 'voice': 4761, 'brooks': 596, 'ellen': 1446, 'unfunny': 4655, 'bin': 483, 'happening': 2028, 'whoever': 4872, 'responsible': 3656, 'delivery': 1173, 'thrillers': 4473, 'suspend': 4329, 'certain': 737, 'levels': 2585, 'belief': 451, 'nonsense': 3030, 'fed': 1682, 'load': 2631, 'decided': 1149, 'create': 1036, 'piano': 3264, 'notes': 3046, 'necessarily': 2983, 'reading': 3544, 'utter': 4701, 'lack': 2502, 'fault': 1668, 'notch': 3043, 'agents': 151, 'deliver': 1169, 'department': 1182, 'mrs': 2930, 'disney': 1289, 'adult': 125, 'changed': 750, 'appeal': 271, 'gray': 1963, 'brown': 601, 'writer': 4968, 'letting': 2583, 'suit': 4284, 'appreciated': 280, 'entertain': 1497, 'mgm': 2828, 'contrived': 976, 'properly': 3437, 'pointed': 3317, 'tap': 4364, 'dancing': 1107, 'buddy': 609, 'sinatra': 3989, 'believed': 455, 'performs': 3234, 'virginia': 4750, 'providing': 3451, 'humor': 2192, 'dancers': 1105, 'companion': 909, 'within': 4912, 'skills': 4014, 'disjointed': 1287, 'rule': 3753, 'appropriate': 283, 'extremely': 1610, 'michelle': 2830, 'tony': 4521, 'terms': 4406, 'consistent': 953, 'hundreds': 2196, 'bollywood': 530, 'element': 1442, 'allowing': 191, 'resolution': 3649, 'open': 3112, 'portrays': 3344, 'steals': 4172, 'superficial': 4298, 'doc': 1303, 'savage': 3793, 'pulp': 3465, 'magazine': 2701, 'kenneth': 2455, 'heroic': 2090, 'adventure': 130, '30s': 44, 'five': 1743, 'allows': 192, 'kinda': 2477, 'ron': 3734, 'tarzan': 4367, 'theaters': 4428, 'treated': 4573, 'benefit': 465, 'corny': 997, 'dumb': 1385, 'arnold': 296, 'remake': 3612, 'laid': 2508, 'giallo': 1904, 'approach': 282, 'searching': 3842, 'psychiatrist': 3455, 'apparent': 269, 'search': 3841, 'individuals': 2278, 'scream': 3826, 'composed': 926, 'reminiscent': 3621, 'miles': 2843, 'silent': 3975, 'gives': 1914, 'sea': 3838, 'regard': 3588, 'devoid': 1230, 'burning': 627, 'disappoint': 1272, 'compelling': 916, 'inappropriate': 2259, 'dubbed': 1379, 'factor': 1622, 'throughout': 4478, 'heavily': 2069, 'sub': 4252, 'transfer': 4559, 'treatment': 4574, 'recent': 3566, 'fully': 1847, 'realized': 3553, 'texas': 4418, 'massacre': 2754, 'characterization': 759, 'creep': 1051, 'fails': 1628, 'area': 286, 'capturing': 679, 'overcome': 3151, 'context': 968, 'empty': 1465, 'setting': 3900, 'serve': 3893, 'intellectual': 2312, 'sadly': 3769, 'commercial': 902, 'blank': 501, 'cage': 645, 'forbidden': 1785, 'allow': 189, 'christopher': 811, 'captain': 674, 'burned': 626, 'sentence': 3881, 'bothered': 549, 'travel': 4567, 'officer': 3092, 'received': 3564, 'follows': 1775, 'court': 1020, 'martial': 2747, 'learn': 2550, 'besides': 468, 'risk': 3704, 'occurred': 3077, 'physical': 3262, 'becoming': 435, 'male': 2719, 'worlds': 4947, 'neat': 2982, '1933': 12, 'helen': 2075, 'scottish': 3825, 'locked': 2637, 'hyde': 2206, 'james': 2378, 'curtis': 1087, 'warren': 4801, 'remarkable': 3613, 'available': 361, 'mans': 2730, 'dies': 1245, 'alex': 179, 'spoil': 4121, 'kate': 2446, 'ashley': 313, 'able': 66, 'influence': 2286, 'below': 462, 'failure': 1629, 'images': 2235, 'distance': 1294, 'farce': 1654, 'mad': 2696, 'explosions': 1597, 'despair': 1207, 'hoping': 2160, 'hopefully': 2157, 'hits': 2125, 'changing': 752, 'betty': 474, 'page': 3167, 'pleasant': 3302, 'psycho': 3457, 'florida': 1761, 'introduced': 2337, 'result': 3660, 'chris': 806, 'harris': 2038, 'executed': 1565, 'material': 2766, 'folks': 1771, 'tight': 4492, 'reputation': 3640, 'virtually': 4751, 'existent': 1572, 'flaws': 1752, 'aside': 315, 'catching': 716, 'represents': 3639, 'loads': 2633, 'vehicle': 4718, 'dennis': 1179, 'hopper': 2161, 'mess': 2818, 'hasnt': 2044, 'opportunities': 3120, 'fits': 1741, 'navy': 2976, 'throw': 4479, 'chase': 769, 'brain': 562, 'candy': 668, 'unnecessary': 4672, 'lacks': 2505, 'raw': 3532, 'sharp': 3922, 'crap': 1031, 'expectations': 1576, 'pleasantly': 3303, 'surprised': 4313, 'richardson': 3688, 'stole': 4194, 'wonderfully': 4929, 'nightmare': 3014, 'elm': 1447, 'mediocre': 2791, 'dollars': 1315, 'grab': 1949, 'pregnant': 3369, 'dialogues': 1235, 'deaths': 1142, 'uninteresting': 4660, 'amateur': 206, 'theatre': 4429, 'lisa': 2616, 'shine': 3931, 'pity': 3281, 'close': 853, 'master': 2757, 'tries': 4585, 'imaginative': 2237, 'shots': 3950, 'craven': 1034, 'sequel': 3885, 'clown': 862, 'wanting': 4790, 'wes': 4851, 'guilty': 1995, 'bloody': 513, 'paper': 3183, 'breaking': 570, 'military': 2844, 'send': 3875, 'national': 2970, 'investigate': 2342, 'wayne': 4821, 'moves': 2925, 'minded': 2850, 'patient': 3211, 'depiction': 1185, 'conflict': 939, 'respect': 3652, 'reflection': 3585, 'greater': 1965, 'performed': 3230, 'striking': 4226, 'blend': 504, 'likewise': 2603, 'interaction': 2322, 'depicted': 1183, 'manner': 2729, 'figures': 1713, 'furthermore': 1854, 'powerful': 3360, 'rising': 3703, 'newly': 3004, 'ocean': 3079, 'passing': 3204, 'ships': 3935, 'water': 4816, 'continue': 969, 'summary': 4290, 'century': 736, 'treat': 4572, 'insight': 2298, 'ancient': 225, 'merits': 2817, 'accents': 79, 'stand': 4143, 'billy': 482, 'annoying': 249, 'earl': 1398, 'wrap': 4963, 'someones': 4065, 'worn': 4948, 'stretch': 4221, 'realize': 3552, 'began': 441, 'extraordinary': 1607, 'elegant': 1441, 'further': 1853, 'stands': 4147, 'convincingly': 986, 'reflect': 3584, 'doubts': 1333, 'alive': 186, 'extra': 1606, 'bonus': 534, '1980': 20, 'producers': 3416, 'bold': 528, 'avoided': 364, 'involve': 2345, 'creators': 1044, 'niro': 3019, 'gorgeous': 1942, 'energy': 1478, 'claire': 831, 'danes': 1108, 'outstanding': 3147, 'neil': 2995, 'universe': 4666, 'pre': 3365, 'screening': 3830, 'official': 3094, 'success': 4265, 'tense': 4403, 'tender': 4401, '2007': 37, 'peace': 3219, 'remembered': 3617, 'vacation': 4704, 'research': 3644, 'barbara': 397, 'stanwyck': 4149, 'reviews': 3679, 'scare': 3803, 'excited': 1561, '13': 4, 'rented': 3628, 'holiday': 2134, 'cg': 739, 'encounter': 1466, 'disappointment': 1275, 'spirit': 4113, 'scrooge': 3837, 'circumstances': 822, 'refreshing': 3586, 'tiny': 4500, 'tim': 4494, 'mysterious': 2955, 'editing': 1421, 'recorded': 3574, 'recording': 3575, 'comment': 898, 'capital': 673, 'directions': 1262, 'talks': 4361, 'blue': 518, 'crying': 1074, 'loud': 2664, 'journey': 2421, 'ray': 3533, 'epic': 1506, 'appealing': 272, 'repeat': 3630, 'precious': 3366, 'trash': 4565, 'entertainment': 1500, 'toys': 4543, 'mouth': 2920, '90': 60, 'dare': 1113, 'max': 2774, 'theyd': 4443, 'nancy': 2964, 'clues': 865, 'fashioned': 1660, 'emma': 1457, 'spooky': 4128, 'chases': 771, 'worthy': 4956, 'inept': 2281, 'incoherent': 2265, 'student': 4238, 'constant': 957, 'claims': 830, 'boyfriend': 558, 'sean': 3840, 'importance': 2246, 'value': 4709, 'scares': 3806, 'steve': 4181, 'carpenter': 694, 'conclusion': 936, 'introduction': 2339, 'anna': 245, 'garbo': 1871, 'primarily': 3393, 'closely': 855, 'productions': 3420, 'analysis': 224, 'scripts': 3836, 'presented': 3376, 'absence': 70, 'curiosity': 1082, 'genuine': 1891, 'cares': 690, 'therefore': 4439, 'issue': 2364, 'captivating': 675, 'marie': 2737, 'todays': 4509, 'test': 4416, 'claim': 828, 'questionable': 3488, 'carries': 699, 'shall': 3916, 'matt': 2768, 'vs': 4767, 'meeting': 2794, 'magnificent': 2705, 'facial': 1619, 'expressions': 1603, 'flawless': 1751, 'calm': 655, 'alcoholic': 177, 'accurate': 90, 'suffers': 4278, 'werewolf': 4850, 'legend': 2564, 'accused': 91, 'travels': 4569, 'countryside': 1015, 'raped': 3522, 'thugs': 4484, 'latest': 2526, 'seeks': 3860, 'synopsis': 4344, 'catches': 715, 'legs': 2566, 'flashback': 1746, 'creature': 1045, 'ms': 2931, 'merely': 2815, '1970s': 17, 'skin': 4015, 'beat': 423, 'nude': 3058, 'fair': 1630, 'amount': 219, 'gratuitous': 1961, 'howard': 2182, 'players': 3299, 'audiences': 353, 'walter': 4784, 'nose': 3037, 'remains': 3611, 'unsettling': 4679, 'plague': 3285, 'widmark': 4882, 'douglas': 1334, 'menace': 2806, 'domestic': 1318, 'fox': 1814, 'product': 3418, 'aspect': 321, 'health': 2060, 'performer': 3231, 'pushed': 3478, 'eg': 1434, 'cops': 993, 'air': 164, 'potential': 3355, 'hall': 2009, 'hands': 2020, 'coffee': 870, 'staged': 4140, 'riveting': 3708, 'suppose': 4305, 'kelly': 2452, 'fabulous': 1615, 'complaint': 920, 'basic': 406, 'opera': 3116, 'louis': 2665, 'included': 2262, 'smiling': 4037, 'highlights': 2104, 'flash': 1745, 'blind': 506, 'walking': 4779, 'edge': 1418, 'cliff': 847, 'subtitles': 4259, 'sight': 3969, 'translation': 4562, 'catholic': 720, 'mass': 2753, '35': 45, 'kick': 2460, 'standard': 4144, 'sexuality': 3909, 'nasty': 2968, 'ugly': 4625, 'offensive': 3086, 'education': 1424, 'teachers': 4376, '50s': 52, 'forced': 1787, 'heads': 2059, 'essential': 1522, 'degree': 1164, 'lousy': 2667, 'rotten': 3740, 'badly': 383, 'trust': 4598, 'taught': 4370, 'tame': 4363, 'rated': 3527, 'pg': 3250, 'roger': 3724, '1984': 23, 'wannabe': 4787, 'problems': 3409, 'blame': 499, 'simon': 3982, 'harvey': 2042, 'dig': 1250, 'floating': 1758, 'thinks': 4454, 'sees': 3866, 'secret': 3849, 'california': 650, 'der': 1191, 'hop': 2154, 'meanwhile': 2785, 'company': 910, 'eager': 1396, 'sell': 3871, 'scheme': 3812, 'gradually': 1952, 'junk': 2436, 'reads': 3545, 'exception': 1557, 'tend': 4400, 'importantly': 2248, 'design': 1202, '1980s': 21, 'details': 1219, 'dude': 1381, 'jon': 2416, 'frequently': 1832, 'carol': 693, 'clark': 832, 'dave': 1123, 'pushing': 3479, 'chaos': 755, 'impact': 2244, 'road': 3709, 'logical': 2639, 'edited': 1420, 'monster': 2892, 'threatening': 4468, 'admittedly': 123, 'spoof': 4127, 'countless': 1012, 'wake': 4774, 'bland': 500, 'remaining': 3610, 'consists': 955, 'timing': 4498, 'frightening': 1839, 'suspenseful': 4331, 'outer': 3143, 'equivalent': 1512, 'border': 539, 'wild': 4885, 'nicholson': 3011, 'offers': 3090, 'possibilities': 3348, 'surface': 4310, 'opportunity': 3121, 'station': 4164, 'preview': 3386, 'featured': 1679, 'trailers': 4555, 'continuity': 972, 'holding': 2130, 'absurd': 73, 'clumsy': 866, 'melodrama': 2797, 'wasting': 4810, 'forgettable': 1794, 'eva': 1531, 'bell': 458, 'tie': 4488, 'wedding': 4836, 'fetched': 1698, 'lion': 2614, 'born': 544, 'underground': 4640, 'hide': 2097, 'centered': 733, 'uncle': 4636, 'suggested': 4281, 'bigger': 479, 'met': 2822, 'continued': 970, 'join': 2412, 'arrive': 300, 'honor': 2150, 'passed': 3202, 'cover': 1022, 'trees': 4577, 'learned': 2551, 'wing': 4896, 'teach': 4374, 'arts': 310, 'contest': 967, 'shed': 3924, 'break': 569, 'chose': 804, 'hole': 2132, 'trap': 4563, 'worked': 4941, 'mickey': 2831, 'mouse': 2919, 'donald': 1321, 'seven': 3903, 'march': 2734, 'matthew': 2772, 'goldberg': 1933, 'jerry': 2396, 'stiller': 4189, 'iii': 2227, 'hence': 2083, 'martin': 2748, 'grasp': 1960, 'entertained': 1498, 'tears': 4380, 'dragged': 1343, 'dan': 1102, 'shame': 3918, 'associated': 327, 'excuse': 1564, 'service': 3896, 'surely': 4309, 'rolling': 3730, 'grave': 1962, 'threw': 4470, 'jumping': 2431, 'jump': 2429, 'track': 4544, 'ruined': 3751, 'credit': 1049, 'fbi': 1675, 'packed': 3166, 'thrilling': 4474, 'drawn': 1351, 'propaganda': 3435, 'minds': 2852, 'brave': 567, 'bodies': 526, 'arguably': 289, 'ideal': 2214, 'impressed': 2251, 'technically': 4382, 'values': 4710, 'overrated': 3156, 'musicals': 2948, 'reasonable': 3558, 'st': 4137, 'weak': 4824, 'african': 142, 'category': 718, 'screenplay': 3831, 'speak': 4094, 'driven': 1365, 'marvelous': 2750, 'vivid': 4760, 'semi': 3874, 'sons': 4073, 'fathers': 1667, 'specifically': 4100, 'westerns': 4854, 'ben': 463, 'ass': 323, 'funnier': 1850, 'social': 4049, 'fights': 1710, 'dawson': 1128, 'criminal': 1057, 'uses': 4697, 'descent': 1193, 'resort': 3650, 'directorial': 1265, 'prove': 3445, 'larry': 2520, 'anthony': 253, 'cable': 644, 'core': 995, 'porn': 3336, 'serial': 3889, 'indian': 2274, 'jeff': 2390, 'nurse': 3063, 'positive': 3346, 'fulci': 1845, 'splatter': 4118, 'amongst': 218, 'par': 3184, 'italian': 2367, 'neither': 2996, 'gory': 1943, 'majority': 2712, 'thus': 4486, 'lacking': 2504, 'major': 2711, 'areas': 287, 'focuses': 1768, 'stomach': 4196, 'ghost': 1902, 'trapped': 4564, 'blatant': 502, 'desperately': 1209, 'moved': 2922, 'extent': 1605, 'continues': 971, 'stones': 4198, 'trade': 4547, 'attack': 337, 'visible': 4753, 'nonetheless': 3029, 'managed': 2723, 'delivers': 1172, 'diamond': 1236, 'quote': 3496, 'ah': 158, 'americans': 214, 'comparison': 914, 'industry': 2280, 'cultural': 1078, '3000': 43, 'atrocious': 335, 'committed': 905, 'iraq': 2351, 'daily': 1097, 'suffer': 4275, 'lesser': 2576, 'africa': 141, 'saying': 3800, 'newspaper': 3006, 'angela': 232, 'andrews': 229, 'magical': 2704, 'gifted': 1907, 'cameos': 658, 'sam': 3777, 'believing': 457, 'cliché': 844, 'attacked': 338, 'tribute': 4581, 'turkey': 4604, 'dying': 1393, 'heights': 2073, 'johnny': 2410, 'sides': 3967, 'bite': 489, 'finger': 1731, 'dutch': 1389, 'plane': 3288, 'picks': 3268, 'photographed': 3258, 'normally': 3034, 'grew': 1972, 'adults': 126, 'jumps': 2432, 'explains': 1589, 'inventive': 2341, 'fare': 1655, 'genuinely': 1892, 'sum': 4289, 'gags': 1862, 'meaningful': 2781, 'connection': 946, 'quirky': 3493, 'sympathy': 4343, 'vengeance': 4719, 'showcase': 3954, 'confidence': 938, 'security': 3854, 'measure': 2786, 'generous': 1886, 'snl': 4044, 'wanna': 4786, 'hiding': 2099, 'watches': 4814, 'per': 3223, 'lies': 2591, 'blockbuster': 509, 'thrills': 4475, 'pretend': 3381, 'documentaries': 1306, 'irish': 2353, 'kim': 2475, 'aimed': 162, 'oil': 3097, 'state': 4160, 'private': 3404, 'wished': 4905, 'fourth': 1813, 'sucked': 4270, 'foreign': 1790, 'portraying': 3343, 'popularity': 3334, 'proved': 3446, 'educational': 1425, 'distribution': 1298, 'root': 3737, 'thousands': 4466, 'copies': 992, 'study': 4242, 'nervous': 2999, 'media': 2789, 'broke': 593, 'six': 4010, 'news': 3005, 'board': 522, 'cia': 814, 'held': 2074, 'message': 2819, '14': 6, 'rose': 3739, 'deals': 1137, 'bitter': 491, 'bobby': 525, 'stan': 4142, 'et': 1526, 'al': 170, 'satisfied': 3789, 'chances': 748, 'extreme': 1609, 'womans': 4922, 'spoiled': 4122, 'con': 928, 'challenging': 744, 'hand': 2015, 'sports': 4130, 'allowed': 190, 'cagney': 646, 'screaming': 3827, 'unhappy': 4656, 'winds': 4895, 'anywhere': 263, 'decades': 1145, 'royal': 3746, 'versus': 4722, 'mexico': 2827, 'businessman': 634, 'theyve': 4446, 'tear': 4379, 'needless': 2989, 'inevitably': 2283, 'existed': 1570, 'opposite': 3123, 'opens': 3115, 'hint': 2112, 'deeper': 1155, 'established': 1524, 'persona': 3239, 'faced': 1617, 'financial': 1725, 'ruin': 3750, 'chemistry': 782, 'introduces': 2338, 'gun': 1996, 'notable': 3041, 'instance': 2304, 'scope': 3821, 'unlikely': 4671, 'places': 3284, 'unfolds': 4651, 'single': 3996, 'cameras': 660, 'content': 966, 'rough': 3741, 'proper': 3436, 'editor': 1423, 'south': 4087, 'hbo': 2055, 'favorites': 1672, 'eve': 1532, 'brothers': 599, 'deserve': 1199, 'greatly': 1967, 'dressed': 1358, 'santa': 3783, 'escapes': 1519, 'lessons': 2578, '1972': 18, 'glenn': 1918, 'acceptable': 81, 'studios': 4241, 'spend': 4105, 'granted': 1957, 'solve': 4060, 'charisma': 762, 'jane': 2380, 'fonda': 1777, 'closet': 858, 'pat': 3208, 'union': 4661, 'intentionally': 2320, 'attitude': 346, 'prom': 3429, 'elsewhere': 1449, 'wendy': 4846, 'channels': 754, 'possessed': 3347, 'wicked': 4879, 'desperate': 1208, 'saturday': 3792, 'handsome': 2021, 'pulled': 3462, 'larger': 2519, 'draws': 1352, 'club': 863, 'useful': 4694, 'followed': 1773, 'catherine': 719, 'artist': 307, 'alright': 198, 'competent': 917, 'anyways': 262, 'lesbian': 2573, 'sandra': 3782, 'destroying': 1215, 'evening': 1534, 'ludicrous': 2685, 'disappointing': 1274, 'status': 4165, 'negative': 2991, '40s': 49, 'confusion': 943, 'relate': 3593, 'broken': 594, 'heroes': 2089, 'everybody': 1540, 'loser': 2655, 'creates': 1038, 'clothes': 860, 'listed': 2618, 'inspector': 2299, 'aged': 149, 'reviewers': 3678, 'england': 1482, '20th': 38, 'india': 2273, 'indians': 2275, 'clichéd': 845, 'narrative': 2966, 'dimensional': 1253, 'eyed': 1612, 'mel': 2796, 'tracks': 4545, 'west': 4852, 'considered': 951, 'traditional': 4550, 'reminds': 3620, 'ireland': 2352, 'impress': 2250, 'fail': 1625, 'succeeds': 4264, 'rob': 3710, 'subjects': 4254, 'spoke': 4125, 'aliens': 184, 'mountains': 2918, 'busy': 635, 'learning': 2552, 'pulls': 3464, 'sadistic': 3768, 'chief': 788, 'overacting': 3149, 'pet': 3246, 'fallen': 1638, 'obnoxious': 3067, 'stolen': 4195, 'slapstick': 4019, 'colors': 879, 'strangely': 4212, 'till': 4493, 'holy': 2140, 'window': 4894, 'joe': 2407, 'suck': 4269, 'jobs': 2406, 'warned': 4798, 'murdered': 2940, 'asking': 318, 'seasons': 3844, 'miscast': 2862, 'twilight': 4614, 'devoted': 1231, 'wandering': 4785, 'spare': 4093, 'ties': 4490, 'endless': 1473, 'purple': 3473, 'execution': 1566, 'disaster': 1276, 'definition': 1163, 'pack': 3165, 'pitt': 3280, 'nick': 3012, 'handle': 2018, 'deliberately': 1166, 'substance': 4258, 'worthless': 4954, 'stunts': 4246, 'artificial': 306, 'uneven': 4649, 'tedious': 4387, 'franchise': 1817, 'bakshi': 386, 'technique': 4383, 'humans': 2190, 'hideous': 2098, 'roy': 3745, 'favourite': 1673, 'recommended': 3572, 'plastic': 3294, 'toy': 4542, 'orange': 3125, 'headed': 2058, 'stiff': 4187, 'dust': 1388, 'ethan': 1528, '70': 55, 'sophisticated': 4075, 'building': 615, 'dollar': 1314, 'noise': 3024, 'midnight': 2834, 'polanski': 3321, 'paranoia': 3186, 'vicious': 4728, 'agree': 155, 'occasional': 3074, 'remarks': 3615, 'obscure': 3068, 'reference': 3582, 'significant': 3972, 'picking': 3267, 'daddy': 1096, 'closed': 854, 'gross': 1978, 'disgusting': 1286, 'possibility': 3349, 'selfish': 3870, 'caring': 691, 'robbins': 3712, 'pearl': 3220, 'adapted': 114, 'size': 4012, 'huh': 2187, 'sent': 3880, 'admire': 121, 'irritating': 2359, 'designed': 1203, 'alas': 172, 'mentioned': 2811, 'stupidity': 4248, 'limited': 2606, 'appreciation': 281, 'mention': 2810, 'hook': 2152, 'priceless': 3390, 'severe': 3906, 'win': 4892, 'academy': 77, 'household': 2179, 'brenda': 575, 'multiple': 2936, 'brilliantly': 584, 'hugh': 2186, 'silence': 3974, 'neck': 2985, 'conservative': 948, 'contrary': 974, 'folk': 1770, 'poetry': 3314, 'marketing': 2741, 'frame': 1815, 'brutally': 604, 'mere': 2814, 'relation': 3595, 'muslim': 2949, 'facts': 1624, 'boredom': 542, 'iran': 2350, 'hatred': 2049, 'punishment': 3467, 'sole': 4055, 'ignored': 2225, 'harder': 2035, 'coherent': 871, 'snake': 4042, 'forms': 1801, 'rooms': 3736, 'elderly': 1440, 'wolf': 4920, 'armed': 293, 'guns': 1998, 'bullets': 621, 'spiritual': 4116, 'leader': 2546, 'pseudo': 3454, 'religious': 3608, 'rental': 3627, 'imagination': 2236, 'laughter': 2535, 'ticket': 4487, 'stone': 4197, 'commercials': 903, 'lie': 2590, 'bo': 521, 'greek': 1970, 'waters': 4817, 'abysmal': 76, 'jerk': 2395, 'reaching': 3539, 'ability': 65, 'ann': 244, 'thank': 4421, 'oliver': 3102, 'presents': 3377, 'latin': 2527, 'questions': 3489, 'teenagers': 4391, 'donna': 1323, 'revolves': 3682, 'treats': 4575, 'jackie': 2374, 'improved': 2255, 'gang': 1867, 'teen': 4388, 'fitting': 1742, 'beatty': 427, 'saves': 3796, 'unusual': 4681, 'belong': 459, 'madonna': 2699, 'pacino': 3164, 'hoffman': 2128, 'grand': 1953, 'bang': 393, 'thief': 4448, 'starred': 4153, 'justin': 2440, 'princess': 3397, 'sinister': 3998, 'rex': 3683, 'adventures': 131, 'bottle': 550, 'lawrence': 2539, 'butler': 637, 'central': 735, 'eight': 1436, 'appearances': 275, 'backdrop': 379, 'hippie': 2115, 'movements': 2924, 'challenge': 743, 'false': 1641, 'mature': 2773, 'throws': 4482, 'blown': 516, 'handed': 2016, 'displayed': 1292, 'revolution': 3680, 'hates': 2048, 'freedom': 1828, 'effectively': 1430, 'solo': 4058, 'university': 4667, 'shoots': 3944, 'nearby': 2980, 'flies': 1756, 'cities': 823, 'garden': 1872, 'tree': 4576, 'blowing': 515, 'walls': 4783, 'basically': 407, 'artists': 309, 'warn': 4797, 'achieve': 92, 'tends': 4402, 'network': 3000, 'notion': 3050, 'flight': 1757, 'masters': 2761, 'destroyed': 1214, 'offering': 3089, 'solution': 4059, 'bound': 553, 'glory': 1922, 'slave': 4022, 'creativity': 1042, 'waves': 4819, 'nazi': 2977, 'whilst': 4869, 'kubrick': 2496, 'painting': 3175, 'arthur': 305, 'nomination': 3026, 'gangster': 1868, 'linda': 2609, 'waitress': 4773, 'lights': 2597, 'acid': 95, 'demented': 1176, 'grandmother': 1955, 'instant': 2305, 'porno': 3337, 'hardcore': 2034, 'uninspired': 4657, 'daughters': 1122, 'awake': 365, 'ghosts': 1903, 'complain': 919, 'trip': 4588, 'heaven': 2068, 'filmmaker': 1719, 'weakest': 4825, 'link': 2613, 'rat': 3525, 'faith': 1633, 'testament': 4417, 'text': 4419, 'christian': 808, 'treasure': 4571, 'wealth': 4826, 'aforementioned': 139, 'spin': 4112, 'checking': 778, 'shy': 3962, 'historical': 2119, 'depicting': 1184, 'slaughter': 4021, 'gruesome': 1986, 'prevent': 3385, 'knowledge': 2491, 'terry': 4415, 'adams': 112, 'brazil': 568, 'explore': 1594, 'cube': 1076, 'favor': 1670, 'stayed': 4167, 'focused': 1767, 'clint': 850, 'wed': 4835, 'ironically': 2356, 'location': 2635, 'river': 3707, 'icon': 2211, 'defeat': 1157, 'weapons': 4829, '40': 48, 'costume': 1005, 'ninja': 3018, 'tall': 4362, 'freak': 1824, 'bat': 410, 'wow': 4962, 'forgot': 1796, 'combination': 883, 'save': 3794, 'demon': 1177, 'segment': 3867, 'imagery': 2234, 'smooth': 4041, 'denzel': 1181, 'washington': 4806, 'walken': 4777, 'mitchell': 2875, 'kidnapped': 2466, 'criminals': 1058, 'actresses': 106, 'user': 4696, 'commented': 900, 'germans': 1897, 'covered': 1023, 'eerie': 1427, 'bible': 477, 'christians': 809, 'carrying': 701, 'relatives': 3601, 'disappeared': 1271, 'yelling': 4980, 'foster': 1809, 'pile': 3275, 'distracting': 1297, 'brad': 560, 'christ': 807, 'older': 3101, 'medium': 2792, 'signs': 3973, 'agent': 150, 'farm': 1656, 'reynolds': 3684, 'inferior': 2285, 'theatrical': 4430, 'halfway': 2008, 'refuses': 3587, 'accept': 80, 'arms': 294, 'displays': 1293, 'developing': 1224, 'warmth': 4796, 'remain': 3609, 'immensely': 2243, 'glorious': 1921, 'singers': 3994, 'lily': 2605, 'grace': 1950, 'charismatic': 763, 'rocks': 3722, 'web': 4833, 'accompanied': 86, 'fred': 1825, 'teeth': 4393, 'bare': 398, 'narration': 2965, 'struggles': 4235, 'express': 1600, 'understandable': 4644, 'creation': 1040, 'presentation': 3375, 'breaks': 571, 'canadian': 667, 'expression': 1602, 'beliefs': 452, 'darker': 1116, 'asked': 317, 'diane': 1238, 'keaton': 2448, 'exaggerated': 1552, 'disagree': 1269, 'teacher': 4375, 'schools': 3814, 'perform': 3227, 'parody': 3192, 'relations': 3596, 'massive': 2756, 'survived': 4322, 'berlin': 467, 'handled': 2019, 'nazis': 2978, 'obsession': 3070, 'manipulative': 2727, 'disbelief': 1277, 'rachel': 3500, 'terribly': 4408, 'passionate': 3206, 'record': 3573, 'messages': 2820, 'revealed': 3671, 'exact': 1550, 'twins': 4616, 'lesson': 2577, 'contain': 962, 'ape': 266, 'merit': 2816, 'childrens': 793, 'surrounded': 4318, 'spring': 4134, 'engaged': 1480, 'proof': 3434, 'claimed': 829, 'temple': 4398, 'east': 1407, 'paying': 3217, 'storm': 4206, 'conspiracy': 956, 'renting': 3629, 'fond': 1776, 'provide': 3448, 'sixties': 4011, 'fresh': 1833, 'tons': 4520, 'parallel': 3185, 'agreed': 156, 'australia': 356, 'discovery': 1282, 'crocodile': 1065, 'redeeming': 3577, 'hunter': 2199, 'intrigue': 2333, 'artistic': 308, 'outrageous': 3145, 'warning': 4800, 'interpretation': 2328, 'ignorant': 2223, 'sappy': 3784, 'rings': 3699, 'resulting': 3661, 'site': 4005, 'dialogs': 1233, 'useless': 4695, 'damon': 1101, 'dolls': 1316, 'seemingly': 3863, 'jean': 2389, 'simmons': 3981, 'bears': 421, 'resemblance': 3645, 'roman': 3731, 'brando': 566, 'oscars': 3134, 'tonight': 4519, 'boat': 523, 'leonard': 2572, 'gangsters': 1869, 'bright': 581, '1960s': 15, 'attitudes': 347, 'gender': 1878, 'gentle': 1890, 'kidding': 2465, 'disneys': 1290, 'saved': 3795, 'cinderella': 815, 'fairy': 1632, 'birds': 485, 'pink': 3277, 'hilariously': 2107, 'arrogant': 303, 'personality': 3242, 'agrees': 157, 'kings': 2481, 'glass': 1917, 'drinking': 1362, 'sisters': 4002, 'drink': 1361, 'results': 3662, 'report': 3635, 'faults': 1669, 'hype': 2207, 'disease': 1285, 'unfortunate': 4653, 'souls': 4080, 'bus': 631, 'carl': 692, 'woods': 4935, 'corrupt': 1001, 'henry': 2084, 'explanation': 1590, 'witnesses': 4916, 'beaten': 424, 'stereotypical': 4180, 'highlight': 2103, 'loyal': 2679, 'remotely': 3623, 'judging': 2425, 'advise': 134, 'integrity': 2311, 'forest': 1791, 'vietnam': 4735, 'throat': 4476, 'hanging': 2023, 'tired': 4501, 'portray': 3340, 'disturbed': 1299, 'credibility': 1047, 'safety': 3772, 'discovers': 1281, 'obsessed': 3069, 'conflicts': 940, 'brutal': 603, 'worried': 4949, 'limits': 2607, 'push': 3477, 'destruction': 1216, 'hurt': 2202, 'dropped': 1370, 'uncomfortable': 4637, 'firstly': 1737, 'typically': 4624, 'settle': 3902, 'passes': 3203, 'surfing': 4311, 'criticism': 1063, 'friday': 1834, '13th': 5, 'rendition': 3625, 'requires': 3642, 'pamela': 3179, 'fake': 1635, 'superman': 4301, 'tad': 4347, 'desired': 1206, 'wouldve': 4959, 'stooges': 4200, 'decide': 1148, 'mistakes': 2873, 'sing': 3992, 'crowd': 1067, 'lips': 2615, 'mainstream': 2709, 'wear': 4830, 'wet': 4855, 'primary': 3394, 'target': 4366, 'novels': 3053, 'cannibal': 669, 'native': 2972, 'photos': 3261, 'mighty': 2836, 'alike': 185, 'flesh': 1753, 'corpse': 999, 'versions': 4721, '1950s': 14, 'zombie': 4997, 'landscape': 2513, 'torn': 4528, 'familys': 1646, 'robinson': 3716, 'pair': 3176, 'rival': 3706, 'aid': 160, 'routine': 3743, 'wit': 4908, 'carrie': 697, 'anne': 246, 'ages': 152, 'twisted': 4618, 'subplots': 4256, 'jay': 2386, 'discovered': 1280, 'narrator': 2967, 'cake': 648, 'ned': 2986, 'trio': 4587, 'chuck': 812, 'plus': 3311, 'delight': 1167, 'aids': 161, 'pie': 3271, 'rushed': 3760, 'monkey': 2890, 'implausible': 2245, 'plausible': 3295, 'lasted': 2522, 'base': 402, 'canada': 666, 'presumably': 3380, 'global': 1920, 'assume': 328, 'sold': 4052, 'fate': 1665, 'holly': 2136, 'horrifying': 2167, 'personalities': 3241, 'jenny': 2393, 'poetic': 3313, 'witness': 4914, 'kiss': 2483, 'juvenile': 2441, 'ridiculously': 3694, 'rabbit': 3498, 'imitation': 2241, 'hospital': 2172, 'doctors': 1305, 'quit': 3494, 'fish': 1738, 'annoyed': 248, '2nd': 41, 'strip': 4228, 'stick': 4185, 'damage': 1099, 'masterful': 2758, 'beating': 425, 'officers': 3093, 'machines': 2694, 'forces': 1788, 'enemy': 1477, 'served': 3894, 'examples': 1554, 'ice': 2210, 'backgrounds': 381, 'sid': 3964, 'idiotic': 2219, 'winter': 4900, 'legal': 2563, 'pursuit': 3476, 'murders': 2943, 'assigned': 325, 'dozens': 1339, 'consistently': 954, 'lab': 2501, 'gay': 1876, 'albeit': 173, 'growing': 1983, 'involvement': 2347, 'killings': 2473, 'soviet': 4089, 'jeffrey': 2391, 'von': 4765, 'investigation': 2343, 'citizen': 824, 'masses': 2755, 'resident': 3647, 'virus': 4752, 'morris': 2908, 'lying': 2690, 'hold': 2129, 'source': 4086, 'wooden': 4934, 'boxing': 556, 'stale': 4141, 'ward': 4793, 'sullivan': 4288, 'lemmon': 2567, 'matthau': 2771, 'felix': 1689, 'vice': 4727, 'cases': 708, 'sloppy': 4030, 'lifetime': 2594, 'divorce': 1301, 'helped': 2080, 'mildly': 2840, 'toilet': 4512, 'equal': 1509, 'price': 3389, 'judge': 2424, 'feminist': 1695, 'resist': 3648, 'fury': 1855, 'worker': 4942, 'returning': 3667, 'knife': 2487, 'bath': 411, 'invisible': 2344, 'concerning': 933, 'contrast': 975, 'ho': 2127, 'seat': 3845, 'everywhere': 1545, 'removed': 3624, 'shock': 3938, '60': 53, 'irony': 2357, 'event': 1535, 'ears': 1402, 'dozen': 1338, 'jennifer': 2392, 'burt': 629, 'trashy': 4566, 'critics': 1064, 'painted': 3174, 'abuse': 74, '1999': 27, 'topless': 4527, 'dancer': 1104, 'rain': 3506, 'generation': 1883, 'concert': 935, '17': 9, 'rank': 3518, 'delivered': 1170, 'rogers': 3725, 'nelson': 2997, 'opened': 3113, 'producing': 3417, '25': 40, 'lord': 2652, 'naked': 2959, 'bathroom': 412, 'priest': 3392, 'segments': 3868, 'conventional': 979, 'landing': 2512, 'misses': 2868, 'cynical': 1093, 'ring': 3698, 'chorus': 803, 'album': 175, 'separate': 3883, 'touches': 4535, 'dating': 1120, 'spike': 4111, 'lees': 2560, 'spy': 4135, 'directs': 1267, 'domino': 1319, 'definite': 1161, 'swimming': 4338, 'bear': 420, 'protect': 3443, 'thick': 4447, 'training': 4558, 'brand': 565, 'frustrated': 1842, 'bullet': 620, 'answers': 252, 'placed': 3283, 'loaded': 2632, 'relevant': 3604, 'round': 3742, 'workers': 4943, 'mill': 2845, 'suited': 4286, 'parties': 3196, 'progress': 3425, 'knock': 2488, 'nuts': 3064, 'alert': 178, 'hunting': 2201, 'standing': 4146, 'butt': 638, 'theory': 4437, 'movement': 2923, 'resembles': 3646, 'acts': 107, 'cuba': 1075, 'jr': 2423, 'reporter': 3636, 'surrounding': 4319, 'loose': 2650, 'museum': 2945, 'terror': 4412, 'thrill': 4471, 'thousand': 4465, 'rise': 3702, 'hundred': 2195, 'unwatchable': 4682, 'hunters': 2200, 'cowboy': 1025, 'cuts': 1091, 'videos': 4734, 'mtv': 2933, 'dracula': 1341, 'carter': 703, 'helping': 2081, 'homage': 2141, 'ran': 3513, 'twin': 4615, 'tragic': 4552, 'happily': 2030, 'proceeds': 3411, 'ginger': 1908, 'rap': 3520, 'path': 3209, 'hints': 2113, 'revelation': 3674, 'slick': 4026, 'buff': 611, 'raising': 3509, 'hitler': 2124, 'mixture': 2878, 'fighter': 1708, 'coach': 868, 'finding': 1727, 'hooked': 2153, 'mini': 2854, 'pot': 3354, 'mayor': 2777, 'antics': 255, 'chasing': 772, 'connected': 945, 'installment': 2303, 'matrix': 2767, 'ego': 1435, 'ha': 2002, 'paint': 3173, 'dry': 1377, 'throwing': 4480, 'basement': 405, 'innocence': 2293, 'sutherland': 4333, 'subplot': 4255, '24': 39, 'online': 3109, 'watchable': 4812, 'abc': 63, 'switch': 4339, 'gain': 1863, 'flow': 1762, 'omen': 3104, 'trilogy': 4586, 'disc': 1278, 'stronger': 4230, 'quotes': 3497, 'cary': 706, 'pit': 3278, 'macy': 2695, 'rape': 3521, 'mario': 2738, 'tales': 4357, 'operation': 3117, 'table': 4346, 'decision': 1151, 'dire': 1257, 'extras': 1608, 'props': 3439, 'banned': 395, 'suspect': 4327, 'originality': 3130, 'karen': 2444, 'builds': 617, 'ruins': 3752, 'pleased': 3305, 'spots': 4132, 'provoking': 3452, 'disappear': 1270, 'fifteen': 1706, 'controversial': 978, 'emily': 1456, 'ignore': 2224, 'practically': 3362, 'strongly': 4231, 'graphics': 1959, 'efforts': 1433, 'cd': 728, 'reaction': 3541, 'monkeys': 2891, 'proceedings': 3410, 'flaw': 1749, 'kung': 2498, 'fu': 1844, 'jumped': 2430, 'comedian': 887, 'racist': 3503, 'sheriff': 3929, 'visit': 4755, 'mob': 2879, 'branagh': 564, 'steel': 4173, 'unpleasant': 4674, 'homosexual': 2145, 'slight': 4027, 'patients': 3212, 'worry': 4950, 'process': 3412, 'inane': 2258, 'ball': 388, 'fest': 1696, 'colour': 880, 'remote': 3622, 'arrival': 299, 'wilson': 4891, 'neighborhood': 2993, 'returned': 3666, 'grandfather': 1954, 'airport': 167, 'enters': 1496, 'lol': 2640, 'mistaken': 2872, 'lively': 2627, 'soap': 4047, 'receives': 3565, 'tea': 4373, 'retarded': 3663, 'fortune': 1806, 'succeeded': 4263, 'trial': 4580, 'eat': 1411, 'argument': 291, 'streep': 4215, 'strength': 4219, 'baker': 385, 'shocking': 3940, 'simplicity': 3984, 'australian': 357, 'determined': 1221, 'alongside': 196, '1996': 26, 'survivors': 4325, 'statement': 4162, 'teens': 4392, 'freeman': 1829, 'involves': 2348, 'journalist': 2420, 'matches': 2764, 'virgin': 4749, 'embarrassed': 1453, 'ear': 1397, 'dinner': 1254, 'rolled': 3729, 'valley': 4707, 'strikes': 4225, 'rescue': 3643, 'chapter': 757, 'racism': 3502, 'rural': 3758, 'southern': 4088, 'reed': 3580, 'louise': 2666, 'sounding': 4083, 'corruption': 1002, 'gritty': 1977, 'regardless': 3590, 'mann': 2728, 'dean': 1139, 'stays': 4169, 'prepared': 3371, 'lucy': 2684, 'whereas': 4865, 'pretending': 3382, 'ken': 2453, 'wind': 4893, 'montana': 2895, 'irrelevant': 2358, 'intrigued': 2334, 'civilization': 827, 'realizing': 3555, 'drops': 1372, 'prime': 3395, 'isolated': 2363, 'cheating': 776, 'clothing': 861, 'stated': 4161, 'sits': 4006, 'mansion': 2731, 'purely': 3472, 'horrendous': 2162, 'hed': 2072, 'bourne': 554, 'sequels': 3886, 'ps': 3453, 'shower': 3957, 'bride': 577, 'photographer': 3259, 'frankly': 1823, 'chicks': 787, 'choose': 799, 'conversations': 981, 'stargate': 4151, 'scores': 3823, 'italy': 2368, 'pays': 3218, 'directly': 1263, 'turner': 4607, 'saving': 3797, 'buffs': 612, 'franco': 1820, 'causes': 725, 'minimal': 2855, 'protagonists': 3442, 'horse': 2170, 'jesus': 2399, 'morning': 2906, 'jungle': 2434, 'demons': 1178, 'detailed': 1218, 'visuals': 4759, 'library': 2589, 'chair': 742, 'shallow': 3917, 'demand': 1174, 'balance': 387, 'circle': 821, 'stinks': 4192, 'exposure': 1599, 'split': 4120, 'medical': 2790, 'bugs': 613, 'junior': 2435, 'wrestling': 4966, 'notably': 3042, 'couldve': 1009, 'masterpieces': 2760, 'horrific': 2166, 'sensitive': 3879, 'grow': 1982, 'annie': 247, 'breathtaking': 574, 'dawn': 1127, 'chilling': 794, '3rd': 47, 'method': 2824, 'angles': 237, 'adding': 117, 'vulnerable': 4768, 'cook': 988, 'purchased': 3470, 'shadow': 3912, 'darkness': 1117, 'exists': 1573, 'devil': 1228, 'simplistic': 3985, 'celebrity': 729, 'curious': 1083, 'represent': 3637, 'count': 1010, 'hamilton': 2012, 'shark': 3921, '2003': 33, 'angels': 234, 'unrealistic': 4677, 'che': 773, 'margaret': 2735, 'duo': 1386, 'digital': 1251, 'revolutionary': 3681, 'shirt': 3937, 'solely': 4056, 'enemies': 1476, 'repetitive': 3633, 'bush': 632, 'misery': 2865, 'variety': 4714, 'replaced': 3634, 'press': 3379, 'shorts': 3948, 'generic': 1885, 'author': 359, 'manager': 2724, 'unintentional': 4658, 'regarding': 3589, 'mate': 2765, 'grey': 1973, 'china': 795, 'describe': 1194, 'occasion': 3073, 'illness': 2230, 'shining': 3933, 'mile': 2842, 'redemption': 3578, 'stanley': 4148, 'complexity': 924, 'mountain': 2917, 'sneak': 4043, 'floor': 1759, 'tied': 4489, 'dear': 1140, 'handful': 2017, 'driver': 1366, 'spain': 4091, 'dedicated': 1153, 'bergman': 466, 'roots': 3738, 'scripted': 3835, 'angeles': 233, 'prisoners': 3403, 'unit': 4663, 'chest': 784, 'generated': 1882, 'prisoner': 3402, 'beer': 439, 'buddies': 608, 'concerns': 934, 'position': 3345, 'heroine': 2091, 'julia': 2427, 'awfully': 373, 'expressed': 1601, 'miracle': 2860, 'tradition': 4549, 'wholly': 4874, 'unoriginal': 4673, 'millions': 2848, 'guarantee': 1987, 'anderson': 227, 'cooper': 990, 'burton': 630, 'sucks': 4271, 'eighties': 1437, 'performing': 3233, 'doors': 1329, 'calling': 653, 'wondered': 4927, 'cliche': 843, 'bela': 450, 'lugosi': 2686, 'maker': 2714, 'hal': 2006, 'internet': 2327, 'reached': 3537, 'helicopter': 2076, 'legendary': 2565, 'blunt': 520, 'olivier': 3103, 'chess': 783, 'sellers': 3872, 'honesty': 2148, 'advice': 133, 'display': 1291, 'stevens': 4183, 'choreography': 802, 'secrets': 3852, 'hunt': 2198, 'angel': 231, 'cure': 1081, 'twenty': 4612, 'tunes': 4603, 'format': 1799, 'hip': 2114, 'letter': 2581, 'jaw': 2384, 'conceived': 929, 'defense': 1159, 'murderer': 2941, 'couples': 1017, 'skip': 4016, 'convey': 982, 'liking': 2604, 'enter': 1494, 'slap': 4018, 'hammer': 2014, 'undoubtedly': 4648, 'alternate': 200, 'idiots': 2220, 'meat': 2787, 'orson': 3132, 'opposed': 3122, 'exposed': 1598, 'haunted': 2050, 'beats': 426, 'borrowed': 545, 'waited': 4771, 'host': 2173, 'trick': 4582, 'carefully': 689, 'barry': 401, 'escaped': 1518, 'lacked': 2503, 'formula': 1802, 'visits': 4756, 'bacall': 377, 'victor': 4731, 'beast': 422, 'staying': 4168, 'views': 4742, 'mental': 2808, 'depicts': 1186, 'parent': 3187, 'prostitute': 3440, 'courage': 1018, 'screens': 3832, 'unreal': 4676, 'godfather': 1927, 'panic': 3181, 'drags': 1345, 'decisions': 1152, 'react': 3540, 'reactions': 3542, 'overlook': 3153, 'belongs': 460, 'demands': 1175, 'sidney': 3968, 'afford': 138, 'holes': 2133, 'rocket': 3721, 'spirits': 4115, 'discuss': 1283, 'rambo': 3511, 'jet': 2400, 'li': 2587, 'mask': 2752, 'choreographed': 801, 'types': 4622, 'fascinated': 1657, 'facing': 1620, 'lit': 2621, 'dreary': 1356, 'dramas': 1347, 'response': 3654, 'melodramatic': 2798, 'incident': 2260, 'allen': 188, 'married': 2744, 'ad': 110, 'accidentally': 85, 'stellar': 4174, 'strictly': 4223, 'seventies': 3904, 'basketball': 409, 'spending': 4106, 'shortly': 3947, 'football': 1783, 'secretly': 3851, 'chaplin': 756, 'forty': 1807, 'groups': 1981, 'condition': 937, 'kingdom': 2480, 'gag': 1861, 'nostalgia': 3038, 'mothers': 2912, 'shirley': 3936, 'mundane': 2938, 'breath': 573, 'blows': 517, 'titled': 4505, 'devils': 1229, 'strike': 4224, 'structure': 4233, 'month': 2896, 'eastwood': 1409, 'everyones': 1543, 'highest': 2102, 'chicago': 785, 'minimum': 2856, 'fill': 1714, 'intentions': 2321, 'hitting': 2126, 'advertising': 132, 'spread': 4133, 'miike': 2837, 'messed': 2821, 'league': 2549, 'pig': 3274, 'theyll': 4444, 'shake': 3914, 'laura': 2536, 'stealing': 4171, 'raise': 3507, 'ridden': 3691, 'equipment': 1511, 'laughably': 2531, 'childish': 791, 'parker': 3191, 'models': 2881, 'goal': 1925, 'intimate': 2331, 'ruth': 3763, 'maria': 2736, 'lena': 2568, 'moody': 2899, 'considerable': 950, 'exceptional': 1558, 'heat': 2067, 'dances': 1106, 'bits': 490, 'genres': 1889, 'signed': 3971, 'smoking': 4040, 'reasonably': 3559, 'prize': 3405, 'multi': 2935, 'plant': 3293, 'leg': 2562, 'entry': 1504, 'paltrow': 3178, 'chick': 786, 'rubber': 3747, 'witnessed': 4915, 'drop': 1369, 'cup': 1080, 'gene': 1879, 'samurai': 3779, 'experiments': 1584, 'bumbling': 622, 'catchy': 717, 'ripped': 3701, 'lately': 2524, 'identify': 2216, 'maintain': 2710, 'danger': 1109, 'responsibility': 3655, 'woody': 4936, 'tortured': 4530, 'tricks': 4583, 'ted': 4386, 'willis': 4890, 'description': 1197, 'train': 4556, 'seagal': 3839, 'uwe': 4703, 'boll': 529, 'classical': 836, 'outcome': 3142, 'sacrifice': 3766, 'kicked': 2461, 'grim': 1974, 'hamlet': 2013, 'hudson': 2184, 'exceptionally': 1559, 'shocked': 3939, 'assumed': 329, 'ultra': 4629, 'dynamic': 1394, 'amateurish': 207, 'titanic': 4503, 'convince': 983, 'dubbing': 1380, '80': 58, 'insult': 2309, 'object': 3066, 'easier': 1405, '3d': 46, 'sounded': 4082, 'hitchcock': 2123, 'voight': 4764, 'brooklyn': 595, 'kicking': 2462, 'shadows': 3913, 'guessed': 1990, 'behave': 445, 'dvds': 1392, 'castle': 712, 'button': 639, 'transformation': 4560, 'jake': 2377, 'plight': 3308, 'rubbish': 3748, 'reel': 3581, 'urge': 4689, 'randomly': 3515, 'ashamed': 312, 'illogical': 2231, 'foul': 1810, 'tooth': 4524, 'thru': 4483, 'sticks': 4186, 'clean': 838, 'mall': 2720, 'eaten': 1412, 'miller': 2846, 'sin': 3988, 'voiced': 4762, 'endings': 1472, 'mummy': 2937, 'ford': 1789, 'broadcast': 591, 'rick': 3689, 'jamie': 2379, 'emphasis': 1463, 'tracy': 4546, '75': 57, 'argue': 290, 'card': 681, 'estate': 1525, 'writes': 4970, 'cheated': 775, 'loosely': 2651, 'poem': 3312, 'apes': 267, 'murderous': 2942, 'nowadays': 3055, 'del': 1165, 'amounts': 220, 'subsequent': 4257, 'notorious': 3051, 'explicit': 1591, 'guilt': 1994, 'holmes': 2139, 'cox': 1026, 'paulie': 3215, 'nyc': 3065, 'ourselves': 3140, 'access': 83, 'adequate': 120, 'ramones': 3512, 'joey': 2408, 'edition': 1422, 'pulling': 3463, 'comparing': 913, 'derek': 1192, 'jessica': 2398, 'simpson': 3987, 'jesse': 2397, 'valuable': 4708, 'chooses': 800, 'desperation': 1210, 'receive': 3563, 'marks': 2742, 'elvis': 1451, 'dignity': 1252, 'empathy': 1462, 'hopeless': 2158, 'crack': 1027, 'mechanical': 2788, 'matched': 2763, 'mistress': 2874, 'boot': 538, 'defined': 1160, 'bette': 471, 'vegas': 4717, 'hysterical': 2208, 'wives': 4918, 'atmospheric': 334, 'females': 1694, 'mentions': 2813, 'assistant': 326, 'polished': 3323, 'ruthless': 3764, 'warriors': 4803, 'dick': 1239, 'vaguely': 4706, 'nostalgic': 3039, 'occur': 3076, 'wrapped': 4964, 'smoke': 4039, 'carried': 698, 'mars': 2746, 'scenario': 3808, 'regret': 3591, 'blacks': 494, 'incompetent': 2266, 'appalling': 268, 'showdown': 3955, 'todd': 4510, 'rid': 3690, 'splendid': 4119, 'wounded': 4961, 'altogether': 202, 'mildred': 2841, 'wave': 4818, 'namely': 2962, 'downright': 1337, 'kicks': 2463, 'trained': 4557, 'hire': 2116, 'careful': 688, 'vincent': 4746, 'progresses': 3426, 'distinct': 1296, 'trademark': 4548, 'population': 3335, 'incomprehensible': 2267, 'lynch': 2691, 'outfit': 3144, 'tremendous': 4579, 'choices': 798, 'golden': 1934, 'kapoor': 2443, 'attraction': 350, 'unaware': 4632, 'realizes': 3554, 'stilted': 4190, 'depressed': 1187, 'partly': 3197, 'laws': 2540, 'scientific': 3817, 'aunt': 355, 'construction': 960, 'fisher': 1739, 'classes': 834, 'amitabh': 216, 'titles': 4506, 'sincere': 3991, 'scientists': 3819, 'climactic': 848, 'frequent': 1831, 'represented': 3638, 'ranks': 3519, 'edie': 1419, 'kennedy': 2454, 'norman': 3035, 'carradine': 695, 'bag': 384, 'traveling': 4568, 'cole': 873, 'craft': 1028, 'comical': 894, 'introduce': 2336, 'feed': 1683, 'kane': 2442, 'cabin': 643, 'wallace': 4782, 'marry': 2745, 'distant': 1295, 'fooled': 1780, 'embarrassment': 1455, 'ingredients': 2289, 'property': 3438, 'map': 2733, 'wreck': 4965, 'promises': 3432, 'universal': 4665, 'abraham': 69, 'invasion': 2340, 'fix': 1744, 'celluloid': 731, 'communist': 907, 'april': 284, 'profound': 3423, 'restored': 3659, 'enjoys': 1489, 'opinions': 3119, 'timothy': 4499, 'rush': 3759, 'dressing': 1359, 'crucial': 1068, 'lyrics': 2692, 'poster': 3353, 'errors': 1516, 'kay': 2447, 'francis': 1818, 'americas': 215, 'satan': 3787, 'centers': 734, 'excessive': 1560, 'alfred': 181, 'akshay': 169, 'perry': 3237, 'chased': 770, 'via': 4726, 'gadget': 1860, 'caliber': 649, 'jaws': 2385, 'experiment': 1583, 'justify': 2439, 'cusack': 1088, 'jonathan': 2417, 'airplane': 166, 'constructed': 959, 'engage': 1479, 'morality': 2903, 'sink': 3999, 'robbery': 3711, 'karloff': 2445, 'doom': 1326, 'philosophical': 3253, 'philosophy': 3254, 'compelled': 915, 'dinosaur': 1255, 'clip': 851, 'mentioning': 2812, 'bull': 619, 'elvira': 1450, 'bone': 533, 'leo': 2571, '1968': 16, 'symbolism': 4341, 'critic': 1061, 'sport': 4129, 'doll': 1313, 'blues': 519, 'innovative': 2295, 'goodness': 1938, 'respected': 3653, 'sarah': 3785, 'pro': 3406, 'jeremy': 2394, 'amanda': 205, 'silver': 3977, 'lumet': 2688, 'faster': 1662, 'modesty': 2883, 'professor': 3422, 'dalton': 1098, 'swedish': 4335, 'seed': 3856, 'montage': 2894, 'lincoln': 2608, 'staff': 4138, 'focusing': 1769, 'pokemon': 3320, 'witches': 4910, 'judy': 2426, 'phony': 3256, 'lloyd': 2630, 'atlantis': 332, 'lucas': 2680, 'tomatoes': 4515, 'historically': 2120, 'ham': 2011, 'block': 508, 'underlying': 4641, 'spider': 4109, 'streisand': 4218, 'losers': 2656, 'politically': 3325, 'attached': 336, 'columbo': 881, 'gotta': 1946, 'championship': 745, 'recognition': 3568, 'deaf': 1134, 'literature': 2623, 'dickens': 1240, 'glover': 1923, 'joined': 2413, 'warming': 4795, 'vast': 4716, 'astaire': 330, 'abilities': 64, 'kissing': 2484, 'balls': 390, 'myers': 2952, 'monk': 2889, 'survival': 4320, 'edgar': 1417, 'rangers': 3517, 'gundam': 1997, 'amy': 222, 'whale': 4857, 'hello': 2078, 'styles': 4250, 'destiny': 1212, 'instinct': 2308, 'peters': 3248, 'blake': 498, 'doomed': 1327, 'purchase': 3469, 'cell': 730, 'scooby': 3820, 'doo': 1325, 'drawing': 1350, 'species': 4098, 'attend': 344, 'saga': 3773, 'staring': 4152, 'wore': 4939, 'hung': 2197, 'khan': 2459, 'sue': 4274, 'homer': 2144, 'hank': 2024, 'wishing': 4907, 'crush': 1072, 'mysteries': 2954, 'melting': 2799, 'unseen': 4678, 'gerard': 1895, 'frankenstein': 1822, 'exotic': 1574, 'psychic': 3456, 'swim': 4337, 'yesterday': 4983, 'inducing': 2279, 'troubles': 4594, 'principal': 3398, 'blob': 507, '1983': 22, 'formulaic': 1803, 'fields': 1705, 'gandhi': 1866, 'marty': 2749, 'eyre': 1614, 'rochester': 3719, 'davies': 1125, 'hart': 2041, 'bettie': 473, 'ballet': 389, 'grinch': 1975}\n"
     ]
    }
   ],
   "source": [
    "print(str(vocabulary))"
   ]
  },
  {
   "cell_type": "markdown",
   "metadata": {},
   "source": [
    "Once you have added the endpoint name to the Lambda function, click on **Save**. Your Lambda function is now up and running. Next we need to create a way for our web app to execute the Lambda function."
   ]
  },
  {
   "cell_type": "markdown",
   "metadata": {},
   "source": [
    "### Setting up API Gateway\n",
    "\n",
    "Now that our Lambda function is set up, it is time to create a new API using API Gateway that will trigger the Lambda function we have just created.\n",
    "\n",
    "Using AWS Console, navigate to **Amazon API Gateway** and then click on **Get started**.\n",
    "\n",
    "On the next page, make sure that **New API** is selected and give the new api a name, for example, `sentiment_analysis_web_app`. Then, click on **Create API**.\n",
    "\n",
    "Now we have created an API, however it doesn't currently do anything. What we want it to do is to trigger the Lambda function that we created earlier.\n",
    "\n",
    "Select the **Actions** dropdown menu and click **Create Method**. A new blank method will be created, select its dropdown menu and select **POST**, then click on the check mark beside it.\n",
    "\n",
    "For the integration point, make sure that **Lambda Function** is selected and click on the **Use Lambda Proxy integration**. This option makes sure that the data that is sent to the API is then sent directly to the Lambda function with no processing. It also means that the return value must be a proper response object as it will also not be processed by API Gateway.\n",
    "\n",
    "Type the name of the Lambda function you created earlier into the **Lambda Function** text entry box and then click on **Save**. Click on **OK** in the pop-up box that then appears, giving permission to API Gateway to invoke the Lambda function you created.\n",
    "\n",
    "The last step in creating the API Gateway is to select the **Actions** dropdown and click on **Deploy API**. You will need to create a new Deployment stage and name it anything you like, for example `prod`.\n",
    "\n",
    "You have now successfully set up a public API to access your SageMaker model. Make sure to copy or write down the URL provided to invoke your newly created public API as this will be needed in the next step. This URL can be found at the top of the page, highlighted in blue next to the text **Invoke URL**."
   ]
  },
  {
   "cell_type": "markdown",
   "metadata": {},
   "source": [
    "## Step 7: Deploying our web app\n",
    "\n",
    "Now that we have a publicly available API, we can start using it in a web app. For our purposes, we have provided a simple static html file which can make use of the public api you created earlier.\n",
    "\n",
    "In the `website` folder there should be a file called `index.html`. Download the file to your computer and open that file up in a text editor of your choice. There should be a line which contains **\\*\\*REPLACE WITH PUBLIC API URL\\*\\***. Replace this string with the url that you wrote down in the last step and then save the file.\n",
    "\n",
    "Now, if you open `index.html` on your local computer, your browser will behave as a local web server and you can use the provided site to interact with your SageMaker model.\n",
    "\n",
    "If you'd like to go further, you can host this html file anywhere you'd like, for example using github or hosting a static site on Amazon's S3. Once you have done this you can share the link with anyone you'd like and have them play with it too!\n",
    "\n",
    "> **Important Note** In order for the web app to communicate with the SageMaker endpoint, the endpoint has to actually be deployed and running. This means that you are paying for it. Make sure that the endpoint is running when you want to use the web app but that you shut it down when you don't need it, otherwise you will end up with a surprisingly large AWS bill."
   ]
  },
  {
   "cell_type": "markdown",
   "metadata": {},
   "source": [
    "### Delete the endpoint\n",
    "\n",
    "Remember to always shut down your endpoint if you are no longer using it. You are charged for the length of time that the endpoint is running so if you forget and leave it on you could end up with an unexpectedly large bill."
   ]
  },
  {
   "cell_type": "code",
   "execution_count": 50,
   "metadata": {},
   "outputs": [],
   "source": [
    "xgb_predictor.delete_endpoint()"
   ]
  },
  {
   "cell_type": "markdown",
   "metadata": {},
   "source": [
    "## Optional: Clean up\n",
    "\n",
    "The default notebook instance on SageMaker doesn't have a lot of excess disk space available. As you continue to complete and execute notebooks you will eventually fill up this disk space, leading to errors which can be difficult to diagnose. Once you are completely finished using a notebook it is a good idea to remove the files that you created along the way. Of course, you can do this from the terminal or from the notebook hub if you would like. The cell below contains some commands to clean up the created files from within the notebook."
   ]
  },
  {
   "cell_type": "code",
   "execution_count": 52,
   "metadata": {},
   "outputs": [
    {
     "ename": "OSError",
     "evalue": "[Errno 12] Cannot allocate memory",
     "output_type": "error",
     "traceback": [
      "\u001b[0;31m---------------------------------------------------------------------------\u001b[0m",
      "\u001b[0;31mOSError\u001b[0m                                   Traceback (most recent call last)",
      "\u001b[0;32m<ipython-input-52-2c87d8eefdf2>\u001b[0m in \u001b[0;36m<module>\u001b[0;34m()\u001b[0m\n\u001b[1;32m      1\u001b[0m \u001b[0;31m# First we will remove all of the files contained in the data_dir directory\u001b[0m\u001b[0;34m\u001b[0m\u001b[0;34m\u001b[0m\u001b[0m\n\u001b[0;32m----> 2\u001b[0;31m \u001b[0mget_ipython\u001b[0m\u001b[0;34m(\u001b[0m\u001b[0;34m)\u001b[0m\u001b[0;34m.\u001b[0m\u001b[0msystem\u001b[0m\u001b[0;34m(\u001b[0m\u001b[0;34m'rm $data_dir/*'\u001b[0m\u001b[0;34m)\u001b[0m\u001b[0;34m\u001b[0m\u001b[0m\n\u001b[0m\u001b[1;32m      3\u001b[0m \u001b[0;34m\u001b[0m\u001b[0m\n\u001b[1;32m      4\u001b[0m \u001b[0;31m# And then we delete the directory itself\u001b[0m\u001b[0;34m\u001b[0m\u001b[0;34m\u001b[0m\u001b[0m\n\u001b[1;32m      5\u001b[0m \u001b[0mget_ipython\u001b[0m\u001b[0;34m(\u001b[0m\u001b[0;34m)\u001b[0m\u001b[0;34m.\u001b[0m\u001b[0msystem\u001b[0m\u001b[0;34m(\u001b[0m\u001b[0;34m'rmdir $data_dir'\u001b[0m\u001b[0;34m)\u001b[0m\u001b[0;34m\u001b[0m\u001b[0m\n",
      "\u001b[0;32m~/anaconda3/envs/python3/lib/python3.6/site-packages/IPython/core/interactiveshell.py\u001b[0m in \u001b[0;36msystem_piped\u001b[0;34m(self, cmd)\u001b[0m\n\u001b[1;32m   2259\u001b[0m         \u001b[0;31m# a non-None value would trigger :func:`sys.displayhook` calls.\u001b[0m\u001b[0;34m\u001b[0m\u001b[0;34m\u001b[0m\u001b[0m\n\u001b[1;32m   2260\u001b[0m         \u001b[0;31m# Instead, we store the exit_code in user_ns.\u001b[0m\u001b[0;34m\u001b[0m\u001b[0;34m\u001b[0m\u001b[0m\n\u001b[0;32m-> 2261\u001b[0;31m         \u001b[0mself\u001b[0m\u001b[0;34m.\u001b[0m\u001b[0muser_ns\u001b[0m\u001b[0;34m[\u001b[0m\u001b[0;34m'_exit_code'\u001b[0m\u001b[0;34m]\u001b[0m \u001b[0;34m=\u001b[0m \u001b[0msystem\u001b[0m\u001b[0;34m(\u001b[0m\u001b[0mself\u001b[0m\u001b[0;34m.\u001b[0m\u001b[0mvar_expand\u001b[0m\u001b[0;34m(\u001b[0m\u001b[0mcmd\u001b[0m\u001b[0;34m,\u001b[0m \u001b[0mdepth\u001b[0m\u001b[0;34m=\u001b[0m\u001b[0;36m1\u001b[0m\u001b[0;34m)\u001b[0m\u001b[0;34m)\u001b[0m\u001b[0;34m\u001b[0m\u001b[0m\n\u001b[0m\u001b[1;32m   2262\u001b[0m \u001b[0;34m\u001b[0m\u001b[0m\n\u001b[1;32m   2263\u001b[0m     \u001b[0;32mdef\u001b[0m \u001b[0msystem_raw\u001b[0m\u001b[0;34m(\u001b[0m\u001b[0mself\u001b[0m\u001b[0;34m,\u001b[0m \u001b[0mcmd\u001b[0m\u001b[0;34m)\u001b[0m\u001b[0;34m:\u001b[0m\u001b[0;34m\u001b[0m\u001b[0m\n",
      "\u001b[0;32m~/anaconda3/envs/python3/lib/python3.6/site-packages/IPython/utils/_process_posix.py\u001b[0m in \u001b[0;36msystem\u001b[0;34m(self, cmd)\u001b[0m\n\u001b[1;32m    154\u001b[0m                 \u001b[0mchild\u001b[0m \u001b[0;34m=\u001b[0m \u001b[0mpexpect\u001b[0m\u001b[0;34m.\u001b[0m\u001b[0mspawnb\u001b[0m\u001b[0;34m(\u001b[0m\u001b[0mself\u001b[0m\u001b[0;34m.\u001b[0m\u001b[0msh\u001b[0m\u001b[0;34m,\u001b[0m \u001b[0margs\u001b[0m\u001b[0;34m=\u001b[0m\u001b[0;34m[\u001b[0m\u001b[0;34m'-c'\u001b[0m\u001b[0;34m,\u001b[0m \u001b[0mcmd\u001b[0m\u001b[0;34m]\u001b[0m\u001b[0;34m)\u001b[0m \u001b[0;31m# Pexpect-U\u001b[0m\u001b[0;34m\u001b[0m\u001b[0m\n\u001b[1;32m    155\u001b[0m             \u001b[0;32melse\u001b[0m\u001b[0;34m:\u001b[0m\u001b[0;34m\u001b[0m\u001b[0m\n\u001b[0;32m--> 156\u001b[0;31m                 \u001b[0mchild\u001b[0m \u001b[0;34m=\u001b[0m \u001b[0mpexpect\u001b[0m\u001b[0;34m.\u001b[0m\u001b[0mspawn\u001b[0m\u001b[0;34m(\u001b[0m\u001b[0mself\u001b[0m\u001b[0;34m.\u001b[0m\u001b[0msh\u001b[0m\u001b[0;34m,\u001b[0m \u001b[0margs\u001b[0m\u001b[0;34m=\u001b[0m\u001b[0;34m[\u001b[0m\u001b[0;34m'-c'\u001b[0m\u001b[0;34m,\u001b[0m \u001b[0mcmd\u001b[0m\u001b[0;34m]\u001b[0m\u001b[0;34m)\u001b[0m  \u001b[0;31m# Vanilla Pexpect\u001b[0m\u001b[0;34m\u001b[0m\u001b[0m\n\u001b[0m\u001b[1;32m    157\u001b[0m             \u001b[0mflush\u001b[0m \u001b[0;34m=\u001b[0m \u001b[0msys\u001b[0m\u001b[0;34m.\u001b[0m\u001b[0mstdout\u001b[0m\u001b[0;34m.\u001b[0m\u001b[0mflush\u001b[0m\u001b[0;34m\u001b[0m\u001b[0m\n\u001b[1;32m    158\u001b[0m             \u001b[0;32mwhile\u001b[0m \u001b[0;32mTrue\u001b[0m\u001b[0;34m:\u001b[0m\u001b[0;34m\u001b[0m\u001b[0m\n",
      "\u001b[0;32m~/anaconda3/envs/python3/lib/python3.6/site-packages/pexpect/pty_spawn.py\u001b[0m in \u001b[0;36m__init__\u001b[0;34m(self, command, args, timeout, maxread, searchwindowsize, logfile, cwd, env, ignore_sighup, echo, preexec_fn, encoding, codec_errors, dimensions, use_poll)\u001b[0m\n\u001b[1;32m    202\u001b[0m             \u001b[0mself\u001b[0m\u001b[0;34m.\u001b[0m\u001b[0mname\u001b[0m \u001b[0;34m=\u001b[0m \u001b[0;34m'<pexpect factory incomplete>'\u001b[0m\u001b[0;34m\u001b[0m\u001b[0m\n\u001b[1;32m    203\u001b[0m         \u001b[0;32melse\u001b[0m\u001b[0;34m:\u001b[0m\u001b[0;34m\u001b[0m\u001b[0m\n\u001b[0;32m--> 204\u001b[0;31m             \u001b[0mself\u001b[0m\u001b[0;34m.\u001b[0m\u001b[0m_spawn\u001b[0m\u001b[0;34m(\u001b[0m\u001b[0mcommand\u001b[0m\u001b[0;34m,\u001b[0m \u001b[0margs\u001b[0m\u001b[0;34m,\u001b[0m \u001b[0mpreexec_fn\u001b[0m\u001b[0;34m,\u001b[0m \u001b[0mdimensions\u001b[0m\u001b[0;34m)\u001b[0m\u001b[0;34m\u001b[0m\u001b[0m\n\u001b[0m\u001b[1;32m    205\u001b[0m         \u001b[0mself\u001b[0m\u001b[0;34m.\u001b[0m\u001b[0muse_poll\u001b[0m \u001b[0;34m=\u001b[0m \u001b[0muse_poll\u001b[0m\u001b[0;34m\u001b[0m\u001b[0m\n\u001b[1;32m    206\u001b[0m \u001b[0;34m\u001b[0m\u001b[0m\n",
      "\u001b[0;32m~/anaconda3/envs/python3/lib/python3.6/site-packages/pexpect/pty_spawn.py\u001b[0m in \u001b[0;36m_spawn\u001b[0;34m(self, command, args, preexec_fn, dimensions)\u001b[0m\n\u001b[1;32m    301\u001b[0m \u001b[0;34m\u001b[0m\u001b[0m\n\u001b[1;32m    302\u001b[0m         self.ptyproc = self._spawnpty(self.args, env=self.env,\n\u001b[0;32m--> 303\u001b[0;31m                                      cwd=self.cwd, **kwargs)\n\u001b[0m\u001b[1;32m    304\u001b[0m \u001b[0;34m\u001b[0m\u001b[0m\n\u001b[1;32m    305\u001b[0m         \u001b[0mself\u001b[0m\u001b[0;34m.\u001b[0m\u001b[0mpid\u001b[0m \u001b[0;34m=\u001b[0m \u001b[0mself\u001b[0m\u001b[0;34m.\u001b[0m\u001b[0mptyproc\u001b[0m\u001b[0;34m.\u001b[0m\u001b[0mpid\u001b[0m\u001b[0;34m\u001b[0m\u001b[0m\n",
      "\u001b[0;32m~/anaconda3/envs/python3/lib/python3.6/site-packages/pexpect/pty_spawn.py\u001b[0m in \u001b[0;36m_spawnpty\u001b[0;34m(self, args, **kwargs)\u001b[0m\n\u001b[1;32m    312\u001b[0m     \u001b[0;32mdef\u001b[0m \u001b[0m_spawnpty\u001b[0m\u001b[0;34m(\u001b[0m\u001b[0mself\u001b[0m\u001b[0;34m,\u001b[0m \u001b[0margs\u001b[0m\u001b[0;34m,\u001b[0m \u001b[0;34m**\u001b[0m\u001b[0mkwargs\u001b[0m\u001b[0;34m)\u001b[0m\u001b[0;34m:\u001b[0m\u001b[0;34m\u001b[0m\u001b[0m\n\u001b[1;32m    313\u001b[0m         \u001b[0;34m'''Spawn a pty and return an instance of PtyProcess.'''\u001b[0m\u001b[0;34m\u001b[0m\u001b[0m\n\u001b[0;32m--> 314\u001b[0;31m         \u001b[0;32mreturn\u001b[0m \u001b[0mptyprocess\u001b[0m\u001b[0;34m.\u001b[0m\u001b[0mPtyProcess\u001b[0m\u001b[0;34m.\u001b[0m\u001b[0mspawn\u001b[0m\u001b[0;34m(\u001b[0m\u001b[0margs\u001b[0m\u001b[0;34m,\u001b[0m \u001b[0;34m**\u001b[0m\u001b[0mkwargs\u001b[0m\u001b[0;34m)\u001b[0m\u001b[0;34m\u001b[0m\u001b[0m\n\u001b[0m\u001b[1;32m    315\u001b[0m \u001b[0;34m\u001b[0m\u001b[0m\n\u001b[1;32m    316\u001b[0m     \u001b[0;32mdef\u001b[0m \u001b[0mclose\u001b[0m\u001b[0;34m(\u001b[0m\u001b[0mself\u001b[0m\u001b[0;34m,\u001b[0m \u001b[0mforce\u001b[0m\u001b[0;34m=\u001b[0m\u001b[0;32mTrue\u001b[0m\u001b[0;34m)\u001b[0m\u001b[0;34m:\u001b[0m\u001b[0;34m\u001b[0m\u001b[0m\n",
      "\u001b[0;32m~/anaconda3/envs/python3/lib/python3.6/site-packages/ptyprocess/ptyprocess.py\u001b[0m in \u001b[0;36mspawn\u001b[0;34m(cls, argv, cwd, env, echo, preexec_fn, dimensions)\u001b[0m\n\u001b[1;32m    220\u001b[0m \u001b[0;34m\u001b[0m\u001b[0m\n\u001b[1;32m    221\u001b[0m         \u001b[0;32mif\u001b[0m \u001b[0muse_native_pty_fork\u001b[0m\u001b[0;34m:\u001b[0m\u001b[0;34m\u001b[0m\u001b[0m\n\u001b[0;32m--> 222\u001b[0;31m             \u001b[0mpid\u001b[0m\u001b[0;34m,\u001b[0m \u001b[0mfd\u001b[0m \u001b[0;34m=\u001b[0m \u001b[0mpty\u001b[0m\u001b[0;34m.\u001b[0m\u001b[0mfork\u001b[0m\u001b[0;34m(\u001b[0m\u001b[0;34m)\u001b[0m\u001b[0;34m\u001b[0m\u001b[0m\n\u001b[0m\u001b[1;32m    223\u001b[0m         \u001b[0;32melse\u001b[0m\u001b[0;34m:\u001b[0m\u001b[0;34m\u001b[0m\u001b[0m\n\u001b[1;32m    224\u001b[0m             \u001b[0;31m# Use internal fork_pty, for Solaris\u001b[0m\u001b[0;34m\u001b[0m\u001b[0;34m\u001b[0m\u001b[0m\n",
      "\u001b[0;32m~/anaconda3/envs/python3/lib/python3.6/pty.py\u001b[0m in \u001b[0;36mfork\u001b[0;34m()\u001b[0m\n\u001b[1;32m     95\u001b[0m \u001b[0;34m\u001b[0m\u001b[0m\n\u001b[1;32m     96\u001b[0m     \u001b[0mmaster_fd\u001b[0m\u001b[0;34m,\u001b[0m \u001b[0mslave_fd\u001b[0m \u001b[0;34m=\u001b[0m \u001b[0mopenpty\u001b[0m\u001b[0;34m(\u001b[0m\u001b[0;34m)\u001b[0m\u001b[0;34m\u001b[0m\u001b[0m\n\u001b[0;32m---> 97\u001b[0;31m     \u001b[0mpid\u001b[0m \u001b[0;34m=\u001b[0m \u001b[0mos\u001b[0m\u001b[0;34m.\u001b[0m\u001b[0mfork\u001b[0m\u001b[0;34m(\u001b[0m\u001b[0;34m)\u001b[0m\u001b[0;34m\u001b[0m\u001b[0m\n\u001b[0m\u001b[1;32m     98\u001b[0m     \u001b[0;32mif\u001b[0m \u001b[0mpid\u001b[0m \u001b[0;34m==\u001b[0m \u001b[0mCHILD\u001b[0m\u001b[0;34m:\u001b[0m\u001b[0;34m\u001b[0m\u001b[0m\n\u001b[1;32m     99\u001b[0m         \u001b[0;31m# Establish a new session.\u001b[0m\u001b[0;34m\u001b[0m\u001b[0;34m\u001b[0m\u001b[0m\n",
      "\u001b[0;31mOSError\u001b[0m: [Errno 12] Cannot allocate memory"
     ]
    }
   ],
   "source": [
    "# First we will remove all of the files contained in the data_dir directory\n",
    "!rm $data_dir/*\n",
    "\n",
    "# And then we delete the directory itself\n",
    "!rmdir $data_dir\n",
    "\n",
    "# Similarly we remove the files in the cache_dir directory and the directory itself\n",
    "!rm $cache_dir/*\n",
    "!rmdir $cache_dir"
   ]
  },
  {
   "cell_type": "code",
   "execution_count": null,
   "metadata": {},
   "outputs": [],
   "source": []
  }
 ],
 "metadata": {
  "kernelspec": {
   "display_name": "conda_python3",
   "language": "python",
   "name": "conda_python3"
  },
  "language_info": {
   "codemirror_mode": {
    "name": "ipython",
    "version": 3
   },
   "file_extension": ".py",
   "mimetype": "text/x-python",
   "name": "python",
   "nbconvert_exporter": "python",
   "pygments_lexer": "ipython3",
   "version": "3.6.5"
  }
 },
 "nbformat": 4,
 "nbformat_minor": 2
}
